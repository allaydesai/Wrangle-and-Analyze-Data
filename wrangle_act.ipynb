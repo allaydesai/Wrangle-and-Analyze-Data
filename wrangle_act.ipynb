{
 "cells": [
  {
   "cell_type": "markdown",
   "metadata": {
    "colab_type": "text",
    "id": "E0kkbqjY16WS"
   },
   "source": [
    "# **Wrangle and Analyze Data**"
   ]
  },
  {
   "cell_type": "markdown",
   "metadata": {},
   "source": [
    "## Table of Contents\n",
    "- [Introduction](#intro)\n",
    "- [Gathering Data](#gatheringdata)\n",
    "- [Asses](#asses)\n",
    "- [Clean](#clean)\n",
    "- [Visualizing Data](#visualize)"
   ]
  },
  {
   "cell_type": "markdown",
   "metadata": {
    "colab_type": "text",
    "id": "VCwbGwPE7l7J"
   },
   "source": [
    "<a id='intro'></a>\n",
    "## Introduction\n",
    "\n",
    "Goal of this project is to gather data from a variety of sources and in a variety of formats, assess its quality and tidiness, then clean it. The dataset that will be wrangled (and analyzed and visualized) is the tweet archive of Twitter user @dog_rates, also known as WeRateDogs. WeRateDogs is a Twitter account that rates people's dogs with a humorous comment about the dog."
   ]
  },
  {
   "cell_type": "code",
   "execution_count": 1,
   "metadata": {
    "colab": {
     "base_uri": "https://localhost:8080/",
     "height": 70
    },
    "colab_type": "code",
    "id": "yIcOgH0e7v9F",
    "outputId": "5dffdd03-4bdb-4f19-cc64-d6e7670d5bff"
   },
   "outputs": [],
   "source": [
    "import numpy as np\n",
    "import pandas as pd\n",
    "import matplotlib.pyplot as plt\n",
    "import seaborn as sns\n",
    "import json\n",
    "import requests\n",
    "import tweepy\n",
    "from os import path\n",
    "import re\n",
    "%matplotlib inline"
   ]
  },
  {
   "cell_type": "markdown",
   "metadata": {
    "colab_type": "text",
    "id": "wnmIoOBg2Vzg"
   },
   "source": [
    "<a id='gatheringdata'></a>\n",
    "## Gathering Data\n",
    "\n",
    "Data was gathered from multiple sources:\n",
    "1. The WeRateDogs Twitter archive: twitter_archive_enhanced.csv provided for this project\n",
    "2. The tweet image predictions: what breed of dog (or other object, animal, etc.) is present in each tweet according to a neural network. This file (image_predictions.tsv) is hosted on Udacity's servers and will be downloaded programmatically.\n",
    "3. Each tweet's entire set of JSON data in a file called tweet_json.txt aquired using tweet IDs in the WeRateDogs Twitter archive\n",
    "\n"
   ]
  },
  {
   "cell_type": "markdown",
   "metadata": {
    "colab_type": "text",
    "id": "X9tf9KBPFmVZ"
   },
   "source": [
    "### Load Data\n",
    "\n",
    "#### WeRateDogs Twitter archive"
   ]
  },
  {
   "cell_type": "code",
   "execution_count": 2,
   "metadata": {
    "colab": {},
    "colab_type": "code",
    "id": "Obnr2GAf2SVa"
   },
   "outputs": [],
   "source": [
    "df_twitter = pd.read_csv('twitter-archive-enhanced.csv')"
   ]
  },
  {
   "cell_type": "code",
   "execution_count": 3,
   "metadata": {
    "colab": {
     "base_uri": "https://localhost:8080/",
     "height": 33
    },
    "colab_type": "code",
    "id": "z7rryIT01z_W",
    "outputId": "68d73ab3-e156-43ca-8ea5-7e2786159036"
   },
   "outputs": [
    {
     "name": "stdout",
     "output_type": "stream",
     "text": [
      "Twitter archive loaded into a dataframe of 2356 rows and 17 columns\n"
     ]
    }
   ],
   "source": [
    "print(f'Twitter archive loaded into a dataframe of {df_twitter.shape[0]} rows and {df_twitter.shape[1]} columns') "
   ]
  },
  {
   "cell_type": "markdown",
   "metadata": {
    "colab_type": "text",
    "id": "tXJmF0GV7gzh"
   },
   "source": [
    "#### Tweet image predictions"
   ]
  },
  {
   "cell_type": "code",
   "execution_count": 4,
   "metadata": {
    "colab": {},
    "colab_type": "code",
    "id": "uF-D9FVl1ebf"
   },
   "outputs": [],
   "source": [
    "if not path.exists('image-predictions.tsv'):\n",
    "    # Sernding HTTP/1.1 request\n",
    "    url = ' https://d17h27t6h515a5.cloudfront.net/topher/2017/August/599fd2ad_image-predictions/image-predictions.tsv'\n",
    "    response = requests.get(url)\n",
    "    # Write to file\n",
    "    with open('image-predictions.tsv', mode ='wb') as file:\n",
    "        file.write(response.content)"
   ]
  },
  {
   "cell_type": "code",
   "execution_count": 5,
   "metadata": {
    "colab": {
     "base_uri": "https://localhost:8080/",
     "height": 33
    },
    "colab_type": "code",
    "id": "ZrgspJAR9HDi",
    "outputId": "c16ab738-78c8-48e0-adeb-998fb1984644"
   },
   "outputs": [
    {
     "name": "stdout",
     "output_type": "stream",
     "text": [
      "Image predictions loaded into a dataframe of 2075 rows and 12 columns\n"
     ]
    }
   ],
   "source": [
    "# check if file created and load\n",
    "if path.exists('image-predictions.tsv'):\n",
    "    df_img_preds = pd.read_csv('image-predictions.tsv', sep='\\t')\n",
    "    print(f'Image predictions loaded into a dataframe of {df_img_preds.shape[0]} rows and {df_img_preds.shape[1]} columns') \n",
    "else:\n",
    "    print('ERROR: file doesnt exist!')"
   ]
  },
  {
   "cell_type": "markdown",
   "metadata": {
    "colab_type": "text",
    "id": "F62-4SpF9GNC"
   },
   "source": [
    "#### Tweets entire JSON data"
   ]
  },
  {
   "cell_type": "code",
   "execution_count": 6,
   "metadata": {
    "colab": {},
    "colab_type": "code",
    "id": "Yt3hY6pU8XDT"
   },
   "outputs": [],
   "source": [
    "# Connecting to twitter API\n",
    "def ConnectToTwitterAPI(consumer_key, consumer_secret, access_token, access_secret):\n",
    "    auth = tweepy.OAuthHandler(consumer_key, consumer_secret)\n",
    "    auth.set_access_token(access_token, access_secret)\n",
    "    api = tweepy.API(auth)\n",
    "    return api\n",
    "\n",
    "def ExtractDataFromApi(tweet_ids):\n",
    "    # loop through them and extract json data\n",
    "    tweet_data = []\n",
    "    for id in tweet_ids:\n",
    "        try:\n",
    "            tweet = api.get_status(id, \n",
    "                                tweet_mode='extended', \n",
    "                                wait_on_rate_limit=True, \n",
    "                                Wait_on_rate_limit_notify=True)\n",
    "            tweet_data.append(tweet)\n",
    "        except:\n",
    "            print(f'Unable to grab data for tweet id {id}')\n",
    "    print(f'Data found for {len(tweet_data)} out of {df_img_preds.shape[0]} tweets')\n",
    "\n",
    "    return tweet_data\n",
    "\n",
    "def WriteTweetDataToJsonFile(tweet_data):\n",
    "    with open('tweet-json.txt', mode = 'w') as file:\n",
    "        json.dump(tweet_data, file)\n",
    "\n",
    "def ReadTweetDataFromJsonFile(file):\n",
    "    with open(file, encoding='utf-8') as json_file:\n",
    "        data = json.load(json_file)\n",
    "    print(f'Read {len(data)} json records from {file}')\n",
    "    return data\n",
    "\n",
    "def LoadJsonToDataFrame(json_data):\n",
    "    tweets = []\n",
    "    for json_tweet in json_data:\n",
    "        tweets.append({\n",
    "            'tweet_id' : json_tweet['id'],\n",
    "            # 'favorited' : json_tweet['favorited'],\n",
    "            # 'retweeted' : json_tweet['retweeted'],\n",
    "            'favorite_count' : json_tweet['favorite_count'],\n",
    "            'retweet_count' : json_tweet['retweet_count'],\n",
    "            'followers_count' : json_tweet['user']['followers_count'],\n",
    "            'friends_count' : json_tweet['user']['friends_count'],\n",
    "            'listed_count' : json_tweet['user']['listed_count'],\n",
    "            'statuses_count': json_tweet['user']['statuses_count']})\n",
    "    df_tweets_api = pd.DataFrame(tweets, columns=['tweet_id' , 'favorite_count', 'retweet_count','followers_count','friends_count', 'listed_count', 'statuses_count'])\n",
    "    \n",
    "    print(f'Tweet data loaded from api into a dataframe of {df_tweets_api.shape[0]} rows and {df_tweets_api.shape[1]} columns') \n",
    "    return df_tweets_api    \n",
    "        \n",
    "\n"
   ]
  },
  {
   "cell_type": "code",
   "execution_count": 7,
   "metadata": {
    "colab": {
     "base_uri": "https://localhost:8080/",
     "height": 50
    },
    "colab_type": "code",
    "id": "aSL8dHwjJAYy",
    "outputId": "e3589230-204e-4f05-d43d-bca983397a22"
   },
   "outputs": [
    {
     "name": "stdout",
     "output_type": "stream",
     "text": [
      "Read 2330 json records from tweet-json.txt\n",
      "Tweet data loaded from api into a dataframe of 2330 rows and 7 columns\n"
     ]
    }
   ],
   "source": [
    "if not path.exists('tweet-json.txt'):\n",
    "    consumer_key = 'PNCHaJoIWwIqgmLwUN4y1eWV2'\n",
    "    consumer_secret = 'S3mGnnYw90IxAVAbdVqvnnLXylkkuczs9QBaoUbGXDak9Rk99s'\n",
    "    access_token = '1265046638852177922-1TpjAzlCNONthmU6NeprTV9uME4qby'\n",
    "    access_secret = '3P3ccncdi6O2aqg6uHELMHFJ9QcoaAXbJFzByigj8z6UX'\n",
    "\n",
    "    api = ConnectToTwitterAPI(consumer_key, consumer_secret, access_token, access_secret)\n",
    "    # extract all the tweetid\n",
    "    tweet_ids = df_twitter['tweet_id']\n",
    "    tweet_data = ExtractDataFromApi(tweet_ids)\n",
    "    # Write tweet data to json file\n",
    "    WriteTweetDataToJsonFile(tweet_data)\n",
    "\n",
    "# Read from json file \n",
    "json_data = ReadTweetDataFromJsonFile('tweet-json.txt')\n",
    "# Load into dataframe\n",
    "df_tweets_api = LoadJsonToDataFrame(json_data)"
   ]
  },
  {
   "cell_type": "markdown",
   "metadata": {
    "colab_type": "text",
    "id": "fzx7VUNB6XkR"
   },
   "source": [
    "<a id='asses'></a>\n",
    "## Assess\n",
    "\n",
    "Lets start with the twitter archive loaded into dataframe "
   ]
  },
  {
   "cell_type": "code",
   "execution_count": 8,
   "metadata": {
    "colab": {
     "base_uri": "https://localhost:8080/",
     "height": 520
    },
    "colab_type": "code",
    "id": "l1mvEUpj7FgU",
    "outputId": "fe9576e3-4d62-4758-e922-4de41b485692"
   },
   "outputs": [
    {
     "data": {
      "text/html": [
       "<div>\n",
       "<style scoped>\n",
       "    .dataframe tbody tr th:only-of-type {\n",
       "        vertical-align: middle;\n",
       "    }\n",
       "\n",
       "    .dataframe tbody tr th {\n",
       "        vertical-align: top;\n",
       "    }\n",
       "\n",
       "    .dataframe thead th {\n",
       "        text-align: right;\n",
       "    }\n",
       "</style>\n",
       "<table border=\"1\" class=\"dataframe\">\n",
       "  <thead>\n",
       "    <tr style=\"text-align: right;\">\n",
       "      <th></th>\n",
       "      <th>tweet_id</th>\n",
       "      <th>in_reply_to_status_id</th>\n",
       "      <th>in_reply_to_user_id</th>\n",
       "      <th>timestamp</th>\n",
       "      <th>source</th>\n",
       "      <th>text</th>\n",
       "      <th>retweeted_status_id</th>\n",
       "      <th>retweeted_status_user_id</th>\n",
       "      <th>retweeted_status_timestamp</th>\n",
       "      <th>expanded_urls</th>\n",
       "      <th>rating_numerator</th>\n",
       "      <th>rating_denominator</th>\n",
       "      <th>name</th>\n",
       "      <th>doggo</th>\n",
       "      <th>floofer</th>\n",
       "      <th>pupper</th>\n",
       "      <th>puppo</th>\n",
       "    </tr>\n",
       "  </thead>\n",
       "  <tbody>\n",
       "    <tr>\n",
       "      <th>776</th>\n",
       "      <td>776113305656188928</td>\n",
       "      <td>NaN</td>\n",
       "      <td>NaN</td>\n",
       "      <td>2016-09-14 17:40:06 +0000</td>\n",
       "      <td>&lt;a href=\"http://twitter.com/download/iphone\" r...</td>\n",
       "      <td>This is Sampson. He's about to get hit with a ...</td>\n",
       "      <td>NaN</td>\n",
       "      <td>NaN</td>\n",
       "      <td>NaN</td>\n",
       "      <td>https://twitter.com/dog_rates/status/776113305...</td>\n",
       "      <td>11</td>\n",
       "      <td>10</td>\n",
       "      <td>Sampson</td>\n",
       "      <td>None</td>\n",
       "      <td>None</td>\n",
       "      <td>pupper</td>\n",
       "      <td>None</td>\n",
       "    </tr>\n",
       "    <tr>\n",
       "      <th>660</th>\n",
       "      <td>791312159183634433</td>\n",
       "      <td>NaN</td>\n",
       "      <td>NaN</td>\n",
       "      <td>2016-10-26 16:14:55 +0000</td>\n",
       "      <td>&lt;a href=\"http://twitter.com/download/iphone\" r...</td>\n",
       "      <td>This is Mabel. She's super h*ckin smol. Portab...</td>\n",
       "      <td>NaN</td>\n",
       "      <td>NaN</td>\n",
       "      <td>NaN</td>\n",
       "      <td>https://twitter.com/dog_rates/status/791312159...</td>\n",
       "      <td>12</td>\n",
       "      <td>10</td>\n",
       "      <td>Mabel</td>\n",
       "      <td>None</td>\n",
       "      <td>None</td>\n",
       "      <td>None</td>\n",
       "      <td>None</td>\n",
       "    </tr>\n",
       "    <tr>\n",
       "      <th>2060</th>\n",
       "      <td>671182547775299584</td>\n",
       "      <td>NaN</td>\n",
       "      <td>NaN</td>\n",
       "      <td>2015-11-30 04:22:44 +0000</td>\n",
       "      <td>&lt;a href=\"http://twitter.com/download/iphone\" r...</td>\n",
       "      <td>This pup holds the secrets of the universe in ...</td>\n",
       "      <td>NaN</td>\n",
       "      <td>NaN</td>\n",
       "      <td>NaN</td>\n",
       "      <td>https://twitter.com/dog_rates/status/671182547...</td>\n",
       "      <td>12</td>\n",
       "      <td>10</td>\n",
       "      <td>None</td>\n",
       "      <td>None</td>\n",
       "      <td>None</td>\n",
       "      <td>None</td>\n",
       "      <td>None</td>\n",
       "    </tr>\n",
       "    <tr>\n",
       "      <th>1990</th>\n",
       "      <td>672640509974827008</td>\n",
       "      <td>NaN</td>\n",
       "      <td>NaN</td>\n",
       "      <td>2015-12-04 04:56:09 +0000</td>\n",
       "      <td>&lt;a href=\"http://twitter.com/download/iphone\" r...</td>\n",
       "      <td>This is Leonidas. He just got rekt by a snowba...</td>\n",
       "      <td>NaN</td>\n",
       "      <td>NaN</td>\n",
       "      <td>NaN</td>\n",
       "      <td>https://twitter.com/dog_rates/status/672640509...</td>\n",
       "      <td>9</td>\n",
       "      <td>10</td>\n",
       "      <td>Leonidas</td>\n",
       "      <td>None</td>\n",
       "      <td>None</td>\n",
       "      <td>None</td>\n",
       "      <td>None</td>\n",
       "    </tr>\n",
       "    <tr>\n",
       "      <th>227</th>\n",
       "      <td>848324959059550208</td>\n",
       "      <td>NaN</td>\n",
       "      <td>NaN</td>\n",
       "      <td>2017-04-02 00:03:26 +0000</td>\n",
       "      <td>&lt;a href=\"http://twitter.com/download/iphone\" r...</td>\n",
       "      <td>Meet Odin. He's supposed to be giving directio...</td>\n",
       "      <td>NaN</td>\n",
       "      <td>NaN</td>\n",
       "      <td>NaN</td>\n",
       "      <td>https://twitter.com/dog_rates/status/848324959...</td>\n",
       "      <td>12</td>\n",
       "      <td>10</td>\n",
       "      <td>Odin</td>\n",
       "      <td>None</td>\n",
       "      <td>None</td>\n",
       "      <td>None</td>\n",
       "      <td>None</td>\n",
       "    </tr>\n",
       "  </tbody>\n",
       "</table>\n",
       "</div>"
      ],
      "text/plain": [
       "                tweet_id  in_reply_to_status_id  in_reply_to_user_id  \\\n",
       "776   776113305656188928                    NaN                  NaN   \n",
       "660   791312159183634433                    NaN                  NaN   \n",
       "2060  671182547775299584                    NaN                  NaN   \n",
       "1990  672640509974827008                    NaN                  NaN   \n",
       "227   848324959059550208                    NaN                  NaN   \n",
       "\n",
       "                      timestamp  \\\n",
       "776   2016-09-14 17:40:06 +0000   \n",
       "660   2016-10-26 16:14:55 +0000   \n",
       "2060  2015-11-30 04:22:44 +0000   \n",
       "1990  2015-12-04 04:56:09 +0000   \n",
       "227   2017-04-02 00:03:26 +0000   \n",
       "\n",
       "                                                 source  \\\n",
       "776   <a href=\"http://twitter.com/download/iphone\" r...   \n",
       "660   <a href=\"http://twitter.com/download/iphone\" r...   \n",
       "2060  <a href=\"http://twitter.com/download/iphone\" r...   \n",
       "1990  <a href=\"http://twitter.com/download/iphone\" r...   \n",
       "227   <a href=\"http://twitter.com/download/iphone\" r...   \n",
       "\n",
       "                                                   text  retweeted_status_id  \\\n",
       "776   This is Sampson. He's about to get hit with a ...                  NaN   \n",
       "660   This is Mabel. She's super h*ckin smol. Portab...                  NaN   \n",
       "2060  This pup holds the secrets of the universe in ...                  NaN   \n",
       "1990  This is Leonidas. He just got rekt by a snowba...                  NaN   \n",
       "227   Meet Odin. He's supposed to be giving directio...                  NaN   \n",
       "\n",
       "      retweeted_status_user_id retweeted_status_timestamp  \\\n",
       "776                        NaN                        NaN   \n",
       "660                        NaN                        NaN   \n",
       "2060                       NaN                        NaN   \n",
       "1990                       NaN                        NaN   \n",
       "227                        NaN                        NaN   \n",
       "\n",
       "                                          expanded_urls  rating_numerator  \\\n",
       "776   https://twitter.com/dog_rates/status/776113305...                11   \n",
       "660   https://twitter.com/dog_rates/status/791312159...                12   \n",
       "2060  https://twitter.com/dog_rates/status/671182547...                12   \n",
       "1990  https://twitter.com/dog_rates/status/672640509...                 9   \n",
       "227   https://twitter.com/dog_rates/status/848324959...                12   \n",
       "\n",
       "      rating_denominator      name doggo floofer  pupper puppo  \n",
       "776                   10   Sampson  None    None  pupper  None  \n",
       "660                   10     Mabel  None    None    None  None  \n",
       "2060                  10      None  None    None    None  None  \n",
       "1990                  10  Leonidas  None    None    None  None  \n",
       "227                   10      Odin  None    None    None  None  "
      ]
     },
     "execution_count": 8,
     "metadata": {},
     "output_type": "execute_result"
    }
   ],
   "source": [
    "# Take a look at first few rows in dataframe\n",
    "df_twitter.sample(5)"
   ]
  },
  {
   "cell_type": "code",
   "execution_count": 9,
   "metadata": {
    "colab": {
     "base_uri": "https://localhost:8080/",
     "height": 407
    },
    "colab_type": "code",
    "id": "vKlr4LM_g7H3",
    "outputId": "5a38a5aa-1fb4-4c11-f94b-2a2154519096"
   },
   "outputs": [
    {
     "name": "stdout",
     "output_type": "stream",
     "text": [
      "<class 'pandas.core.frame.DataFrame'>\n",
      "RangeIndex: 2356 entries, 0 to 2355\n",
      "Data columns (total 17 columns):\n",
      " #   Column                      Non-Null Count  Dtype  \n",
      "---  ------                      --------------  -----  \n",
      " 0   tweet_id                    2356 non-null   int64  \n",
      " 1   in_reply_to_status_id       78 non-null     float64\n",
      " 2   in_reply_to_user_id         78 non-null     float64\n",
      " 3   timestamp                   2356 non-null   object \n",
      " 4   source                      2356 non-null   object \n",
      " 5   text                        2356 non-null   object \n",
      " 6   retweeted_status_id         181 non-null    float64\n",
      " 7   retweeted_status_user_id    181 non-null    float64\n",
      " 8   retweeted_status_timestamp  181 non-null    object \n",
      " 9   expanded_urls               2297 non-null   object \n",
      " 10  rating_numerator            2356 non-null   int64  \n",
      " 11  rating_denominator          2356 non-null   int64  \n",
      " 12  name                        2356 non-null   object \n",
      " 13  doggo                       2356 non-null   object \n",
      " 14  floofer                     2356 non-null   object \n",
      " 15  pupper                      2356 non-null   object \n",
      " 16  puppo                       2356 non-null   object \n",
      "dtypes: float64(4), int64(3), object(10)\n",
      "memory usage: 313.0+ KB\n"
     ]
    }
   ],
   "source": [
    "df_twitter.info()"
   ]
  },
  {
   "cell_type": "code",
   "execution_count": 10,
   "metadata": {
    "colab": {
     "base_uri": "https://localhost:8080/",
     "height": 297
    },
    "colab_type": "code",
    "id": "fVBZsDkYKZ7n",
    "outputId": "e62f3c87-c558-453c-a2fd-55fd472c71fb"
   },
   "outputs": [
    {
     "data": {
      "text/html": [
       "<div>\n",
       "<style scoped>\n",
       "    .dataframe tbody tr th:only-of-type {\n",
       "        vertical-align: middle;\n",
       "    }\n",
       "\n",
       "    .dataframe tbody tr th {\n",
       "        vertical-align: top;\n",
       "    }\n",
       "\n",
       "    .dataframe thead th {\n",
       "        text-align: right;\n",
       "    }\n",
       "</style>\n",
       "<table border=\"1\" class=\"dataframe\">\n",
       "  <thead>\n",
       "    <tr style=\"text-align: right;\">\n",
       "      <th></th>\n",
       "      <th>tweet_id</th>\n",
       "      <th>in_reply_to_status_id</th>\n",
       "      <th>in_reply_to_user_id</th>\n",
       "      <th>retweeted_status_id</th>\n",
       "      <th>retweeted_status_user_id</th>\n",
       "      <th>rating_numerator</th>\n",
       "      <th>rating_denominator</th>\n",
       "    </tr>\n",
       "  </thead>\n",
       "  <tbody>\n",
       "    <tr>\n",
       "      <th>count</th>\n",
       "      <td>2.356000e+03</td>\n",
       "      <td>7.800000e+01</td>\n",
       "      <td>7.800000e+01</td>\n",
       "      <td>1.810000e+02</td>\n",
       "      <td>1.810000e+02</td>\n",
       "      <td>2356.000000</td>\n",
       "      <td>2356.000000</td>\n",
       "    </tr>\n",
       "    <tr>\n",
       "      <th>mean</th>\n",
       "      <td>7.427716e+17</td>\n",
       "      <td>7.455079e+17</td>\n",
       "      <td>2.014171e+16</td>\n",
       "      <td>7.720400e+17</td>\n",
       "      <td>1.241698e+16</td>\n",
       "      <td>13.126486</td>\n",
       "      <td>10.455433</td>\n",
       "    </tr>\n",
       "    <tr>\n",
       "      <th>std</th>\n",
       "      <td>6.856705e+16</td>\n",
       "      <td>7.582492e+16</td>\n",
       "      <td>1.252797e+17</td>\n",
       "      <td>6.236928e+16</td>\n",
       "      <td>9.599254e+16</td>\n",
       "      <td>45.876648</td>\n",
       "      <td>6.745237</td>\n",
       "    </tr>\n",
       "    <tr>\n",
       "      <th>min</th>\n",
       "      <td>6.660209e+17</td>\n",
       "      <td>6.658147e+17</td>\n",
       "      <td>1.185634e+07</td>\n",
       "      <td>6.661041e+17</td>\n",
       "      <td>7.832140e+05</td>\n",
       "      <td>0.000000</td>\n",
       "      <td>0.000000</td>\n",
       "    </tr>\n",
       "    <tr>\n",
       "      <th>25%</th>\n",
       "      <td>6.783989e+17</td>\n",
       "      <td>6.757419e+17</td>\n",
       "      <td>3.086374e+08</td>\n",
       "      <td>7.186315e+17</td>\n",
       "      <td>4.196984e+09</td>\n",
       "      <td>10.000000</td>\n",
       "      <td>10.000000</td>\n",
       "    </tr>\n",
       "    <tr>\n",
       "      <th>50%</th>\n",
       "      <td>7.196279e+17</td>\n",
       "      <td>7.038708e+17</td>\n",
       "      <td>4.196984e+09</td>\n",
       "      <td>7.804657e+17</td>\n",
       "      <td>4.196984e+09</td>\n",
       "      <td>11.000000</td>\n",
       "      <td>10.000000</td>\n",
       "    </tr>\n",
       "    <tr>\n",
       "      <th>75%</th>\n",
       "      <td>7.993373e+17</td>\n",
       "      <td>8.257804e+17</td>\n",
       "      <td>4.196984e+09</td>\n",
       "      <td>8.203146e+17</td>\n",
       "      <td>4.196984e+09</td>\n",
       "      <td>12.000000</td>\n",
       "      <td>10.000000</td>\n",
       "    </tr>\n",
       "    <tr>\n",
       "      <th>max</th>\n",
       "      <td>8.924206e+17</td>\n",
       "      <td>8.862664e+17</td>\n",
       "      <td>8.405479e+17</td>\n",
       "      <td>8.874740e+17</td>\n",
       "      <td>7.874618e+17</td>\n",
       "      <td>1776.000000</td>\n",
       "      <td>170.000000</td>\n",
       "    </tr>\n",
       "  </tbody>\n",
       "</table>\n",
       "</div>"
      ],
      "text/plain": [
       "           tweet_id  in_reply_to_status_id  in_reply_to_user_id  \\\n",
       "count  2.356000e+03           7.800000e+01         7.800000e+01   \n",
       "mean   7.427716e+17           7.455079e+17         2.014171e+16   \n",
       "std    6.856705e+16           7.582492e+16         1.252797e+17   \n",
       "min    6.660209e+17           6.658147e+17         1.185634e+07   \n",
       "25%    6.783989e+17           6.757419e+17         3.086374e+08   \n",
       "50%    7.196279e+17           7.038708e+17         4.196984e+09   \n",
       "75%    7.993373e+17           8.257804e+17         4.196984e+09   \n",
       "max    8.924206e+17           8.862664e+17         8.405479e+17   \n",
       "\n",
       "       retweeted_status_id  retweeted_status_user_id  rating_numerator  \\\n",
       "count         1.810000e+02              1.810000e+02       2356.000000   \n",
       "mean          7.720400e+17              1.241698e+16         13.126486   \n",
       "std           6.236928e+16              9.599254e+16         45.876648   \n",
       "min           6.661041e+17              7.832140e+05          0.000000   \n",
       "25%           7.186315e+17              4.196984e+09         10.000000   \n",
       "50%           7.804657e+17              4.196984e+09         11.000000   \n",
       "75%           8.203146e+17              4.196984e+09         12.000000   \n",
       "max           8.874740e+17              7.874618e+17       1776.000000   \n",
       "\n",
       "       rating_denominator  \n",
       "count         2356.000000  \n",
       "mean            10.455433  \n",
       "std              6.745237  \n",
       "min              0.000000  \n",
       "25%             10.000000  \n",
       "50%             10.000000  \n",
       "75%             10.000000  \n",
       "max            170.000000  "
      ]
     },
     "execution_count": 10,
     "metadata": {},
     "output_type": "execute_result"
    }
   ],
   "source": [
    "df_twitter.describe()"
   ]
  },
  {
   "cell_type": "code",
   "execution_count": 11,
   "metadata": {
    "colab": {
     "base_uri": "https://localhost:8080/",
     "height": 33
    },
    "colab_type": "code",
    "id": "2MEeVK26PyFk",
    "outputId": "7ec3dc73-bacb-470d-ba0f-57c825a8d4de"
   },
   "outputs": [
    {
     "data": {
      "text/plain": [
       "2356"
      ]
     },
     "execution_count": 11,
     "metadata": {},
     "output_type": "execute_result"
    }
   ],
   "source": [
    "df_twitter['tweet_id'].nunique()"
   ]
  },
  {
   "cell_type": "markdown",
   "metadata": {
    "colab_type": "text",
    "id": "SRxtKQ1WlnNc"
   },
   "source": [
    "Initial observation\n",
    "\n",
    "1.   Total 2356 tweets\n",
    "2.   Incomplete columns:\n",
    "    - in_reply_to_status_id\n",
    "    - in_reply_to_user_id  \n",
    "    - retweeted_status_id\n",
    "    - retweeted_status_user_id\n",
    "    - retweeted_status_timestamp\n",
    "    - expanded_urls\n",
    "3.   Timestame and retweeted_status_timestamp is object not of type DateTime\n",
    "4.   Source column has html tags present \n",
    "5.   Name Column has invalid names such as None\n",
    "6.   The last 4 columns doggo, floofer, pupper and puppo can instead be a single categorical column\n",
    "7. Rating numerator and denominator dont seem to fall in valid range of values since their max values are 1776 and 170\n",
    "\n"
   ]
  },
  {
   "cell_type": "markdown",
   "metadata": {
    "colab_type": "text",
    "id": "ACHy_NnPqtPw"
   },
   "source": [
    "Next, lets look at the Tweet image predictions dataframe "
   ]
  },
  {
   "cell_type": "code",
   "execution_count": 12,
   "metadata": {
    "colab": {
     "base_uri": "https://localhost:8080/",
     "height": 211
    },
    "colab_type": "code",
    "id": "aZXndPW065Zz",
    "outputId": "3e1eb838-355f-4c18-b64c-919b797b7977"
   },
   "outputs": [
    {
     "data": {
      "text/html": [
       "<div>\n",
       "<style scoped>\n",
       "    .dataframe tbody tr th:only-of-type {\n",
       "        vertical-align: middle;\n",
       "    }\n",
       "\n",
       "    .dataframe tbody tr th {\n",
       "        vertical-align: top;\n",
       "    }\n",
       "\n",
       "    .dataframe thead th {\n",
       "        text-align: right;\n",
       "    }\n",
       "</style>\n",
       "<table border=\"1\" class=\"dataframe\">\n",
       "  <thead>\n",
       "    <tr style=\"text-align: right;\">\n",
       "      <th></th>\n",
       "      <th>tweet_id</th>\n",
       "      <th>jpg_url</th>\n",
       "      <th>img_num</th>\n",
       "      <th>p1</th>\n",
       "      <th>p1_conf</th>\n",
       "      <th>p1_dog</th>\n",
       "      <th>p2</th>\n",
       "      <th>p2_conf</th>\n",
       "      <th>p2_dog</th>\n",
       "      <th>p3</th>\n",
       "      <th>p3_conf</th>\n",
       "      <th>p3_dog</th>\n",
       "    </tr>\n",
       "  </thead>\n",
       "  <tbody>\n",
       "    <tr>\n",
       "      <th>400</th>\n",
       "      <td>673688752737402881</td>\n",
       "      <td>https://pbs.twimg.com/media/CVlsVs3WIAAja6m.jpg</td>\n",
       "      <td>1</td>\n",
       "      <td>soft-coated_wheaten_terrier</td>\n",
       "      <td>0.340806</td>\n",
       "      <td>True</td>\n",
       "      <td>Sealyham_terrier</td>\n",
       "      <td>0.234898</td>\n",
       "      <td>True</td>\n",
       "      <td>kuvasz</td>\n",
       "      <td>0.203495</td>\n",
       "      <td>True</td>\n",
       "    </tr>\n",
       "    <tr>\n",
       "      <th>17</th>\n",
       "      <td>666104133288665088</td>\n",
       "      <td>https://pbs.twimg.com/media/CT56LSZWoAAlJj2.jpg</td>\n",
       "      <td>1</td>\n",
       "      <td>hen</td>\n",
       "      <td>0.965932</td>\n",
       "      <td>False</td>\n",
       "      <td>cock</td>\n",
       "      <td>0.033919</td>\n",
       "      <td>False</td>\n",
       "      <td>partridge</td>\n",
       "      <td>0.000052</td>\n",
       "      <td>False</td>\n",
       "    </tr>\n",
       "    <tr>\n",
       "      <th>1965</th>\n",
       "      <td>867421006826221569</td>\n",
       "      <td>https://pbs.twimg.com/media/DAmyy8FXYAIH8Ty.jpg</td>\n",
       "      <td>1</td>\n",
       "      <td>Eskimo_dog</td>\n",
       "      <td>0.616457</td>\n",
       "      <td>True</td>\n",
       "      <td>Siberian_husky</td>\n",
       "      <td>0.381330</td>\n",
       "      <td>True</td>\n",
       "      <td>malamute</td>\n",
       "      <td>0.001670</td>\n",
       "      <td>True</td>\n",
       "    </tr>\n",
       "    <tr>\n",
       "      <th>833</th>\n",
       "      <td>693942351086120961</td>\n",
       "      <td>https://pbs.twimg.com/media/CaFg41YWkAAdOjy.jpg</td>\n",
       "      <td>1</td>\n",
       "      <td>groenendael</td>\n",
       "      <td>0.550796</td>\n",
       "      <td>True</td>\n",
       "      <td>Norwegian_elkhound</td>\n",
       "      <td>0.154770</td>\n",
       "      <td>True</td>\n",
       "      <td>schipperke</td>\n",
       "      <td>0.080802</td>\n",
       "      <td>True</td>\n",
       "    </tr>\n",
       "    <tr>\n",
       "      <th>1349</th>\n",
       "      <td>759566828574212096</td>\n",
       "      <td>https://pbs.twimg.com/media/CkNjahBXAAQ2kWo.jpg</td>\n",
       "      <td>1</td>\n",
       "      <td>Labrador_retriever</td>\n",
       "      <td>0.967397</td>\n",
       "      <td>True</td>\n",
       "      <td>golden_retriever</td>\n",
       "      <td>0.016641</td>\n",
       "      <td>True</td>\n",
       "      <td>ice_bear</td>\n",
       "      <td>0.014858</td>\n",
       "      <td>False</td>\n",
       "    </tr>\n",
       "  </tbody>\n",
       "</table>\n",
       "</div>"
      ],
      "text/plain": [
       "                tweet_id                                          jpg_url  \\\n",
       "400   673688752737402881  https://pbs.twimg.com/media/CVlsVs3WIAAja6m.jpg   \n",
       "17    666104133288665088  https://pbs.twimg.com/media/CT56LSZWoAAlJj2.jpg   \n",
       "1965  867421006826221569  https://pbs.twimg.com/media/DAmyy8FXYAIH8Ty.jpg   \n",
       "833   693942351086120961  https://pbs.twimg.com/media/CaFg41YWkAAdOjy.jpg   \n",
       "1349  759566828574212096  https://pbs.twimg.com/media/CkNjahBXAAQ2kWo.jpg   \n",
       "\n",
       "      img_num                           p1   p1_conf  p1_dog  \\\n",
       "400         1  soft-coated_wheaten_terrier  0.340806    True   \n",
       "17          1                          hen  0.965932   False   \n",
       "1965        1                   Eskimo_dog  0.616457    True   \n",
       "833         1                  groenendael  0.550796    True   \n",
       "1349        1           Labrador_retriever  0.967397    True   \n",
       "\n",
       "                      p2   p2_conf  p2_dog          p3   p3_conf  p3_dog  \n",
       "400     Sealyham_terrier  0.234898    True      kuvasz  0.203495    True  \n",
       "17                  cock  0.033919   False   partridge  0.000052   False  \n",
       "1965      Siberian_husky  0.381330    True    malamute  0.001670    True  \n",
       "833   Norwegian_elkhound  0.154770    True  schipperke  0.080802    True  \n",
       "1349    golden_retriever  0.016641    True    ice_bear  0.014858   False  "
      ]
     },
     "execution_count": 12,
     "metadata": {},
     "output_type": "execute_result"
    }
   ],
   "source": [
    "df_img_preds.sample(5)"
   ]
  },
  {
   "cell_type": "code",
   "execution_count": 13,
   "metadata": {
    "colab": {
     "base_uri": "https://localhost:8080/",
     "height": 326
    },
    "colab_type": "code",
    "id": "E7hZevUgPWgc",
    "outputId": "a96dd0c5-d87d-432c-eddd-a7a903665e4b"
   },
   "outputs": [
    {
     "name": "stdout",
     "output_type": "stream",
     "text": [
      "<class 'pandas.core.frame.DataFrame'>\n",
      "RangeIndex: 2075 entries, 0 to 2074\n",
      "Data columns (total 12 columns):\n",
      " #   Column    Non-Null Count  Dtype  \n",
      "---  ------    --------------  -----  \n",
      " 0   tweet_id  2075 non-null   int64  \n",
      " 1   jpg_url   2075 non-null   object \n",
      " 2   img_num   2075 non-null   int64  \n",
      " 3   p1        2075 non-null   object \n",
      " 4   p1_conf   2075 non-null   float64\n",
      " 5   p1_dog    2075 non-null   bool   \n",
      " 6   p2        2075 non-null   object \n",
      " 7   p2_conf   2075 non-null   float64\n",
      " 8   p2_dog    2075 non-null   bool   \n",
      " 9   p3        2075 non-null   object \n",
      " 10  p3_conf   2075 non-null   float64\n",
      " 11  p3_dog    2075 non-null   bool   \n",
      "dtypes: bool(3), float64(3), int64(2), object(4)\n",
      "memory usage: 152.1+ KB\n"
     ]
    }
   ],
   "source": [
    "df_img_preds.info()"
   ]
  },
  {
   "cell_type": "markdown",
   "metadata": {
    "colab_type": "text",
    "id": "RJOfO_Y4eRDr"
   },
   "source": [
    "Initial Observation:\n",
    "\n",
    "This dataframe looks complete for the most part and has the correct datatypes for each column. Key here would be how we use it.\n",
    "\n",
    "1. Inconsistency, the prediction columns p1, p2, p3 do not follow similar case format and are seperated by an underscore. \n",
    "2. This data can be combined with tweeter archive dataframe"
   ]
  },
  {
   "cell_type": "markdown",
   "metadata": {
    "colab_type": "text",
    "id": "IibkOScyf-RC"
   },
   "source": [
    "Finally, the tweets api dataframe"
   ]
  },
  {
   "cell_type": "code",
   "execution_count": 14,
   "metadata": {
    "colab": {
     "base_uri": "https://localhost:8080/",
     "height": 191
    },
    "colab_type": "code",
    "id": "dS4ImI4TPdo9",
    "outputId": "d8bffd3f-eb70-4061-f748-f089556fe767"
   },
   "outputs": [
    {
     "data": {
      "text/html": [
       "<div>\n",
       "<style scoped>\n",
       "    .dataframe tbody tr th:only-of-type {\n",
       "        vertical-align: middle;\n",
       "    }\n",
       "\n",
       "    .dataframe tbody tr th {\n",
       "        vertical-align: top;\n",
       "    }\n",
       "\n",
       "    .dataframe thead th {\n",
       "        text-align: right;\n",
       "    }\n",
       "</style>\n",
       "<table border=\"1\" class=\"dataframe\">\n",
       "  <thead>\n",
       "    <tr style=\"text-align: right;\">\n",
       "      <th></th>\n",
       "      <th>tweet_id</th>\n",
       "      <th>favorite_count</th>\n",
       "      <th>retweet_count</th>\n",
       "      <th>followers_count</th>\n",
       "      <th>friends_count</th>\n",
       "      <th>listed_count</th>\n",
       "      <th>statuses_count</th>\n",
       "    </tr>\n",
       "  </thead>\n",
       "  <tbody>\n",
       "    <tr>\n",
       "      <th>0</th>\n",
       "      <td>892420643555336193</td>\n",
       "      <td>36230</td>\n",
       "      <td>7711</td>\n",
       "      <td>8785083</td>\n",
       "      <td>16</td>\n",
       "      <td>5536</td>\n",
       "      <td>12252</td>\n",
       "    </tr>\n",
       "    <tr>\n",
       "      <th>1</th>\n",
       "      <td>892177421306343426</td>\n",
       "      <td>31252</td>\n",
       "      <td>5699</td>\n",
       "      <td>8785083</td>\n",
       "      <td>16</td>\n",
       "      <td>5536</td>\n",
       "      <td>12252</td>\n",
       "    </tr>\n",
       "    <tr>\n",
       "      <th>2</th>\n",
       "      <td>891815181378084864</td>\n",
       "      <td>23529</td>\n",
       "      <td>3779</td>\n",
       "      <td>8785083</td>\n",
       "      <td>16</td>\n",
       "      <td>5536</td>\n",
       "      <td>12252</td>\n",
       "    </tr>\n",
       "    <tr>\n",
       "      <th>3</th>\n",
       "      <td>891689557279858688</td>\n",
       "      <td>39535</td>\n",
       "      <td>7875</td>\n",
       "      <td>8785083</td>\n",
       "      <td>16</td>\n",
       "      <td>5536</td>\n",
       "      <td>12252</td>\n",
       "    </tr>\n",
       "    <tr>\n",
       "      <th>4</th>\n",
       "      <td>891327558926688256</td>\n",
       "      <td>37745</td>\n",
       "      <td>8484</td>\n",
       "      <td>8785083</td>\n",
       "      <td>16</td>\n",
       "      <td>5536</td>\n",
       "      <td>12252</td>\n",
       "    </tr>\n",
       "  </tbody>\n",
       "</table>\n",
       "</div>"
      ],
      "text/plain": [
       "             tweet_id  favorite_count  retweet_count  followers_count  \\\n",
       "0  892420643555336193           36230           7711          8785083   \n",
       "1  892177421306343426           31252           5699          8785083   \n",
       "2  891815181378084864           23529           3779          8785083   \n",
       "3  891689557279858688           39535           7875          8785083   \n",
       "4  891327558926688256           37745           8484          8785083   \n",
       "\n",
       "   friends_count  listed_count  statuses_count  \n",
       "0             16          5536           12252  \n",
       "1             16          5536           12252  \n",
       "2             16          5536           12252  \n",
       "3             16          5536           12252  \n",
       "4             16          5536           12252  "
      ]
     },
     "execution_count": 14,
     "metadata": {},
     "output_type": "execute_result"
    }
   ],
   "source": [
    "df_tweets_api.head()"
   ]
  },
  {
   "cell_type": "code",
   "execution_count": 15,
   "metadata": {
    "colab": {
     "base_uri": "https://localhost:8080/",
     "height": 245
    },
    "colab_type": "code",
    "id": "eJW235TUgnXV",
    "outputId": "0e1a5f52-75ce-4ba1-8de2-4d19ba340308"
   },
   "outputs": [
    {
     "name": "stdout",
     "output_type": "stream",
     "text": [
      "<class 'pandas.core.frame.DataFrame'>\n",
      "RangeIndex: 2330 entries, 0 to 2329\n",
      "Data columns (total 7 columns):\n",
      " #   Column           Non-Null Count  Dtype\n",
      "---  ------           --------------  -----\n",
      " 0   tweet_id         2330 non-null   int64\n",
      " 1   favorite_count   2330 non-null   int64\n",
      " 2   retweet_count    2330 non-null   int64\n",
      " 3   followers_count  2330 non-null   int64\n",
      " 4   friends_count    2330 non-null   int64\n",
      " 5   listed_count     2330 non-null   int64\n",
      " 6   statuses_count   2330 non-null   int64\n",
      "dtypes: int64(7)\n",
      "memory usage: 127.5 KB\n"
     ]
    }
   ],
   "source": [
    "df_tweets_api.info()"
   ]
  },
  {
   "cell_type": "code",
   "execution_count": 16,
   "metadata": {
    "colab": {
     "base_uri": "https://localhost:8080/",
     "height": 277
    },
    "colab_type": "code",
    "id": "g0Oq7AtuhvC9",
    "outputId": "cee028e4-29a2-4170-950e-7f6d2ff3fe74"
   },
   "outputs": [
    {
     "data": {
      "text/html": [
       "<div>\n",
       "<style scoped>\n",
       "    .dataframe tbody tr th:only-of-type {\n",
       "        vertical-align: middle;\n",
       "    }\n",
       "\n",
       "    .dataframe tbody tr th {\n",
       "        vertical-align: top;\n",
       "    }\n",
       "\n",
       "    .dataframe thead th {\n",
       "        text-align: right;\n",
       "    }\n",
       "</style>\n",
       "<table border=\"1\" class=\"dataframe\">\n",
       "  <thead>\n",
       "    <tr style=\"text-align: right;\">\n",
       "      <th></th>\n",
       "      <th>tweet_id</th>\n",
       "      <th>favorite_count</th>\n",
       "      <th>retweet_count</th>\n",
       "      <th>followers_count</th>\n",
       "      <th>friends_count</th>\n",
       "      <th>listed_count</th>\n",
       "      <th>statuses_count</th>\n",
       "    </tr>\n",
       "  </thead>\n",
       "  <tbody>\n",
       "    <tr>\n",
       "      <th>count</th>\n",
       "      <td>2.330000e+03</td>\n",
       "      <td>2330.000000</td>\n",
       "      <td>2330.000000</td>\n",
       "      <td>2.330000e+03</td>\n",
       "      <td>2330.0</td>\n",
       "      <td>2330.000000</td>\n",
       "      <td>2330.0</td>\n",
       "    </tr>\n",
       "    <tr>\n",
       "      <th>mean</th>\n",
       "      <td>7.419357e+17</td>\n",
       "      <td>7568.380687</td>\n",
       "      <td>2706.056223</td>\n",
       "      <td>8.785103e+06</td>\n",
       "      <td>16.0</td>\n",
       "      <td>5536.238197</td>\n",
       "      <td>12252.0</td>\n",
       "    </tr>\n",
       "    <tr>\n",
       "      <th>std</th>\n",
       "      <td>6.823308e+16</td>\n",
       "      <td>11746.852715</td>\n",
       "      <td>4575.752360</td>\n",
       "      <td>6.318969e+01</td>\n",
       "      <td>0.0</td>\n",
       "      <td>0.426072</td>\n",
       "      <td>0.0</td>\n",
       "    </tr>\n",
       "    <tr>\n",
       "      <th>min</th>\n",
       "      <td>6.660209e+17</td>\n",
       "      <td>0.000000</td>\n",
       "      <td>1.000000</td>\n",
       "      <td>8.785082e+06</td>\n",
       "      <td>16.0</td>\n",
       "      <td>5536.000000</td>\n",
       "      <td>12252.0</td>\n",
       "    </tr>\n",
       "    <tr>\n",
       "      <th>25%</th>\n",
       "      <td>6.782926e+17</td>\n",
       "      <td>1318.250000</td>\n",
       "      <td>547.000000</td>\n",
       "      <td>8.785084e+06</td>\n",
       "      <td>16.0</td>\n",
       "      <td>5536.000000</td>\n",
       "      <td>12252.0</td>\n",
       "    </tr>\n",
       "    <tr>\n",
       "      <th>50%</th>\n",
       "      <td>7.183508e+17</td>\n",
       "      <td>3289.000000</td>\n",
       "      <td>1269.500000</td>\n",
       "      <td>8.785096e+06</td>\n",
       "      <td>16.0</td>\n",
       "      <td>5536.000000</td>\n",
       "      <td>12252.0</td>\n",
       "    </tr>\n",
       "    <tr>\n",
       "      <th>75%</th>\n",
       "      <td>7.986712e+17</td>\n",
       "      <td>9264.000000</td>\n",
       "      <td>3146.750000</td>\n",
       "      <td>8.785101e+06</td>\n",
       "      <td>16.0</td>\n",
       "      <td>5536.000000</td>\n",
       "      <td>12252.0</td>\n",
       "    </tr>\n",
       "    <tr>\n",
       "      <th>max</th>\n",
       "      <td>8.924206e+17</td>\n",
       "      <td>156352.000000</td>\n",
       "      <td>77862.000000</td>\n",
       "      <td>8.785742e+06</td>\n",
       "      <td>16.0</td>\n",
       "      <td>5537.000000</td>\n",
       "      <td>12252.0</td>\n",
       "    </tr>\n",
       "  </tbody>\n",
       "</table>\n",
       "</div>"
      ],
      "text/plain": [
       "           tweet_id  favorite_count  retweet_count  followers_count  \\\n",
       "count  2.330000e+03     2330.000000    2330.000000     2.330000e+03   \n",
       "mean   7.419357e+17     7568.380687    2706.056223     8.785103e+06   \n",
       "std    6.823308e+16    11746.852715    4575.752360     6.318969e+01   \n",
       "min    6.660209e+17        0.000000       1.000000     8.785082e+06   \n",
       "25%    6.782926e+17     1318.250000     547.000000     8.785084e+06   \n",
       "50%    7.183508e+17     3289.000000    1269.500000     8.785096e+06   \n",
       "75%    7.986712e+17     9264.000000    3146.750000     8.785101e+06   \n",
       "max    8.924206e+17   156352.000000   77862.000000     8.785742e+06   \n",
       "\n",
       "       friends_count  listed_count  statuses_count  \n",
       "count         2330.0   2330.000000          2330.0  \n",
       "mean            16.0   5536.238197         12252.0  \n",
       "std              0.0      0.426072             0.0  \n",
       "min             16.0   5536.000000         12252.0  \n",
       "25%             16.0   5536.000000         12252.0  \n",
       "50%             16.0   5536.000000         12252.0  \n",
       "75%             16.0   5536.000000         12252.0  \n",
       "max             16.0   5537.000000         12252.0  "
      ]
     },
     "execution_count": 16,
     "metadata": {},
     "output_type": "execute_result"
    }
   ],
   "source": [
    "df_tweets_api.describe()"
   ]
  },
  {
   "cell_type": "markdown",
   "metadata": {},
   "source": [
    "### Issues Detected \n",
    "\n",
    "**Data Quality Issue**\n",
    "- Convert tweet_id from integer to string\n",
    "- Remove retweets\n",
    "- Remove unwanted columns\n",
    "- Convert timestamp to datetime format\n",
    "- Transform dog names to match same case preference\n",
    "- Remove HTML tags from source column\n",
    "- Fix ratings numerator and denominator\n",
    "- Create a rating column using the numerator and denominator so it is easy to compare one dog\n",
    "- Add column dog_breed to predictions data frame based on predictions\n",
    "\n",
    "**Data Tidiness Issue**\n",
    "- Consolidating dog type to 1 column\n",
    "- Drop unwanted columns from df_img_preds and df_tweets_api then merge with df_twitter_clean"
   ]
  },
  {
   "cell_type": "markdown",
   "metadata": {
    "colab_type": "text",
    "id": "bZV0iZvrJ0f4"
   },
   "source": [
    "<a id='clean'></a>\n",
    "# Clean"
   ]
  },
  {
   "cell_type": "code",
   "execution_count": 17,
   "metadata": {
    "colab": {},
    "colab_type": "code",
    "id": "TQiuaxEBJKFW"
   },
   "outputs": [],
   "source": [
    "df_twitter_clean = df_twitter.copy()\n",
    "df_img_preds_clean = df_img_preds.copy()\n",
    "df_tweets_api_clean = df_tweets_api.copy() "
   ]
  },
  {
   "cell_type": "markdown",
   "metadata": {
    "colab_type": "text",
    "id": "t8GWJyNGGY5Z"
   },
   "source": [
    "## Quality Issue 1\n",
    "\n",
    "**Define:** Convert tweet_id from integer to string\n",
    "\n",
    "**Code:** Use astype() function to set a new type to exisiting column"
   ]
  },
  {
   "cell_type": "code",
   "execution_count": 18,
   "metadata": {
    "colab": {},
    "colab_type": "code",
    "id": "Hdh-wbmoGYSU"
   },
   "outputs": [],
   "source": [
    "df_twitter_clean['tweet_id'] = df_twitter_clean['tweet_id'].astype(str)\n",
    "df_img_preds_clean['tweet_id'] = df_img_preds_clean['tweet_id'].astype(str)\n",
    "df_tweets_api_clean['tweet_id'] = df_tweets_api_clean['tweet_id'].astype(str)"
   ]
  },
  {
   "cell_type": "markdown",
   "metadata": {
    "colab_type": "text",
    "id": "X2HU5repPg3V"
   },
   "source": [
    "**Test:** Review dataframe information for datatype"
   ]
  },
  {
   "cell_type": "code",
   "execution_count": 19,
   "metadata": {
    "colab": {
     "base_uri": "https://localhost:8080/",
     "height": 407
    },
    "colab_type": "code",
    "id": "phex5gwVGTdv",
    "outputId": "1b77e71d-7870-41ce-c65c-7275586476be"
   },
   "outputs": [
    {
     "name": "stdout",
     "output_type": "stream",
     "text": [
      "<class 'pandas.core.frame.DataFrame'>\n",
      "RangeIndex: 2356 entries, 0 to 2355\n",
      "Data columns (total 17 columns):\n",
      " #   Column                      Non-Null Count  Dtype  \n",
      "---  ------                      --------------  -----  \n",
      " 0   tweet_id                    2356 non-null   object \n",
      " 1   in_reply_to_status_id       78 non-null     float64\n",
      " 2   in_reply_to_user_id         78 non-null     float64\n",
      " 3   timestamp                   2356 non-null   object \n",
      " 4   source                      2356 non-null   object \n",
      " 5   text                        2356 non-null   object \n",
      " 6   retweeted_status_id         181 non-null    float64\n",
      " 7   retweeted_status_user_id    181 non-null    float64\n",
      " 8   retweeted_status_timestamp  181 non-null    object \n",
      " 9   expanded_urls               2297 non-null   object \n",
      " 10  rating_numerator            2356 non-null   int64  \n",
      " 11  rating_denominator          2356 non-null   int64  \n",
      " 12  name                        2356 non-null   object \n",
      " 13  doggo                       2356 non-null   object \n",
      " 14  floofer                     2356 non-null   object \n",
      " 15  pupper                      2356 non-null   object \n",
      " 16  puppo                       2356 non-null   object \n",
      "dtypes: float64(4), int64(2), object(11)\n",
      "memory usage: 313.0+ KB\n"
     ]
    }
   ],
   "source": [
    "df_twitter_clean.info()"
   ]
  },
  {
   "cell_type": "markdown",
   "metadata": {
    "colab_type": "text",
    "id": "qRNzpz4Nk3rU"
   },
   "source": [
    "## Quality Issue 2\n",
    "\n",
    "**Define:** Remove retweets\n",
    "\n",
    "We acheive this by removing any column where retweet status id is not null\n",
    "\n",
    "**Code:** Find all indices where retweeted_status_id is NaN"
   ]
  },
  {
   "cell_type": "code",
   "execution_count": 20,
   "metadata": {
    "colab": {},
    "colab_type": "code",
    "id": "MCaJrcARk2P9"
   },
   "outputs": [],
   "source": [
    "df_twitter_clean = df_twitter_clean[np.isnan(df_twitter_clean.retweeted_status_id)]"
   ]
  },
  {
   "cell_type": "markdown",
   "metadata": {
    "colab_type": "text",
    "id": "GFkhVj3lmYFT"
   },
   "source": [
    "**Test:** We will verify the DataFrame information to check if all retweeted variables non-null count should be 0"
   ]
  },
  {
   "cell_type": "code",
   "execution_count": 21,
   "metadata": {
    "colab": {
     "base_uri": "https://localhost:8080/",
     "height": 407
    },
    "colab_type": "code",
    "id": "WaYcZMUTmoSD",
    "outputId": "065308ed-55dd-4f4f-e7d3-cc2303f3feed"
   },
   "outputs": [
    {
     "name": "stdout",
     "output_type": "stream",
     "text": [
      "<class 'pandas.core.frame.DataFrame'>\n",
      "Int64Index: 2175 entries, 0 to 2355\n",
      "Data columns (total 17 columns):\n",
      " #   Column                      Non-Null Count  Dtype  \n",
      "---  ------                      --------------  -----  \n",
      " 0   tweet_id                    2175 non-null   object \n",
      " 1   in_reply_to_status_id       78 non-null     float64\n",
      " 2   in_reply_to_user_id         78 non-null     float64\n",
      " 3   timestamp                   2175 non-null   object \n",
      " 4   source                      2175 non-null   object \n",
      " 5   text                        2175 non-null   object \n",
      " 6   retweeted_status_id         0 non-null      float64\n",
      " 7   retweeted_status_user_id    0 non-null      float64\n",
      " 8   retweeted_status_timestamp  0 non-null      object \n",
      " 9   expanded_urls               2117 non-null   object \n",
      " 10  rating_numerator            2175 non-null   int64  \n",
      " 11  rating_denominator          2175 non-null   int64  \n",
      " 12  name                        2175 non-null   object \n",
      " 13  doggo                       2175 non-null   object \n",
      " 14  floofer                     2175 non-null   object \n",
      " 15  pupper                      2175 non-null   object \n",
      " 16  puppo                       2175 non-null   object \n",
      "dtypes: float64(4), int64(2), object(11)\n",
      "memory usage: 305.9+ KB\n"
     ]
    }
   ],
   "source": [
    "df_twitter_clean.info()"
   ]
  },
  {
   "cell_type": "markdown",
   "metadata": {
    "colab_type": "text",
    "id": "3mZyRGfbXMN3"
   },
   "source": [
    "## Tidiness Issue 1\n",
    "\n",
    "**Define:** Consolidating dog type to 1 column\n",
    "\n",
    "Dog types are: \n",
    "doggo', 'floofer', 'pupper', 'puppo'\n",
    "\n",
    "These columns were originally created by extracting from the text associated with each tweet"
   ]
  },
  {
   "cell_type": "code",
   "execution_count": 22,
   "metadata": {},
   "outputs": [],
   "source": [
    "# First of all set the None value with blank ' ' \n",
    "dog_stages = ['pupper', 'doggo', 'puppo', 'floofer']\n",
    "for stage in dog_stages:\n",
    "    df_twitter_clean[stage].replace('None','',inplace=True)"
   ]
  },
  {
   "cell_type": "markdown",
   "metadata": {
    "colab_type": "text",
    "id": "3OBqsAGsZxNz"
   },
   "source": [
    "**Code:** using vectorization add them and  then, multiple dog stages are set as comma separated"
   ]
  },
  {
   "cell_type": "code",
   "execution_count": 23,
   "metadata": {},
   "outputs": [],
   "source": [
    "df_twitter_clean['dog_stage']=df_twitter_clean['doggo']+df_twitter_clean['floofer']+df_twitter_clean['pupper']+df_twitter_clean['puppo']"
   ]
  },
  {
   "cell_type": "code",
   "execution_count": 24,
   "metadata": {},
   "outputs": [
    {
     "data": {
      "text/plain": [
       "                1831\n",
       "pupper           224\n",
       "doggo             75\n",
       "puppo             24\n",
       "doggopupper       10\n",
       "floofer            9\n",
       "doggofloofer       1\n",
       "doggopuppo         1\n",
       "Name: dog_stage, dtype: int64"
      ]
     },
     "execution_count": 24,
     "metadata": {},
     "output_type": "execute_result"
    }
   ],
   "source": [
    "df_twitter_clean['dog_stage'].value_counts()"
   ]
  },
  {
   "cell_type": "code",
   "execution_count": 25,
   "metadata": {},
   "outputs": [
    {
     "name": "stdout",
     "output_type": "stream",
     "text": [
      "Searching for: pupperpupper and replacing with: pupper,pupper\n",
      "Searching for: pupperdoggo and replacing with: pupper,doggo\n",
      "Searching for: pupperpuppo and replacing with: pupper,puppo\n",
      "Searching for: pupperfloofer and replacing with: pupper,floofer\n",
      "Searching for: doggopupper and replacing with: doggo,pupper\n",
      "Searching for: doggodoggo and replacing with: doggo,doggo\n",
      "Searching for: doggopuppo and replacing with: doggo,puppo\n",
      "Searching for: doggofloofer and replacing with: doggo,floofer\n",
      "Searching for: puppopupper and replacing with: puppo,pupper\n",
      "Searching for: puppodoggo and replacing with: puppo,doggo\n",
      "Searching for: puppopuppo and replacing with: puppo,puppo\n",
      "Searching for: puppofloofer and replacing with: puppo,floofer\n",
      "Searching for: flooferpupper and replacing with: floofer,pupper\n",
      "Searching for: flooferdoggo and replacing with: floofer,doggo\n",
      "Searching for: flooferpuppo and replacing with: floofer,puppo\n",
      "Searching for: flooferfloofer and replacing with: floofer,floofer\n"
     ]
    }
   ],
   "source": [
    "for stage in dog_stages:\n",
    "    for stage2 in dog_stages:\n",
    "        string_to_search = stage + stage2\n",
    "        string_to_assign = stage + ',' + stage2\n",
    "        print(f'Searching for: {string_to_search} and replacing with: {string_to_assign}')\n",
    "        df_twitter_clean.loc[df_twitter_clean.dog_stage==string_to_search,'dog_stage']=string_to_assign"
   ]
  },
  {
   "cell_type": "markdown",
   "metadata": {
    "colab_type": "text",
    "id": "YcJ40hV_aAJm"
   },
   "source": [
    "**Test:** Verify if new column is created and matches the previous inidvidual dog type columns"
   ]
  },
  {
   "cell_type": "code",
   "execution_count": 26,
   "metadata": {
    "colab": {
     "base_uri": "https://localhost:8080/",
     "height": 115
    },
    "colab_type": "code",
    "id": "ZA6bF9GVjQUJ",
    "outputId": "9e4791ab-5c24-40d3-8f17-796c96b1d212"
   },
   "outputs": [
    {
     "data": {
      "text/plain": [
       "                 1831\n",
       "pupper            224\n",
       "doggo              75\n",
       "puppo              24\n",
       "doggo,pupper       10\n",
       "floofer             9\n",
       "doggo,puppo         1\n",
       "doggo,floofer       1\n",
       "Name: dog_stage, dtype: int64"
      ]
     },
     "execution_count": 26,
     "metadata": {},
     "output_type": "execute_result"
    }
   ],
   "source": [
    "df_twitter_clean['dog_stage'].value_counts()"
   ]
  },
  {
   "cell_type": "markdown",
   "metadata": {},
   "source": [
    "Since 1831 rows have an empty string, its too large of a number to drop all those rows so for now we keep them. "
   ]
  },
  {
   "cell_type": "code",
   "execution_count": 27,
   "metadata": {
    "colab": {
     "base_uri": "https://localhost:8080/",
     "height": 335
    },
    "colab_type": "code",
    "id": "QRFmkb_YZI7A",
    "outputId": "9289e2a1-24cc-4fda-f19e-65a16057f1ff"
   },
   "outputs": [
    {
     "data": {
      "text/html": [
       "<div>\n",
       "<style scoped>\n",
       "    .dataframe tbody tr th:only-of-type {\n",
       "        vertical-align: middle;\n",
       "    }\n",
       "\n",
       "    .dataframe tbody tr th {\n",
       "        vertical-align: top;\n",
       "    }\n",
       "\n",
       "    .dataframe thead th {\n",
       "        text-align: right;\n",
       "    }\n",
       "</style>\n",
       "<table border=\"1\" class=\"dataframe\">\n",
       "  <thead>\n",
       "    <tr style=\"text-align: right;\">\n",
       "      <th></th>\n",
       "      <th>doggo</th>\n",
       "      <th>floofer</th>\n",
       "      <th>pupper</th>\n",
       "      <th>puppo</th>\n",
       "      <th>dog_stage</th>\n",
       "    </tr>\n",
       "  </thead>\n",
       "  <tbody>\n",
       "    <tr>\n",
       "      <th>934</th>\n",
       "      <td></td>\n",
       "      <td></td>\n",
       "      <td></td>\n",
       "      <td></td>\n",
       "      <td></td>\n",
       "    </tr>\n",
       "    <tr>\n",
       "      <th>2119</th>\n",
       "      <td></td>\n",
       "      <td></td>\n",
       "      <td></td>\n",
       "      <td></td>\n",
       "      <td></td>\n",
       "    </tr>\n",
       "    <tr>\n",
       "      <th>1262</th>\n",
       "      <td></td>\n",
       "      <td></td>\n",
       "      <td></td>\n",
       "      <td></td>\n",
       "      <td></td>\n",
       "    </tr>\n",
       "    <tr>\n",
       "      <th>59</th>\n",
       "      <td></td>\n",
       "      <td></td>\n",
       "      <td></td>\n",
       "      <td></td>\n",
       "      <td></td>\n",
       "    </tr>\n",
       "    <tr>\n",
       "      <th>2232</th>\n",
       "      <td></td>\n",
       "      <td></td>\n",
       "      <td></td>\n",
       "      <td></td>\n",
       "      <td></td>\n",
       "    </tr>\n",
       "    <tr>\n",
       "      <th>1635</th>\n",
       "      <td></td>\n",
       "      <td></td>\n",
       "      <td></td>\n",
       "      <td></td>\n",
       "      <td></td>\n",
       "    </tr>\n",
       "    <tr>\n",
       "      <th>952</th>\n",
       "      <td></td>\n",
       "      <td></td>\n",
       "      <td></td>\n",
       "      <td></td>\n",
       "      <td></td>\n",
       "    </tr>\n",
       "    <tr>\n",
       "      <th>641</th>\n",
       "      <td></td>\n",
       "      <td></td>\n",
       "      <td></td>\n",
       "      <td></td>\n",
       "      <td></td>\n",
       "    </tr>\n",
       "    <tr>\n",
       "      <th>1441</th>\n",
       "      <td></td>\n",
       "      <td></td>\n",
       "      <td>pupper</td>\n",
       "      <td></td>\n",
       "      <td>pupper</td>\n",
       "    </tr>\n",
       "    <tr>\n",
       "      <th>1051</th>\n",
       "      <td>doggo</td>\n",
       "      <td></td>\n",
       "      <td></td>\n",
       "      <td></td>\n",
       "      <td>doggo</td>\n",
       "    </tr>\n",
       "  </tbody>\n",
       "</table>\n",
       "</div>"
      ],
      "text/plain": [
       "      doggo floofer  pupper puppo dog_stage\n",
       "934                                        \n",
       "2119                                       \n",
       "1262                                       \n",
       "59                                         \n",
       "2232                                       \n",
       "1635                                       \n",
       "952                                        \n",
       "641                                        \n",
       "1441                 pupper          pupper\n",
       "1051  doggo                           doggo"
      ]
     },
     "execution_count": 27,
     "metadata": {},
     "output_type": "execute_result"
    }
   ],
   "source": [
    "df_twitter_clean[['doggo', 'floofer', 'pupper', 'puppo', 'dog_stage']].sample(10)"
   ]
  },
  {
   "cell_type": "markdown",
   "metadata": {
    "colab_type": "text",
    "id": "9tYBt1hRne6p"
   },
   "source": [
    "## Quality Issue 3\n",
    "**Define:** Remove unwanted columns\n",
    "\n",
    "Since we removed all rows which were retweets, we can remove columns relating to retweet as well as others which dont think are relevant"
   ]
  },
  {
   "cell_type": "markdown",
   "metadata": {
    "colab_type": "text",
    "id": "FVKF6gkTnBqE"
   },
   "source": [
    "**Code:** A this point we can drop these columns as they serve no purpose."
   ]
  },
  {
   "cell_type": "code",
   "execution_count": 28,
   "metadata": {
    "colab": {},
    "colab_type": "code",
    "id": "_0MG9HXinGsK"
   },
   "outputs": [],
   "source": [
    "columns_to_drop = ['retweeted_status_id', \n",
    "                   'retweeted_status_user_id', \n",
    "                   'retweeted_status_timestamp',\n",
    "                   'in_reply_to_status_id', \n",
    "                   'in_reply_to_user_id',\n",
    "                   'doggo', \n",
    "                   'floofer', \n",
    "                   'pupper', \n",
    "                   'puppo']\n",
    "df_twitter_clean = df_twitter_clean.drop(columns_to_drop, axis=1)"
   ]
  },
  {
   "cell_type": "markdown",
   "metadata": {
    "colab_type": "text",
    "id": "0RJrLeB2oUrp"
   },
   "source": [
    "**Test:** Lets take a look at the dataframe once again and what we are left with now"
   ]
  },
  {
   "cell_type": "code",
   "execution_count": 29,
   "metadata": {
    "colab": {
     "base_uri": "https://localhost:8080/"
    },
    "colab_type": "code",
    "id": "Xo4vZELDnQe7",
    "outputId": "007d26dc-3c3e-4137-fe5e-1d6c04321756"
   },
   "outputs": [
    {
     "data": {
      "text/html": [
       "<div>\n",
       "<style scoped>\n",
       "    .dataframe tbody tr th:only-of-type {\n",
       "        vertical-align: middle;\n",
       "    }\n",
       "\n",
       "    .dataframe tbody tr th {\n",
       "        vertical-align: top;\n",
       "    }\n",
       "\n",
       "    .dataframe thead th {\n",
       "        text-align: right;\n",
       "    }\n",
       "</style>\n",
       "<table border=\"1\" class=\"dataframe\">\n",
       "  <thead>\n",
       "    <tr style=\"text-align: right;\">\n",
       "      <th></th>\n",
       "      <th>tweet_id</th>\n",
       "      <th>timestamp</th>\n",
       "      <th>source</th>\n",
       "      <th>text</th>\n",
       "      <th>expanded_urls</th>\n",
       "      <th>rating_numerator</th>\n",
       "      <th>rating_denominator</th>\n",
       "      <th>name</th>\n",
       "      <th>dog_stage</th>\n",
       "    </tr>\n",
       "  </thead>\n",
       "  <tbody>\n",
       "    <tr>\n",
       "      <th>0</th>\n",
       "      <td>892420643555336193</td>\n",
       "      <td>2017-08-01 16:23:56 +0000</td>\n",
       "      <td>&lt;a href=\"http://twitter.com/download/iphone\" r...</td>\n",
       "      <td>This is Phineas. He's a mystical boy. Only eve...</td>\n",
       "      <td>https://twitter.com/dog_rates/status/892420643...</td>\n",
       "      <td>13</td>\n",
       "      <td>10</td>\n",
       "      <td>Phineas</td>\n",
       "      <td></td>\n",
       "    </tr>\n",
       "    <tr>\n",
       "      <th>1</th>\n",
       "      <td>892177421306343426</td>\n",
       "      <td>2017-08-01 00:17:27 +0000</td>\n",
       "      <td>&lt;a href=\"http://twitter.com/download/iphone\" r...</td>\n",
       "      <td>This is Tilly. She's just checking pup on you....</td>\n",
       "      <td>https://twitter.com/dog_rates/status/892177421...</td>\n",
       "      <td>13</td>\n",
       "      <td>10</td>\n",
       "      <td>Tilly</td>\n",
       "      <td></td>\n",
       "    </tr>\n",
       "    <tr>\n",
       "      <th>2</th>\n",
       "      <td>891815181378084864</td>\n",
       "      <td>2017-07-31 00:18:03 +0000</td>\n",
       "      <td>&lt;a href=\"http://twitter.com/download/iphone\" r...</td>\n",
       "      <td>This is Archie. He is a rare Norwegian Pouncin...</td>\n",
       "      <td>https://twitter.com/dog_rates/status/891815181...</td>\n",
       "      <td>12</td>\n",
       "      <td>10</td>\n",
       "      <td>Archie</td>\n",
       "      <td></td>\n",
       "    </tr>\n",
       "  </tbody>\n",
       "</table>\n",
       "</div>"
      ],
      "text/plain": [
       "             tweet_id                  timestamp  \\\n",
       "0  892420643555336193  2017-08-01 16:23:56 +0000   \n",
       "1  892177421306343426  2017-08-01 00:17:27 +0000   \n",
       "2  891815181378084864  2017-07-31 00:18:03 +0000   \n",
       "\n",
       "                                              source  \\\n",
       "0  <a href=\"http://twitter.com/download/iphone\" r...   \n",
       "1  <a href=\"http://twitter.com/download/iphone\" r...   \n",
       "2  <a href=\"http://twitter.com/download/iphone\" r...   \n",
       "\n",
       "                                                text  \\\n",
       "0  This is Phineas. He's a mystical boy. Only eve...   \n",
       "1  This is Tilly. She's just checking pup on you....   \n",
       "2  This is Archie. He is a rare Norwegian Pouncin...   \n",
       "\n",
       "                                       expanded_urls  rating_numerator  \\\n",
       "0  https://twitter.com/dog_rates/status/892420643...                13   \n",
       "1  https://twitter.com/dog_rates/status/892177421...                13   \n",
       "2  https://twitter.com/dog_rates/status/891815181...                12   \n",
       "\n",
       "   rating_denominator     name dog_stage  \n",
       "0                  10  Phineas            \n",
       "1                  10    Tilly            \n",
       "2                  10   Archie            "
      ]
     },
     "execution_count": 29,
     "metadata": {},
     "output_type": "execute_result"
    }
   ],
   "source": [
    "df_twitter_clean.head(3)"
   ]
  },
  {
   "cell_type": "code",
   "execution_count": 30,
   "metadata": {
    "colab": {
     "base_uri": "https://localhost:8080/"
    },
    "colab_type": "code",
    "id": "MIVwuT5jbeJ4",
    "outputId": "a3b0128a-d2dc-4578-f90d-62207bb7ef96"
   },
   "outputs": [
    {
     "name": "stdout",
     "output_type": "stream",
     "text": [
      "<class 'pandas.core.frame.DataFrame'>\n",
      "Int64Index: 2175 entries, 0 to 2355\n",
      "Data columns (total 9 columns):\n",
      " #   Column              Non-Null Count  Dtype \n",
      "---  ------              --------------  ----- \n",
      " 0   tweet_id            2175 non-null   object\n",
      " 1   timestamp           2175 non-null   object\n",
      " 2   source              2175 non-null   object\n",
      " 3   text                2175 non-null   object\n",
      " 4   expanded_urls       2117 non-null   object\n",
      " 5   rating_numerator    2175 non-null   int64 \n",
      " 6   rating_denominator  2175 non-null   int64 \n",
      " 7   name                2175 non-null   object\n",
      " 8   dog_stage           2175 non-null   object\n",
      "dtypes: int64(2), object(7)\n",
      "memory usage: 169.9+ KB\n"
     ]
    }
   ],
   "source": [
    "df_twitter_clean.info()"
   ]
  },
  {
   "cell_type": "markdown",
   "metadata": {
    "colab_type": "text",
    "id": "OXYJjDRFkym0"
   },
   "source": [
    "## Quality Issue 4\n",
    "\n",
    "**Define:** Convert timestamp to datetime format\n",
    "\n",
    "**Code:** Use pandas to_datatime() function"
   ]
  },
  {
   "cell_type": "code",
   "execution_count": 31,
   "metadata": {
    "colab": {
     "base_uri": "https://localhost:8080/"
    },
    "colab_type": "code",
    "id": "Z4pZF-DOkWf_",
    "outputId": "c5a50cf8-d9c7-4dc5-b2e7-638c7cfb0117"
   },
   "outputs": [
    {
     "data": {
      "text/plain": [
       "218     2017-04-07 13:04:55 +0000\n",
       "1466    2016-02-02 02:10:14 +0000\n",
       "1997    2015-12-04 01:40:29 +0000\n",
       "2142    2015-11-26 20:12:29 +0000\n",
       "1757    2015-12-21 02:30:45 +0000\n",
       "Name: timestamp, dtype: object"
      ]
     },
     "execution_count": 31,
     "metadata": {},
     "output_type": "execute_result"
    }
   ],
   "source": [
    "df_twitter_clean['timestamp'].sample(5)"
   ]
  },
  {
   "cell_type": "markdown",
   "metadata": {
    "colab_type": "text",
    "id": "6V0QToovrOYD"
   },
   "source": [
    "First we would need to clean up the format so it can be accepted by the function"
   ]
  },
  {
   "cell_type": "code",
   "execution_count": 32,
   "metadata": {
    "colab": {
     "base_uri": "https://localhost:8080/"
    },
    "colab_type": "code",
    "id": "mu7fhS-8qv80",
    "outputId": "43dae8f0-ec72-4bd7-b30f-4f1031b9ffec"
   },
   "outputs": [
    {
     "data": {
      "text/plain": [
       "607    2016-11-14 17:03:50\n",
       "Name: timestamp, dtype: object"
      ]
     },
     "execution_count": 32,
     "metadata": {},
     "output_type": "execute_result"
    }
   ],
   "source": [
    "# test\n",
    "df_twitter_clean.sample(1)['timestamp'].str.slice(start=0, stop=-6)"
   ]
  },
  {
   "cell_type": "code",
   "execution_count": 33,
   "metadata": {
    "colab": {},
    "colab_type": "code",
    "id": "sDb9LK7Orit5"
   },
   "outputs": [],
   "source": [
    "# apply\n",
    "df_twitter_clean['timestamp'] = df_twitter_clean['timestamp'].str.slice(start=0, stop=-6)\n",
    "df_twitter_clean['timestamp'] = pd.to_datetime(df_twitter_clean['timestamp'], format = \"%Y-%m-%d %H:%M:%S\")"
   ]
  },
  {
   "cell_type": "markdown",
   "metadata": {
    "colab_type": "text",
    "id": "pOI6jLZRsCmR"
   },
   "source": [
    "**Test:** lets take a look at the dataframe information if the change has been applied. we expect to see the DateTime as the datatype for timestamp column"
   ]
  },
  {
   "cell_type": "code",
   "execution_count": 34,
   "metadata": {
    "colab": {
     "base_uri": "https://localhost:8080/"
    },
    "colab_type": "code",
    "id": "es8n18CQsBLS",
    "outputId": "7a12c4b6-3005-4ec2-f9de-c7d54d545585"
   },
   "outputs": [
    {
     "name": "stdout",
     "output_type": "stream",
     "text": [
      "<class 'pandas.core.frame.DataFrame'>\n",
      "Int64Index: 2175 entries, 0 to 2355\n",
      "Data columns (total 9 columns):\n",
      " #   Column              Non-Null Count  Dtype         \n",
      "---  ------              --------------  -----         \n",
      " 0   tweet_id            2175 non-null   object        \n",
      " 1   timestamp           2175 non-null   datetime64[ns]\n",
      " 2   source              2175 non-null   object        \n",
      " 3   text                2175 non-null   object        \n",
      " 4   expanded_urls       2117 non-null   object        \n",
      " 5   rating_numerator    2175 non-null   int64         \n",
      " 6   rating_denominator  2175 non-null   int64         \n",
      " 7   name                2175 non-null   object        \n",
      " 8   dog_stage           2175 non-null   object        \n",
      "dtypes: datetime64[ns](1), int64(2), object(6)\n",
      "memory usage: 169.9+ KB\n"
     ]
    }
   ],
   "source": [
    "df_twitter_clean.info()"
   ]
  },
  {
   "cell_type": "markdown",
   "metadata": {
    "colab_type": "text",
    "id": "LRqtLxmWtLRw"
   },
   "source": [
    "## Quality Issue 5\n",
    "\n",
    "**Define:** Transform dog names to match same case preference \n",
    "\n",
    "**Code:** We use regular expression to capitalize the first letter in all names"
   ]
  },
  {
   "cell_type": "code",
   "execution_count": 35,
   "metadata": {
    "colab": {},
    "colab_type": "code",
    "id": "g1gXjVe7sU2f"
   },
   "outputs": [],
   "source": [
    "df_twitter_clean.name = df_twitter_clean.name.str.replace('^[a-z]+', 'None')"
   ]
  },
  {
   "cell_type": "markdown",
   "metadata": {
    "colab_type": "text",
    "id": "tFShUmw_tqUn"
   },
   "source": [
    "**Test:** Verify a random sample to check if the names appear correct now"
   ]
  },
  {
   "cell_type": "code",
   "execution_count": 36,
   "metadata": {
    "colab": {
     "base_uri": "https://localhost:8080/"
    },
    "colab_type": "code",
    "id": "BQergBZAtKVy",
    "outputId": "cc5bf0e8-0c4a-4550-c418-60259f9562a8"
   },
   "outputs": [
    {
     "data": {
      "text/plain": [
       "2087    Trigger\n",
       "993        None\n",
       "1815       None\n",
       "1706       None\n",
       "1871       None\n",
       "1816       None\n",
       "827      DonDon\n",
       "1434    Bentley\n",
       "1097       None\n",
       "1494    Chester\n",
       "Name: name, dtype: object"
      ]
     },
     "execution_count": 36,
     "metadata": {},
     "output_type": "execute_result"
    }
   ],
   "source": [
    "df_twitter_clean.sample(10)['name']"
   ]
  },
  {
   "cell_type": "markdown",
   "metadata": {
    "colab_type": "text",
    "id": "PLrOGRRwvf3O"
   },
   "source": [
    "## Quality Issue 6\n",
    "\n",
    "**Define**: Remove HTML tags from source column\n",
    "\n",
    "**Code**: Use regular expression to extract the html tag content"
   ]
  },
  {
   "cell_type": "code",
   "execution_count": 37,
   "metadata": {
    "colab": {
     "base_uri": "https://localhost:8080/"
    },
    "colab_type": "code",
    "id": "2x6w85lI2Vq8",
    "outputId": "93d7988e-4bb5-46fb-94d1-cf932ddf0e34"
   },
   "outputs": [
    {
     "name": "stdout",
     "output_type": "stream",
     "text": [
      "Before: <a href=\"http://twitter.com/download/iphone\" rel=\"nofollow\">Twitter for iPhone</a>\n",
      "After: Vine - Make a Scene\n"
     ]
    }
   ],
   "source": [
    "source_str = df_twitter_clean.sample(1)['source'].iloc[0]\n",
    "source_modified = re.findall(r'>(.*)<', df_twitter_clean.sample(1)['source'].iloc[0])[0]\n",
    "print(f'Before: {source_str}')\n",
    "print(f'After: {source_modified}')"
   ]
  },
  {
   "cell_type": "code",
   "execution_count": 38,
   "metadata": {
    "colab": {},
    "colab_type": "code",
    "id": "fvOuMdqs2d92"
   },
   "outputs": [],
   "source": [
    "# apply to entire column\n",
    "df_twitter_clean['source'] = df_twitter_clean['source'].apply(lambda x: re.findall(r'>(.*)<', x)[0])"
   ]
  },
  {
   "cell_type": "markdown",
   "metadata": {
    "colab_type": "text",
    "id": "DZswArcc8skP"
   },
   "source": [
    "**Test:** Verify the dataframe sorce column"
   ]
  },
  {
   "cell_type": "code",
   "execution_count": 39,
   "metadata": {
    "colab": {
     "base_uri": "https://localhost:8080/"
    },
    "colab_type": "code",
    "id": "BBICJ0ZE8kBe",
    "outputId": "cbcdf058-b24b-49dc-e06b-ac228b06b200"
   },
   "outputs": [
    {
     "data": {
      "text/plain": [
       "2354    Twitter for iPhone\n",
       "1573    Twitter for iPhone\n",
       "704     Twitter for iPhone\n",
       "1817    Twitter for iPhone\n",
       "346     Twitter for iPhone\n",
       "1701    Twitter for iPhone\n",
       "2349    Twitter for iPhone\n",
       "1962    Twitter for iPhone\n",
       "1977    Twitter for iPhone\n",
       "92      Twitter for iPhone\n",
       "Name: source, dtype: object"
      ]
     },
     "execution_count": 39,
     "metadata": {},
     "output_type": "execute_result"
    }
   ],
   "source": [
    "df_twitter_clean.sample(10)['source']"
   ]
  },
  {
   "cell_type": "code",
   "execution_count": 40,
   "metadata": {
    "colab": {
     "base_uri": "https://localhost:8080/"
    },
    "colab_type": "code",
    "id": "OXqJXLjr9cOt",
    "outputId": "a2135b04-59f4-4db5-bf1b-1dd4bd673aac"
   },
   "outputs": [
    {
     "data": {
      "text/plain": [
       "Twitter for iPhone     2042\n",
       "Vine - Make a Scene      91\n",
       "Twitter Web Client       31\n",
       "TweetDeck                11\n",
       "Name: source, dtype: int64"
      ]
     },
     "execution_count": 40,
     "metadata": {},
     "output_type": "execute_result"
    }
   ],
   "source": [
    "df_twitter_clean['source'].value_counts()"
   ]
  },
  {
   "cell_type": "markdown",
   "metadata": {
    "colab_type": "text",
    "id": "UweV8yJiAE3Y"
   },
   "source": [
    "## Quality Issue 7\n",
    "\n",
    "**Define:** Fix ratings numerator and denominator\n",
    "\n",
    "**Code:** First lets change the data format for numerator and denominator to be a float\n",
    "\n",
    "\n"
   ]
  },
  {
   "cell_type": "code",
   "execution_count": 41,
   "metadata": {
    "colab": {},
    "colab_type": "code",
    "id": "7ym591-o9qYr"
   },
   "outputs": [],
   "source": [
    "df_twitter_clean['rating_numerator'] = df_twitter_clean['rating_numerator'].astype(float)\n",
    "df_twitter_clean['rating_denominator'] = df_twitter_clean['rating_denominator'].astype(float)"
   ]
  },
  {
   "cell_type": "markdown",
   "metadata": {
    "colab_type": "text",
    "id": "oZYrL4j6OeM-"
   },
   "source": [
    "Next, we will search the text column for numerators with decimal point"
   ]
  },
  {
   "cell_type": "code",
   "execution_count": 42,
   "metadata": {
    "colab": {
     "base_uri": "https://localhost:8080/"
    },
    "colab_type": "code",
    "id": "EWcwHJgYOQjX",
    "outputId": "b6979064-3134-4360-936c-86cbf0da79b5"
   },
   "outputs": [
    {
     "name": "stdout",
     "output_type": "stream",
     "text": [
      "This is Misty. She has a cowboy hat on her nose. 12/10 https://t.co/Eno0mypHIr\n"
     ]
    }
   ],
   "source": [
    "# have a look at one of the text fields to create regex pattern\n",
    "temp_text = df_twitter_clean.sample(1)['text'].iloc[0]\n",
    "print(temp_text)"
   ]
  },
  {
   "cell_type": "code",
   "execution_count": 43,
   "metadata": {
    "colab": {
     "base_uri": "https://localhost:8080/"
    },
    "colab_type": "code",
    "id": "htVRt8fAPM6F",
    "outputId": "e558b07b-457f-4414-9e9b-cda1e018ebb0"
   },
   "outputs": [
    {
     "name": "stdout",
     "output_type": "stream",
     "text": [
      "<_sre.SRE_Match object; span=(49, 54), match='12/10'>\n"
     ]
    }
   ],
   "source": [
    "# first we try to searh without a decimal point since that is more common\n",
    "result = re.search('\\d+\\/\\d+', temp_text)\n",
    "print(result)"
   ]
  },
  {
   "cell_type": "code",
   "execution_count": 44,
   "metadata": {
    "colab": {
     "base_uri": "https://localhost:8080/"
    },
    "colab_type": "code",
    "id": "zAsYSTy1WTA0",
    "outputId": "8c27f8b4-5d37-4d9f-a040-aefae3890354"
   },
   "outputs": [
    {
     "data": {
      "text/plain": [
       "True"
      ]
     },
     "execution_count": 44,
     "metadata": {},
     "output_type": "execute_result"
    }
   ],
   "source": [
    "bool(result)"
   ]
  },
  {
   "cell_type": "code",
   "execution_count": 45,
   "metadata": {
    "colab": {
     "base_uri": "https://localhost:8080/"
    },
    "colab_type": "code",
    "id": "bv_uty2DVSrL",
    "outputId": "cab9f05f-ba9b-42b4-9f33-a32f52e78bee"
   },
   "outputs": [
    {
     "data": {
      "text/plain": [
       "'12/10'"
      ]
     },
     "execution_count": 45,
     "metadata": {},
     "output_type": "execute_result"
    }
   ],
   "source": [
    "result.group()"
   ]
  },
  {
   "cell_type": "code",
   "execution_count": 46,
   "metadata": {
    "colab": {
     "base_uri": "https://localhost:8080/"
    },
    "colab_type": "code",
    "id": "SL9owzJqO1Eb",
    "outputId": "b366a1ee-8ac9-498d-cbe5-df8f20930bf5"
   },
   "outputs": [
    {
     "name": "stdout",
     "output_type": "stream",
     "text": [
      "45 :  13.5/10 ,  This is Bella. She hopes her smile made you smile. If not, she is also offering you her favorite monkey. 13.5/10 https://t.co/qjrljjt948\n",
      "695 :  9.75/10 ,  This is Logan, the Chow who lived. He solemnly swears he's up to lots of good. H*ckin magical af 9.75/10 https://t.co/yBO5wuqaPS\n",
      "763 :  11.27/10 ,  This is Sophie. She's a Jubilant Bush Pupper. Super h*ckin rare. Appears at random just to smile at the locals. 11.27/10 would smile back https://t.co/QFaUiIHxHq\n",
      "1689 :  9.5/10 ,  I've been told there's a slight possibility he's checking his mirror. We'll bump to 9.5/10. Still a menace\n",
      "1712 :  11.26/10 ,  Here we have uncovered an entire battalion of holiday puppers. Average of 11.26/10 https://t.co/eNm2S6p9BD\n"
     ]
    }
   ],
   "source": [
    "# Search for the index of rows with decimal in ratings numerator\n",
    "decimal_rating_index=[]\n",
    "decimal_rating_values=[]\n",
    "for index, row in df_twitter_clean.iterrows():\n",
    "    text = row['text']\n",
    "    result = re.search('\\d+\\.\\d+\\/\\d+', text)\n",
    "    if bool(result):\n",
    "        decimal_rating_index.append(index)\n",
    "        decimal_rating_values.append(result.group())\n",
    "        print(index, ': ', result.group(), ', ', text)"
   ]
  },
  {
   "cell_type": "code",
   "execution_count": 47,
   "metadata": {
    "colab": {
     "base_uri": "https://localhost:8080/"
    },
    "colab_type": "code",
    "id": "Iuf766yvQclM",
    "outputId": "dbd22981-8107-47f1-d096-9f4fff9775d0"
   },
   "outputs": [
    {
     "name": "stdout",
     "output_type": "stream",
     "text": [
      "['13.5', '10']\n",
      "['9.75', '10']\n",
      "['11.27', '10']\n",
      "['9.5', '10']\n",
      "['11.26', '10']\n"
     ]
    }
   ],
   "source": [
    "for i, index in enumerate(decimal_rating_index):\n",
    "    num_splits = decimal_rating_values[i].split('/')\n",
    "    print(num_splits)\n",
    "    df_twitter_clean.loc[index,'rating_numerator'] = float(num_splits[0])\n",
    "    df_twitter_clean.loc[index,'rating_denominator'] = float(num_splits[1])"
   ]
  },
  {
   "cell_type": "code",
   "execution_count": 48,
   "metadata": {
    "colab": {
     "base_uri": "https://localhost:8080/"
    },
    "colab_type": "code",
    "id": "vv5OMNqoeIxv",
    "outputId": "98a4880b-08b5-47cf-bc8b-98eb47b574c5"
   },
   "outputs": [
    {
     "data": {
      "text/plain": [
       "10.0"
      ]
     },
     "execution_count": 48,
     "metadata": {},
     "output_type": "execute_result"
    }
   ],
   "source": [
    "float(num_splits[1])"
   ]
  },
  {
   "cell_type": "markdown",
   "metadata": {
    "colab_type": "text",
    "id": "KGa9EmPqak71"
   },
   "source": [
    "**Test:** Verify numerator and denominator values in the rows affected"
   ]
  },
  {
   "cell_type": "code",
   "execution_count": 49,
   "metadata": {
    "colab": {
     "base_uri": "https://localhost:8080/"
    },
    "colab_type": "code",
    "id": "MxSu3yt8YpXh",
    "outputId": "1e97dc49-caae-43f3-8d33-dc31d5c8c218"
   },
   "outputs": [
    {
     "name": "stdout",
     "output_type": "stream",
     "text": [
      "tweet_id                                             883482846933004288\n",
      "timestamp                                           2017-07-08 00:28:19\n",
      "source                                               Twitter for iPhone\n",
      "text                  This is Bella. She hopes her smile made you sm...\n",
      "expanded_urls         https://twitter.com/dog_rates/status/883482846...\n",
      "rating_numerator                                                   13.5\n",
      "rating_denominator                                                   10\n",
      "name                                                              Bella\n",
      "dog_stage                                                              \n",
      "Name: 45, dtype: object\n",
      "-----------------------------------------------------------------------\n",
      "tweet_id                                             786709082849828864\n",
      "timestamp                                           2016-10-13 23:23:56\n",
      "source                                               Twitter for iPhone\n",
      "text                  This is Logan, the Chow who lived. He solemnly...\n",
      "expanded_urls         https://twitter.com/dog_rates/status/786709082...\n",
      "rating_numerator                                                   9.75\n",
      "rating_denominator                                                   10\n",
      "name                                                              Logan\n",
      "dog_stage                                                              \n",
      "Name: 695, dtype: object\n",
      "-----------------------------------------------------------------------\n",
      "tweet_id                                             778027034220126208\n",
      "timestamp                                           2016-09-20 00:24:34\n",
      "source                                               Twitter for iPhone\n",
      "text                  This is Sophie. She's a Jubilant Bush Pupper. ...\n",
      "expanded_urls         https://twitter.com/dog_rates/status/778027034...\n",
      "rating_numerator                                                  11.27\n",
      "rating_denominator                                                   10\n",
      "name                                                             Sophie\n",
      "dog_stage                                                        pupper\n",
      "Name: 763, dtype: object\n",
      "-----------------------------------------------------------------------\n",
      "tweet_id                                             681340665377193984\n",
      "timestamp                                           2015-12-28 05:07:27\n",
      "source                                               Twitter for iPhone\n",
      "text                  I've been told there's a slight possibility he...\n",
      "expanded_urls                                                       NaN\n",
      "rating_numerator                                                    9.5\n",
      "rating_denominator                                                   10\n",
      "name                                                               None\n",
      "dog_stage                                                              \n",
      "Name: 1689, dtype: object\n",
      "-----------------------------------------------------------------------\n",
      "tweet_id                                             680494726643068929\n",
      "timestamp                                           2015-12-25 21:06:00\n",
      "source                                               Twitter for iPhone\n",
      "text                  Here we have uncovered an entire battalion of ...\n",
      "expanded_urls         https://twitter.com/dog_rates/status/680494726...\n",
      "rating_numerator                                                  11.26\n",
      "rating_denominator                                                   10\n",
      "name                                                               None\n",
      "dog_stage                                                              \n",
      "Name: 1712, dtype: object\n",
      "-----------------------------------------------------------------------\n"
     ]
    }
   ],
   "source": [
    "for index in decimal_rating_index:\n",
    "    print(df_twitter_clean.loc[index])\n",
    "    print('-----------------------------------------------------------------------')"
   ]
  },
  {
   "cell_type": "code",
   "execution_count": 50,
   "metadata": {
    "colab": {
     "base_uri": "https://localhost:8080/"
    },
    "colab_type": "code",
    "id": "g8g95y8scOQb",
    "outputId": "0d45deed-8226-497a-ce5b-75caf894c5b0"
   },
   "outputs": [
    {
     "data": {
      "text/html": [
       "<div>\n",
       "<style scoped>\n",
       "    .dataframe tbody tr th:only-of-type {\n",
       "        vertical-align: middle;\n",
       "    }\n",
       "\n",
       "    .dataframe tbody tr th {\n",
       "        vertical-align: top;\n",
       "    }\n",
       "\n",
       "    .dataframe thead th {\n",
       "        text-align: right;\n",
       "    }\n",
       "</style>\n",
       "<table border=\"1\" class=\"dataframe\">\n",
       "  <thead>\n",
       "    <tr style=\"text-align: right;\">\n",
       "      <th></th>\n",
       "      <th>rating_numerator</th>\n",
       "      <th>rating_denominator</th>\n",
       "    </tr>\n",
       "  </thead>\n",
       "  <tbody>\n",
       "    <tr>\n",
       "      <th>count</th>\n",
       "      <td>2175.000000</td>\n",
       "      <td>2175.000000</td>\n",
       "    </tr>\n",
       "    <tr>\n",
       "      <th>mean</th>\n",
       "      <td>13.177140</td>\n",
       "      <td>10.492874</td>\n",
       "    </tr>\n",
       "    <tr>\n",
       "      <th>std</th>\n",
       "      <td>47.705088</td>\n",
       "      <td>7.019084</td>\n",
       "    </tr>\n",
       "    <tr>\n",
       "      <th>min</th>\n",
       "      <td>0.000000</td>\n",
       "      <td>0.000000</td>\n",
       "    </tr>\n",
       "    <tr>\n",
       "      <th>25%</th>\n",
       "      <td>10.000000</td>\n",
       "      <td>10.000000</td>\n",
       "    </tr>\n",
       "    <tr>\n",
       "      <th>50%</th>\n",
       "      <td>11.000000</td>\n",
       "      <td>10.000000</td>\n",
       "    </tr>\n",
       "    <tr>\n",
       "      <th>75%</th>\n",
       "      <td>12.000000</td>\n",
       "      <td>10.000000</td>\n",
       "    </tr>\n",
       "    <tr>\n",
       "      <th>max</th>\n",
       "      <td>1776.000000</td>\n",
       "      <td>170.000000</td>\n",
       "    </tr>\n",
       "  </tbody>\n",
       "</table>\n",
       "</div>"
      ],
      "text/plain": [
       "       rating_numerator  rating_denominator\n",
       "count       2175.000000         2175.000000\n",
       "mean          13.177140           10.492874\n",
       "std           47.705088            7.019084\n",
       "min            0.000000            0.000000\n",
       "25%           10.000000           10.000000\n",
       "50%           11.000000           10.000000\n",
       "75%           12.000000           10.000000\n",
       "max         1776.000000          170.000000"
      ]
     },
     "execution_count": 50,
     "metadata": {},
     "output_type": "execute_result"
    }
   ],
   "source": [
    "df_twitter_clean.describe()"
   ]
  },
  {
   "cell_type": "code",
   "execution_count": 51,
   "metadata": {
    "colab": {
     "base_uri": "https://localhost:8080/"
    },
    "colab_type": "code",
    "id": "gKUD4W5Ue2im",
    "outputId": "b7a42044-31d0-46a9-dd3d-a1f642f11684"
   },
   "outputs": [
    {
     "name": "stdout",
     "output_type": "stream",
     "text": [
      "<class 'pandas.core.frame.DataFrame'>\n",
      "Int64Index: 2175 entries, 0 to 2355\n",
      "Data columns (total 9 columns):\n",
      " #   Column              Non-Null Count  Dtype         \n",
      "---  ------              --------------  -----         \n",
      " 0   tweet_id            2175 non-null   object        \n",
      " 1   timestamp           2175 non-null   datetime64[ns]\n",
      " 2   source              2175 non-null   object        \n",
      " 3   text                2175 non-null   object        \n",
      " 4   expanded_urls       2117 non-null   object        \n",
      " 5   rating_numerator    2175 non-null   float64       \n",
      " 6   rating_denominator  2175 non-null   float64       \n",
      " 7   name                2175 non-null   object        \n",
      " 8   dog_stage           2175 non-null   object        \n",
      "dtypes: datetime64[ns](1), float64(2), object(6)\n",
      "memory usage: 249.9+ KB\n"
     ]
    }
   ],
   "source": [
    "df_twitter_clean.info()"
   ]
  },
  {
   "cell_type": "markdown",
   "metadata": {
    "colab_type": "text",
    "id": "L7mHsxuLgGK2"
   },
   "source": [
    "## Quality Issue 8\n",
    "\n",
    "**Define:** Create a rating column using the numerator and denominator so it is easy to compare one dog against another irrespective of their rating scale\n",
    "\n",
    "**Code:** We devide numerator with denominator and assign to new column"
   ]
  },
  {
   "cell_type": "code",
   "execution_count": 52,
   "metadata": {
    "colab": {},
    "colab_type": "code",
    "id": "VsWnYlTQfGQ6"
   },
   "outputs": [],
   "source": [
    "df_twitter_clean['rating'] = df_twitter_clean['rating_numerator'] / df_twitter_clean['rating_denominator']"
   ]
  },
  {
   "cell_type": "markdown",
   "metadata": {
    "colab_type": "text",
    "id": "LBtJtdj0hKYe"
   },
   "source": [
    "**Test:** Sample the dataframe and view the new column"
   ]
  },
  {
   "cell_type": "code",
   "execution_count": 53,
   "metadata": {
    "colab": {
     "base_uri": "https://localhost:8080/",
     "height": 536
    },
    "colab_type": "code",
    "id": "VUUQjQurhJHz",
    "outputId": "6e0d496b-c896-4ff1-f151-1f721a0a6670"
   },
   "outputs": [
    {
     "data": {
      "text/html": [
       "<div>\n",
       "<style scoped>\n",
       "    .dataframe tbody tr th:only-of-type {\n",
       "        vertical-align: middle;\n",
       "    }\n",
       "\n",
       "    .dataframe tbody tr th {\n",
       "        vertical-align: top;\n",
       "    }\n",
       "\n",
       "    .dataframe thead th {\n",
       "        text-align: right;\n",
       "    }\n",
       "</style>\n",
       "<table border=\"1\" class=\"dataframe\">\n",
       "  <thead>\n",
       "    <tr style=\"text-align: right;\">\n",
       "      <th></th>\n",
       "      <th>tweet_id</th>\n",
       "      <th>timestamp</th>\n",
       "      <th>source</th>\n",
       "      <th>text</th>\n",
       "      <th>expanded_urls</th>\n",
       "      <th>rating_numerator</th>\n",
       "      <th>rating_denominator</th>\n",
       "      <th>name</th>\n",
       "      <th>dog_stage</th>\n",
       "      <th>rating</th>\n",
       "    </tr>\n",
       "  </thead>\n",
       "  <tbody>\n",
       "    <tr>\n",
       "      <th>781</th>\n",
       "      <td>775729183532220416</td>\n",
       "      <td>2016-09-13 16:13:44</td>\n",
       "      <td>Twitter for iPhone</td>\n",
       "      <td>This girl straight up rejected a guy because h...</td>\n",
       "      <td>https://twitter.com/dog_rates/status/775729183...</td>\n",
       "      <td>13.0</td>\n",
       "      <td>10.0</td>\n",
       "      <td>None</td>\n",
       "      <td></td>\n",
       "      <td>1.3</td>\n",
       "    </tr>\n",
       "    <tr>\n",
       "      <th>2348</th>\n",
       "      <td>666055525042405380</td>\n",
       "      <td>2015-11-16 00:49:46</td>\n",
       "      <td>Twitter for iPhone</td>\n",
       "      <td>Here is a Siberian heavily armored polar bear ...</td>\n",
       "      <td>https://twitter.com/dog_rates/status/666055525...</td>\n",
       "      <td>10.0</td>\n",
       "      <td>10.0</td>\n",
       "      <td>None</td>\n",
       "      <td></td>\n",
       "      <td>1.0</td>\n",
       "    </tr>\n",
       "    <tr>\n",
       "      <th>1918</th>\n",
       "      <td>674271431610523648</td>\n",
       "      <td>2015-12-08 16:56:51</td>\n",
       "      <td>Twitter for iPhone</td>\n",
       "      <td>\"AT DAWN, WE RIDE\"\\n10/10 for both dogs https:...</td>\n",
       "      <td>https://twitter.com/dog_rates/status/674271431...</td>\n",
       "      <td>10.0</td>\n",
       "      <td>10.0</td>\n",
       "      <td>None</td>\n",
       "      <td></td>\n",
       "      <td>1.0</td>\n",
       "    </tr>\n",
       "    <tr>\n",
       "      <th>1746</th>\n",
       "      <td>679132435750195208</td>\n",
       "      <td>2015-12-22 02:52:45</td>\n",
       "      <td>Twitter for iPhone</td>\n",
       "      <td>This is Louis. He's a river dancer. His friend...</td>\n",
       "      <td>https://twitter.com/dog_rates/status/679132435...</td>\n",
       "      <td>10.0</td>\n",
       "      <td>10.0</td>\n",
       "      <td>Louis</td>\n",
       "      <td></td>\n",
       "      <td>1.0</td>\n",
       "    </tr>\n",
       "    <tr>\n",
       "      <th>1772</th>\n",
       "      <td>678278586130948096</td>\n",
       "      <td>2015-12-19 18:19:51</td>\n",
       "      <td>Twitter for iPhone</td>\n",
       "      <td>Another spooky pupper here. Most definitely fl...</td>\n",
       "      <td>https://twitter.com/dog_rates/status/678278586...</td>\n",
       "      <td>10.0</td>\n",
       "      <td>10.0</td>\n",
       "      <td>None</td>\n",
       "      <td>pupper</td>\n",
       "      <td>1.0</td>\n",
       "    </tr>\n",
       "  </tbody>\n",
       "</table>\n",
       "</div>"
      ],
      "text/plain": [
       "                tweet_id           timestamp              source  \\\n",
       "781   775729183532220416 2016-09-13 16:13:44  Twitter for iPhone   \n",
       "2348  666055525042405380 2015-11-16 00:49:46  Twitter for iPhone   \n",
       "1918  674271431610523648 2015-12-08 16:56:51  Twitter for iPhone   \n",
       "1746  679132435750195208 2015-12-22 02:52:45  Twitter for iPhone   \n",
       "1772  678278586130948096 2015-12-19 18:19:51  Twitter for iPhone   \n",
       "\n",
       "                                                   text  \\\n",
       "781   This girl straight up rejected a guy because h...   \n",
       "2348  Here is a Siberian heavily armored polar bear ...   \n",
       "1918  \"AT DAWN, WE RIDE\"\\n10/10 for both dogs https:...   \n",
       "1746  This is Louis. He's a river dancer. His friend...   \n",
       "1772  Another spooky pupper here. Most definitely fl...   \n",
       "\n",
       "                                          expanded_urls  rating_numerator  \\\n",
       "781   https://twitter.com/dog_rates/status/775729183...              13.0   \n",
       "2348  https://twitter.com/dog_rates/status/666055525...              10.0   \n",
       "1918  https://twitter.com/dog_rates/status/674271431...              10.0   \n",
       "1746  https://twitter.com/dog_rates/status/679132435...              10.0   \n",
       "1772  https://twitter.com/dog_rates/status/678278586...              10.0   \n",
       "\n",
       "      rating_denominator   name dog_stage  rating  \n",
       "781                 10.0   None               1.3  \n",
       "2348                10.0   None               1.0  \n",
       "1918                10.0   None               1.0  \n",
       "1746                10.0  Louis               1.0  \n",
       "1772                10.0   None    pupper     1.0  "
      ]
     },
     "execution_count": 53,
     "metadata": {},
     "output_type": "execute_result"
    }
   ],
   "source": [
    "df_twitter_clean.sample(5)"
   ]
  },
  {
   "cell_type": "markdown",
   "metadata": {
    "colab_type": "text",
    "id": "NNccRcgBjPlD"
   },
   "source": [
    "## Quality Issue 9\n",
    "**Define:** Add column dog_breed to predictions data frame based on predictions \n",
    "\n",
    "**Code:** Consolidate the predictions and their repective probablitiy to one dog_breed column"
   ]
  },
  {
   "cell_type": "code",
   "execution_count": 54,
   "metadata": {
    "colab": {},
    "colab_type": "code",
    "id": "bdoXNK3Bsa3F"
   },
   "outputs": [],
   "source": [
    "dog_breed = []\n",
    "for i, row in df_img_preds_clean.iterrows():\n",
    "    if row['p1_dog']:\n",
    "        dog_breed.append(row.p1)\n",
    "    elif row['p2_dog']:\n",
    "        dog_breed.append(row.p2)\n",
    "    elif row['p3_dog']:\n",
    "        dog_breed.append(row.p3)\n",
    "    else:\n",
    "        dog_breed.append('None')\n",
    "        \n",
    "df_img_preds_clean['dog_breed'] = dog_breed"
   ]
  },
  {
   "cell_type": "markdown",
   "metadata": {},
   "source": [
    "**Test**: Sample the dataframe as well its summary information to look at the newly created column"
   ]
  },
  {
   "cell_type": "code",
   "execution_count": 55,
   "metadata": {
    "colab": {
     "base_uri": "https://localhost:8080/",
     "height": 211
    },
    "colab_type": "code",
    "id": "yOdXdi4jhlVi",
    "outputId": "d9ad38bb-0868-4045-c635-ae513950cbcd"
   },
   "outputs": [
    {
     "data": {
      "text/html": [
       "<div>\n",
       "<style scoped>\n",
       "    .dataframe tbody tr th:only-of-type {\n",
       "        vertical-align: middle;\n",
       "    }\n",
       "\n",
       "    .dataframe tbody tr th {\n",
       "        vertical-align: top;\n",
       "    }\n",
       "\n",
       "    .dataframe thead th {\n",
       "        text-align: right;\n",
       "    }\n",
       "</style>\n",
       "<table border=\"1\" class=\"dataframe\">\n",
       "  <thead>\n",
       "    <tr style=\"text-align: right;\">\n",
       "      <th></th>\n",
       "      <th>tweet_id</th>\n",
       "      <th>jpg_url</th>\n",
       "      <th>img_num</th>\n",
       "      <th>p1</th>\n",
       "      <th>p1_conf</th>\n",
       "      <th>p1_dog</th>\n",
       "      <th>p2</th>\n",
       "      <th>p2_conf</th>\n",
       "      <th>p2_dog</th>\n",
       "      <th>p3</th>\n",
       "      <th>p3_conf</th>\n",
       "      <th>p3_dog</th>\n",
       "      <th>dog_breed</th>\n",
       "    </tr>\n",
       "  </thead>\n",
       "  <tbody>\n",
       "    <tr>\n",
       "      <th>1095</th>\n",
       "      <td>720043174954147842</td>\n",
       "      <td>https://pbs.twimg.com/media/Cf4bcm8XEAAX4xV.jpg</td>\n",
       "      <td>1</td>\n",
       "      <td>Samoyed</td>\n",
       "      <td>0.954517</td>\n",
       "      <td>True</td>\n",
       "      <td>Eskimo_dog</td>\n",
       "      <td>0.029130</td>\n",
       "      <td>True</td>\n",
       "      <td>white_wolf</td>\n",
       "      <td>0.004462</td>\n",
       "      <td>False</td>\n",
       "      <td>Samoyed</td>\n",
       "    </tr>\n",
       "    <tr>\n",
       "      <th>504</th>\n",
       "      <td>675888385639251968</td>\n",
       "      <td>https://pbs.twimg.com/media/CWE85snWIAEG5ES.jpg</td>\n",
       "      <td>1</td>\n",
       "      <td>West_Highland_white_terrier</td>\n",
       "      <td>0.672117</td>\n",
       "      <td>True</td>\n",
       "      <td>Old_English_sheepdog</td>\n",
       "      <td>0.146147</td>\n",
       "      <td>True</td>\n",
       "      <td>komondor</td>\n",
       "      <td>0.023141</td>\n",
       "      <td>True</td>\n",
       "      <td>West_Highland_white_terrier</td>\n",
       "    </tr>\n",
       "    <tr>\n",
       "      <th>1017</th>\n",
       "      <td>709918798883774466</td>\n",
       "      <td>https://pbs.twimg.com/media/CdojYQmW8AApv4h.jpg</td>\n",
       "      <td>2</td>\n",
       "      <td>Pembroke</td>\n",
       "      <td>0.956222</td>\n",
       "      <td>True</td>\n",
       "      <td>Cardigan</td>\n",
       "      <td>0.020727</td>\n",
       "      <td>True</td>\n",
       "      <td>Chihuahua</td>\n",
       "      <td>0.007912</td>\n",
       "      <td>True</td>\n",
       "      <td>Pembroke</td>\n",
       "    </tr>\n",
       "    <tr>\n",
       "      <th>17</th>\n",
       "      <td>666104133288665088</td>\n",
       "      <td>https://pbs.twimg.com/media/CT56LSZWoAAlJj2.jpg</td>\n",
       "      <td>1</td>\n",
       "      <td>hen</td>\n",
       "      <td>0.965932</td>\n",
       "      <td>False</td>\n",
       "      <td>cock</td>\n",
       "      <td>0.033919</td>\n",
       "      <td>False</td>\n",
       "      <td>partridge</td>\n",
       "      <td>0.000052</td>\n",
       "      <td>False</td>\n",
       "      <td>None</td>\n",
       "    </tr>\n",
       "    <tr>\n",
       "      <th>1741</th>\n",
       "      <td>822610361945911296</td>\n",
       "      <td>https://pbs.twimg.com/media/C2p_wQyXEAELtvS.jpg</td>\n",
       "      <td>1</td>\n",
       "      <td>cocker_spaniel</td>\n",
       "      <td>0.664487</td>\n",
       "      <td>True</td>\n",
       "      <td>Norfolk_terrier</td>\n",
       "      <td>0.075089</td>\n",
       "      <td>True</td>\n",
       "      <td>Norwich_terrier</td>\n",
       "      <td>0.059644</td>\n",
       "      <td>True</td>\n",
       "      <td>cocker_spaniel</td>\n",
       "    </tr>\n",
       "  </tbody>\n",
       "</table>\n",
       "</div>"
      ],
      "text/plain": [
       "                tweet_id                                          jpg_url  \\\n",
       "1095  720043174954147842  https://pbs.twimg.com/media/Cf4bcm8XEAAX4xV.jpg   \n",
       "504   675888385639251968  https://pbs.twimg.com/media/CWE85snWIAEG5ES.jpg   \n",
       "1017  709918798883774466  https://pbs.twimg.com/media/CdojYQmW8AApv4h.jpg   \n",
       "17    666104133288665088  https://pbs.twimg.com/media/CT56LSZWoAAlJj2.jpg   \n",
       "1741  822610361945911296  https://pbs.twimg.com/media/C2p_wQyXEAELtvS.jpg   \n",
       "\n",
       "      img_num                           p1   p1_conf  p1_dog  \\\n",
       "1095        1                      Samoyed  0.954517    True   \n",
       "504         1  West_Highland_white_terrier  0.672117    True   \n",
       "1017        2                     Pembroke  0.956222    True   \n",
       "17          1                          hen  0.965932   False   \n",
       "1741        1               cocker_spaniel  0.664487    True   \n",
       "\n",
       "                        p2   p2_conf  p2_dog               p3   p3_conf  \\\n",
       "1095            Eskimo_dog  0.029130    True       white_wolf  0.004462   \n",
       "504   Old_English_sheepdog  0.146147    True         komondor  0.023141   \n",
       "1017              Cardigan  0.020727    True        Chihuahua  0.007912   \n",
       "17                    cock  0.033919   False        partridge  0.000052   \n",
       "1741       Norfolk_terrier  0.075089    True  Norwich_terrier  0.059644   \n",
       "\n",
       "      p3_dog                    dog_breed  \n",
       "1095   False                      Samoyed  \n",
       "504     True  West_Highland_white_terrier  \n",
       "1017    True                     Pembroke  \n",
       "17     False                         None  \n",
       "1741    True               cocker_spaniel  "
      ]
     },
     "execution_count": 55,
     "metadata": {},
     "output_type": "execute_result"
    }
   ],
   "source": [
    "df_img_preds_clean.sample(5)"
   ]
  },
  {
   "cell_type": "code",
   "execution_count": 56,
   "metadata": {
    "colab": {
     "base_uri": "https://localhost:8080/",
     "height": 342
    },
    "colab_type": "code",
    "id": "_KIo6uRWluU0",
    "outputId": "32d2bf2c-17a1-4574-d9bb-ecc71854a258"
   },
   "outputs": [
    {
     "name": "stdout",
     "output_type": "stream",
     "text": [
      "<class 'pandas.core.frame.DataFrame'>\n",
      "RangeIndex: 2075 entries, 0 to 2074\n",
      "Data columns (total 13 columns):\n",
      " #   Column     Non-Null Count  Dtype  \n",
      "---  ------     --------------  -----  \n",
      " 0   tweet_id   2075 non-null   object \n",
      " 1   jpg_url    2075 non-null   object \n",
      " 2   img_num    2075 non-null   int64  \n",
      " 3   p1         2075 non-null   object \n",
      " 4   p1_conf    2075 non-null   float64\n",
      " 5   p1_dog     2075 non-null   bool   \n",
      " 6   p2         2075 non-null   object \n",
      " 7   p2_conf    2075 non-null   float64\n",
      " 8   p2_dog     2075 non-null   bool   \n",
      " 9   p3         2075 non-null   object \n",
      " 10  p3_conf    2075 non-null   float64\n",
      " 11  p3_dog     2075 non-null   bool   \n",
      " 12  dog_breed  2075 non-null   object \n",
      "dtypes: bool(3), float64(3), int64(1), object(6)\n",
      "memory usage: 168.3+ KB\n"
     ]
    }
   ],
   "source": [
    "df_img_preds_clean.info()"
   ]
  },
  {
   "cell_type": "markdown",
   "metadata": {
    "colab_type": "text",
    "id": "JqrXjEKrYsHl"
   },
   "source": [
    "## Tidiness Issue 2\n",
    "\n",
    "**Define:** Drop unwanted columns from df_img_preds and df_tweets_api then merge with df_twitter_clean"
   ]
  },
  {
   "cell_type": "markdown",
   "metadata": {},
   "source": [
    "Droping unwanted columns"
   ]
  },
  {
   "cell_type": "code",
   "execution_count": 57,
   "metadata": {
    "colab": {},
    "colab_type": "code",
    "id": "mIb5Isk8VcHd"
   },
   "outputs": [],
   "source": [
    "df_img_preds_clean.drop(columns=['img_num'], inplace=True)"
   ]
  },
  {
   "cell_type": "markdown",
   "metadata": {},
   "source": [
    "**Code**: Use pandas merge function on tweet_id column"
   ]
  },
  {
   "cell_type": "code",
   "execution_count": 58,
   "metadata": {
    "colab": {},
    "colab_type": "code",
    "id": "xsQ23BTbpoSC"
   },
   "outputs": [],
   "source": [
    "df_tweets_dogs = df_twitter_clean.merge(df_img_preds_clean, on='tweet_id', how='inner')"
   ]
  },
  {
   "cell_type": "code",
   "execution_count": 59,
   "metadata": {},
   "outputs": [],
   "source": [
    "df_tweets_dogs = df_tweets_dogs.merge(df_tweets_api_clean, on='tweet_id', how='inner')"
   ]
  },
  {
   "cell_type": "markdown",
   "metadata": {},
   "source": [
    "**Test**: Sample the dataframe and ensure all columns look correctly merged"
   ]
  },
  {
   "cell_type": "code",
   "execution_count": 60,
   "metadata": {
    "colab": {
     "base_uri": "https://localhost:8080/",
     "height": 568
    },
    "colab_type": "code",
    "id": "-TYTBsSerC8u",
    "outputId": "c9a38e4b-176c-49d6-e4e5-f2909f85f6c1"
   },
   "outputs": [
    {
     "data": {
      "text/html": [
       "<div>\n",
       "<style scoped>\n",
       "    .dataframe tbody tr th:only-of-type {\n",
       "        vertical-align: middle;\n",
       "    }\n",
       "\n",
       "    .dataframe tbody tr th {\n",
       "        vertical-align: top;\n",
       "    }\n",
       "\n",
       "    .dataframe thead th {\n",
       "        text-align: right;\n",
       "    }\n",
       "</style>\n",
       "<table border=\"1\" class=\"dataframe\">\n",
       "  <thead>\n",
       "    <tr style=\"text-align: right;\">\n",
       "      <th></th>\n",
       "      <th>tweet_id</th>\n",
       "      <th>timestamp</th>\n",
       "      <th>source</th>\n",
       "      <th>text</th>\n",
       "      <th>expanded_urls</th>\n",
       "      <th>rating_numerator</th>\n",
       "      <th>rating_denominator</th>\n",
       "      <th>name</th>\n",
       "      <th>dog_stage</th>\n",
       "      <th>rating</th>\n",
       "      <th>...</th>\n",
       "      <th>p3</th>\n",
       "      <th>p3_conf</th>\n",
       "      <th>p3_dog</th>\n",
       "      <th>dog_breed</th>\n",
       "      <th>favorite_count</th>\n",
       "      <th>retweet_count</th>\n",
       "      <th>followers_count</th>\n",
       "      <th>friends_count</th>\n",
       "      <th>listed_count</th>\n",
       "      <th>statuses_count</th>\n",
       "    </tr>\n",
       "  </thead>\n",
       "  <tbody>\n",
       "    <tr>\n",
       "      <th>799</th>\n",
       "      <td>739932936087216128</td>\n",
       "      <td>2016-06-06 21:32:13</td>\n",
       "      <td>Twitter for iPhone</td>\n",
       "      <td>Say hello to Rorie. She's zen af. Just enjoyin...</td>\n",
       "      <td>https://twitter.com/dog_rates/status/739932936...</td>\n",
       "      <td>10.0</td>\n",
       "      <td>10.0</td>\n",
       "      <td>Rorie</td>\n",
       "      <td></td>\n",
       "      <td>1.0</td>\n",
       "      <td>...</td>\n",
       "      <td>vizsla</td>\n",
       "      <td>0.076443</td>\n",
       "      <td>True</td>\n",
       "      <td>redbone</td>\n",
       "      <td>4048</td>\n",
       "      <td>1070</td>\n",
       "      <td>8785096</td>\n",
       "      <td>16</td>\n",
       "      <td>5536</td>\n",
       "      <td>12252</td>\n",
       "    </tr>\n",
       "    <tr>\n",
       "      <th>1160</th>\n",
       "      <td>693622659251335168</td>\n",
       "      <td>2016-01-31 02:31:43</td>\n",
       "      <td>Twitter for iPhone</td>\n",
       "      <td>When you keepin the popcorn bucket in your lap...</td>\n",
       "      <td>https://twitter.com/dog_rates/status/693622659...</td>\n",
       "      <td>10.0</td>\n",
       "      <td>10.0</td>\n",
       "      <td>None</td>\n",
       "      <td></td>\n",
       "      <td>1.0</td>\n",
       "      <td>...</td>\n",
       "      <td>Eskimo_dog</td>\n",
       "      <td>0.163485</td>\n",
       "      <td>True</td>\n",
       "      <td>malamute</td>\n",
       "      <td>1532</td>\n",
       "      <td>372</td>\n",
       "      <td>8785097</td>\n",
       "      <td>16</td>\n",
       "      <td>5536</td>\n",
       "      <td>12252</td>\n",
       "    </tr>\n",
       "    <tr>\n",
       "      <th>1756</th>\n",
       "      <td>670411370698022913</td>\n",
       "      <td>2015-11-28 01:18:21</td>\n",
       "      <td>Twitter for iPhone</td>\n",
       "      <td>Meet Scooter. He's ready for his first day of ...</td>\n",
       "      <td>https://twitter.com/dog_rates/status/670411370...</td>\n",
       "      <td>12.0</td>\n",
       "      <td>10.0</td>\n",
       "      <td>Scooter</td>\n",
       "      <td></td>\n",
       "      <td>1.2</td>\n",
       "      <td>...</td>\n",
       "      <td>toy_poodle</td>\n",
       "      <td>0.060868</td>\n",
       "      <td>True</td>\n",
       "      <td>Maltese_dog</td>\n",
       "      <td>1949</td>\n",
       "      <td>848</td>\n",
       "      <td>8785115</td>\n",
       "      <td>16</td>\n",
       "      <td>5537</td>\n",
       "      <td>12252</td>\n",
       "    </tr>\n",
       "    <tr>\n",
       "      <th>1296</th>\n",
       "      <td>684225744407494656</td>\n",
       "      <td>2016-01-05 04:11:44</td>\n",
       "      <td>Twitter for iPhone</td>\n",
       "      <td>Two sneaky puppers were not initially seen, mo...</td>\n",
       "      <td>https://twitter.com/dog_rates/status/684225744...</td>\n",
       "      <td>143.0</td>\n",
       "      <td>130.0</td>\n",
       "      <td>None</td>\n",
       "      <td></td>\n",
       "      <td>1.1</td>\n",
       "      <td>...</td>\n",
       "      <td>Great_Pyrenees</td>\n",
       "      <td>0.065327</td>\n",
       "      <td>True</td>\n",
       "      <td>golden_retriever</td>\n",
       "      <td>1222</td>\n",
       "      <td>207</td>\n",
       "      <td>8785100</td>\n",
       "      <td>16</td>\n",
       "      <td>5536</td>\n",
       "      <td>12252</td>\n",
       "    </tr>\n",
       "    <tr>\n",
       "      <th>891</th>\n",
       "      <td>720415127506415616</td>\n",
       "      <td>2016-04-14 00:55:25</td>\n",
       "      <td>Twitter for iPhone</td>\n",
       "      <td>Garden's coming in nice this year. 10/10 https...</td>\n",
       "      <td>https://twitter.com/dog_rates/status/720415127...</td>\n",
       "      <td>10.0</td>\n",
       "      <td>10.0</td>\n",
       "      <td>None</td>\n",
       "      <td></td>\n",
       "      <td>1.0</td>\n",
       "      <td>...</td>\n",
       "      <td>American_black_bear</td>\n",
       "      <td>0.001733</td>\n",
       "      <td>False</td>\n",
       "      <td>Rottweiler</td>\n",
       "      <td>4099</td>\n",
       "      <td>1490</td>\n",
       "      <td>8785095</td>\n",
       "      <td>16</td>\n",
       "      <td>5536</td>\n",
       "      <td>12252</td>\n",
       "    </tr>\n",
       "  </tbody>\n",
       "</table>\n",
       "<p>5 rows × 27 columns</p>\n",
       "</div>"
      ],
      "text/plain": [
       "                tweet_id           timestamp              source  \\\n",
       "799   739932936087216128 2016-06-06 21:32:13  Twitter for iPhone   \n",
       "1160  693622659251335168 2016-01-31 02:31:43  Twitter for iPhone   \n",
       "1756  670411370698022913 2015-11-28 01:18:21  Twitter for iPhone   \n",
       "1296  684225744407494656 2016-01-05 04:11:44  Twitter for iPhone   \n",
       "891   720415127506415616 2016-04-14 00:55:25  Twitter for iPhone   \n",
       "\n",
       "                                                   text  \\\n",
       "799   Say hello to Rorie. She's zen af. Just enjoyin...   \n",
       "1160  When you keepin the popcorn bucket in your lap...   \n",
       "1756  Meet Scooter. He's ready for his first day of ...   \n",
       "1296  Two sneaky puppers were not initially seen, mo...   \n",
       "891   Garden's coming in nice this year. 10/10 https...   \n",
       "\n",
       "                                          expanded_urls  rating_numerator  \\\n",
       "799   https://twitter.com/dog_rates/status/739932936...              10.0   \n",
       "1160  https://twitter.com/dog_rates/status/693622659...              10.0   \n",
       "1756  https://twitter.com/dog_rates/status/670411370...              12.0   \n",
       "1296  https://twitter.com/dog_rates/status/684225744...             143.0   \n",
       "891   https://twitter.com/dog_rates/status/720415127...              10.0   \n",
       "\n",
       "      rating_denominator     name dog_stage  rating  ...                   p3  \\\n",
       "799                 10.0    Rorie               1.0  ...               vizsla   \n",
       "1160                10.0     None               1.0  ...           Eskimo_dog   \n",
       "1756                10.0  Scooter               1.2  ...           toy_poodle   \n",
       "1296               130.0     None               1.1  ...       Great_Pyrenees   \n",
       "891                 10.0     None               1.0  ...  American_black_bear   \n",
       "\n",
       "       p3_conf  p3_dog         dog_breed favorite_count  retweet_count  \\\n",
       "799   0.076443    True           redbone           4048           1070   \n",
       "1160  0.163485    True          malamute           1532            372   \n",
       "1756  0.060868    True       Maltese_dog           1949            848   \n",
       "1296  0.065327    True  golden_retriever           1222            207   \n",
       "891   0.001733   False        Rottweiler           4099           1490   \n",
       "\n",
       "      followers_count friends_count  listed_count  statuses_count  \n",
       "799           8785096            16          5536           12252  \n",
       "1160          8785097            16          5536           12252  \n",
       "1756          8785115            16          5537           12252  \n",
       "1296          8785100            16          5536           12252  \n",
       "891           8785095            16          5536           12252  \n",
       "\n",
       "[5 rows x 27 columns]"
      ]
     },
     "execution_count": 60,
     "metadata": {},
     "output_type": "execute_result"
    }
   ],
   "source": [
    "df_tweets_dogs.sample(5)"
   ]
  },
  {
   "cell_type": "code",
   "execution_count": 61,
   "metadata": {
    "colab": {
     "base_uri": "https://localhost:8080/",
     "height": 472
    },
    "colab_type": "code",
    "id": "UlqkI2oorKku",
    "outputId": "fa20f731-6d54-4f3a-859b-8f4129608c3b"
   },
   "outputs": [
    {
     "name": "stdout",
     "output_type": "stream",
     "text": [
      "<class 'pandas.core.frame.DataFrame'>\n",
      "Int64Index: 1986 entries, 0 to 1985\n",
      "Data columns (total 27 columns):\n",
      " #   Column              Non-Null Count  Dtype         \n",
      "---  ------              --------------  -----         \n",
      " 0   tweet_id            1986 non-null   object        \n",
      " 1   timestamp           1986 non-null   datetime64[ns]\n",
      " 2   source              1986 non-null   object        \n",
      " 3   text                1986 non-null   object        \n",
      " 4   expanded_urls       1986 non-null   object        \n",
      " 5   rating_numerator    1986 non-null   float64       \n",
      " 6   rating_denominator  1986 non-null   float64       \n",
      " 7   name                1986 non-null   object        \n",
      " 8   dog_stage           1986 non-null   object        \n",
      " 9   rating              1986 non-null   float64       \n",
      " 10  jpg_url             1986 non-null   object        \n",
      " 11  p1                  1986 non-null   object        \n",
      " 12  p1_conf             1986 non-null   float64       \n",
      " 13  p1_dog              1986 non-null   bool          \n",
      " 14  p2                  1986 non-null   object        \n",
      " 15  p2_conf             1986 non-null   float64       \n",
      " 16  p2_dog              1986 non-null   bool          \n",
      " 17  p3                  1986 non-null   object        \n",
      " 18  p3_conf             1986 non-null   float64       \n",
      " 19  p3_dog              1986 non-null   bool          \n",
      " 20  dog_breed           1986 non-null   object        \n",
      " 21  favorite_count      1986 non-null   int64         \n",
      " 22  retweet_count       1986 non-null   int64         \n",
      " 23  followers_count     1986 non-null   int64         \n",
      " 24  friends_count       1986 non-null   int64         \n",
      " 25  listed_count        1986 non-null   int64         \n",
      " 26  statuses_count      1986 non-null   int64         \n",
      "dtypes: bool(3), datetime64[ns](1), float64(6), int64(6), object(11)\n",
      "memory usage: 393.7+ KB\n"
     ]
    }
   ],
   "source": [
    "df_tweets_dogs.info()"
   ]
  },
  {
   "cell_type": "markdown",
   "metadata": {
    "colab_type": "text",
    "id": "L2YmD3DPb0IQ"
   },
   "source": [
    "# Storing Data"
   ]
  },
  {
   "cell_type": "code",
   "execution_count": 62,
   "metadata": {
    "colab": {},
    "colab_type": "code",
    "id": "8z9U_NaGruEt"
   },
   "outputs": [],
   "source": [
    "# storing the dataframe to a csv file\n",
    "df_tweets_dogs.to_csv('df_tweets_dogs.csv', encoding='utf-8', index=False)"
   ]
  },
  {
   "cell_type": "markdown",
   "metadata": {
    "colab_type": "text",
    "id": "aJ3Su0Q8chvE"
   },
   "source": [
    "<a id='visualize'></a>\n",
    "# Visualizing Data "
   ]
  },
  {
   "cell_type": "markdown",
   "metadata": {
    "colab_type": "text",
    "id": "n0ACvdtRdaGi"
   },
   "source": [
    "## Visualization 1\n",
    "\n",
    "Total number of tweet over time"
   ]
  },
  {
   "cell_type": "code",
   "execution_count": 63,
   "metadata": {
    "colab": {
     "base_uri": "https://localhost:8080/",
     "height": 292
    },
    "colab_type": "code",
    "id": "BEmLOlmJcZBI",
    "outputId": "2bfb7230-caed-4668-d418-79dafe3098d6"
   },
   "outputs": [
    {
     "data": {
      "text/html": [
       "<div>\n",
       "<style scoped>\n",
       "    .dataframe tbody tr th:only-of-type {\n",
       "        vertical-align: middle;\n",
       "    }\n",
       "\n",
       "    .dataframe tbody tr th {\n",
       "        vertical-align: top;\n",
       "    }\n",
       "\n",
       "    .dataframe thead th {\n",
       "        text-align: right;\n",
       "    }\n",
       "</style>\n",
       "<table border=\"1\" class=\"dataframe\">\n",
       "  <thead>\n",
       "    <tr style=\"text-align: right;\">\n",
       "      <th></th>\n",
       "      <th>timestamp</th>\n",
       "      <th>tweet_id</th>\n",
       "      <th>source</th>\n",
       "      <th>text</th>\n",
       "      <th>expanded_urls</th>\n",
       "      <th>rating_numerator</th>\n",
       "      <th>rating_denominator</th>\n",
       "      <th>name</th>\n",
       "      <th>dog_stage</th>\n",
       "      <th>rating</th>\n",
       "      <th>...</th>\n",
       "      <th>p3</th>\n",
       "      <th>p3_conf</th>\n",
       "      <th>p3_dog</th>\n",
       "      <th>dog_breed</th>\n",
       "      <th>favorite_count</th>\n",
       "      <th>retweet_count</th>\n",
       "      <th>followers_count</th>\n",
       "      <th>friends_count</th>\n",
       "      <th>listed_count</th>\n",
       "      <th>statuses_count</th>\n",
       "    </tr>\n",
       "  </thead>\n",
       "  <tbody>\n",
       "    <tr>\n",
       "      <th>0</th>\n",
       "      <td>2015-11-30</td>\n",
       "      <td>296</td>\n",
       "      <td>296</td>\n",
       "      <td>296</td>\n",
       "      <td>296</td>\n",
       "      <td>296</td>\n",
       "      <td>296</td>\n",
       "      <td>296</td>\n",
       "      <td>296</td>\n",
       "      <td>296</td>\n",
       "      <td>...</td>\n",
       "      <td>296</td>\n",
       "      <td>296</td>\n",
       "      <td>296</td>\n",
       "      <td>296</td>\n",
       "      <td>296</td>\n",
       "      <td>296</td>\n",
       "      <td>296</td>\n",
       "      <td>296</td>\n",
       "      <td>296</td>\n",
       "      <td>296</td>\n",
       "    </tr>\n",
       "    <tr>\n",
       "      <th>1</th>\n",
       "      <td>2015-12-31</td>\n",
       "      <td>365</td>\n",
       "      <td>365</td>\n",
       "      <td>365</td>\n",
       "      <td>365</td>\n",
       "      <td>365</td>\n",
       "      <td>365</td>\n",
       "      <td>365</td>\n",
       "      <td>365</td>\n",
       "      <td>365</td>\n",
       "      <td>...</td>\n",
       "      <td>365</td>\n",
       "      <td>365</td>\n",
       "      <td>365</td>\n",
       "      <td>365</td>\n",
       "      <td>365</td>\n",
       "      <td>365</td>\n",
       "      <td>365</td>\n",
       "      <td>365</td>\n",
       "      <td>365</td>\n",
       "      <td>365</td>\n",
       "    </tr>\n",
       "    <tr>\n",
       "      <th>2</th>\n",
       "      <td>2016-01-31</td>\n",
       "      <td>169</td>\n",
       "      <td>169</td>\n",
       "      <td>169</td>\n",
       "      <td>169</td>\n",
       "      <td>169</td>\n",
       "      <td>169</td>\n",
       "      <td>169</td>\n",
       "      <td>169</td>\n",
       "      <td>169</td>\n",
       "      <td>...</td>\n",
       "      <td>169</td>\n",
       "      <td>169</td>\n",
       "      <td>169</td>\n",
       "      <td>169</td>\n",
       "      <td>169</td>\n",
       "      <td>169</td>\n",
       "      <td>169</td>\n",
       "      <td>169</td>\n",
       "      <td>169</td>\n",
       "      <td>169</td>\n",
       "    </tr>\n",
       "    <tr>\n",
       "      <th>3</th>\n",
       "      <td>2016-02-29</td>\n",
       "      <td>111</td>\n",
       "      <td>111</td>\n",
       "      <td>111</td>\n",
       "      <td>111</td>\n",
       "      <td>111</td>\n",
       "      <td>111</td>\n",
       "      <td>111</td>\n",
       "      <td>111</td>\n",
       "      <td>111</td>\n",
       "      <td>...</td>\n",
       "      <td>111</td>\n",
       "      <td>111</td>\n",
       "      <td>111</td>\n",
       "      <td>111</td>\n",
       "      <td>111</td>\n",
       "      <td>111</td>\n",
       "      <td>111</td>\n",
       "      <td>111</td>\n",
       "      <td>111</td>\n",
       "      <td>111</td>\n",
       "    </tr>\n",
       "    <tr>\n",
       "      <th>4</th>\n",
       "      <td>2016-03-31</td>\n",
       "      <td>120</td>\n",
       "      <td>120</td>\n",
       "      <td>120</td>\n",
       "      <td>120</td>\n",
       "      <td>120</td>\n",
       "      <td>120</td>\n",
       "      <td>120</td>\n",
       "      <td>120</td>\n",
       "      <td>120</td>\n",
       "      <td>...</td>\n",
       "      <td>120</td>\n",
       "      <td>120</td>\n",
       "      <td>120</td>\n",
       "      <td>120</td>\n",
       "      <td>120</td>\n",
       "      <td>120</td>\n",
       "      <td>120</td>\n",
       "      <td>120</td>\n",
       "      <td>120</td>\n",
       "      <td>120</td>\n",
       "    </tr>\n",
       "  </tbody>\n",
       "</table>\n",
       "<p>5 rows × 27 columns</p>\n",
       "</div>"
      ],
      "text/plain": [
       "   timestamp  tweet_id  source  text  expanded_urls  rating_numerator  \\\n",
       "0 2015-11-30       296     296   296            296               296   \n",
       "1 2015-12-31       365     365   365            365               365   \n",
       "2 2016-01-31       169     169   169            169               169   \n",
       "3 2016-02-29       111     111   111            111               111   \n",
       "4 2016-03-31       120     120   120            120               120   \n",
       "\n",
       "   rating_denominator  name  dog_stage  rating  ...   p3  p3_conf  p3_dog  \\\n",
       "0                 296   296        296     296  ...  296      296     296   \n",
       "1                 365   365        365     365  ...  365      365     365   \n",
       "2                 169   169        169     169  ...  169      169     169   \n",
       "3                 111   111        111     111  ...  111      111     111   \n",
       "4                 120   120        120     120  ...  120      120     120   \n",
       "\n",
       "   dog_breed  favorite_count  retweet_count  followers_count  friends_count  \\\n",
       "0        296             296            296              296            296   \n",
       "1        365             365            365              365            365   \n",
       "2        169             169            169              169            169   \n",
       "3        111             111            111              111            111   \n",
       "4        120             120            120              120            120   \n",
       "\n",
       "   listed_count  statuses_count  \n",
       "0           296             296  \n",
       "1           365             365  \n",
       "2           169             169  \n",
       "3           111             111  \n",
       "4           120             120  \n",
       "\n",
       "[5 rows x 27 columns]"
      ]
     },
     "execution_count": 63,
     "metadata": {},
     "output_type": "execute_result"
    }
   ],
   "source": [
    "# first begin by grouping the data monthly\n",
    "df_monthly = df_tweets_dogs.groupby(pd.Grouper(key = 'timestamp', freq = \"M\")).count().reset_index()\n",
    "# Review the new dataframe\n",
    "df_monthly.head()"
   ]
  },
  {
   "cell_type": "code",
   "execution_count": 64,
   "metadata": {
    "colab": {
     "base_uri": "https://localhost:8080/",
     "height": 472
    },
    "colab_type": "code",
    "id": "P9xj20kbfEJg",
    "outputId": "c7eef682-1c57-4657-e69d-af537d2e3d7e"
   },
   "outputs": [
    {
     "name": "stdout",
     "output_type": "stream",
     "text": [
      "<class 'pandas.core.frame.DataFrame'>\n",
      "RangeIndex: 22 entries, 0 to 21\n",
      "Data columns (total 27 columns):\n",
      " #   Column              Non-Null Count  Dtype         \n",
      "---  ------              --------------  -----         \n",
      " 0   timestamp           22 non-null     datetime64[ns]\n",
      " 1   tweet_id            22 non-null     int64         \n",
      " 2   source              22 non-null     int64         \n",
      " 3   text                22 non-null     int64         \n",
      " 4   expanded_urls       22 non-null     int64         \n",
      " 5   rating_numerator    22 non-null     int64         \n",
      " 6   rating_denominator  22 non-null     int64         \n",
      " 7   name                22 non-null     int64         \n",
      " 8   dog_stage           22 non-null     int64         \n",
      " 9   rating              22 non-null     int64         \n",
      " 10  jpg_url             22 non-null     int64         \n",
      " 11  p1                  22 non-null     int64         \n",
      " 12  p1_conf             22 non-null     int64         \n",
      " 13  p1_dog              22 non-null     int64         \n",
      " 14  p2                  22 non-null     int64         \n",
      " 15  p2_conf             22 non-null     int64         \n",
      " 16  p2_dog              22 non-null     int64         \n",
      " 17  p3                  22 non-null     int64         \n",
      " 18  p3_conf             22 non-null     int64         \n",
      " 19  p3_dog              22 non-null     int64         \n",
      " 20  dog_breed           22 non-null     int64         \n",
      " 21  favorite_count      22 non-null     int64         \n",
      " 22  retweet_count       22 non-null     int64         \n",
      " 23  followers_count     22 non-null     int64         \n",
      " 24  friends_count       22 non-null     int64         \n",
      " 25  listed_count        22 non-null     int64         \n",
      " 26  statuses_count      22 non-null     int64         \n",
      "dtypes: datetime64[ns](1), int64(26)\n",
      "memory usage: 4.8 KB\n"
     ]
    }
   ],
   "source": [
    "df_monthly.info()"
   ]
  },
  {
   "cell_type": "code",
   "execution_count": 65,
   "metadata": {
    "colab": {
     "base_uri": "https://localhost:8080/",
     "height": 500
    },
    "colab_type": "code",
    "id": "rYv5e_tQd3jc",
    "outputId": "568f725c-572c-44f0-d087-0ddbf7b0be89"
   },
   "outputs": [
    {
     "data": {
      "text/plain": [
       "Text(0, 0.5, 'Twwet Count')"
      ]
     },
     "execution_count": 65,
     "metadata": {},
     "output_type": "execute_result"
    },
    {
     "data": {
      "image/png": "[encoded data removed]",
      "text/plain": [
       "<Figure size 900x500 with 1 Axes>"
      ]
     },
     "metadata": {
      "needs_background": "light"
     },
     "output_type": "display_data"
    }
   ],
   "source": [
    "plt.figure(figsize=(9,5), dpi = 100)\n",
    "plt.plot(df_monthly.timestamp,df_monthly.tweet_id)\n",
    "plt.title('Number of Tweets over Time')\n",
    "plt.xlabel('Time', fontsize=12)\n",
    "plt.ylabel('Twwet Count', fontsize=12)"
   ]
  },
  {
   "cell_type": "markdown",
   "metadata": {
    "colab_type": "text",
    "id": "j0iZTtLefnfH"
   },
   "source": [
    "Overall, there is a downward trend in number of tweets per month. There are few times when an increase in monthly tweets was observed. This seemed to happen between 2016-04 to 2016-10. A plausible reason for this decline could be due to emergence of new social media platforms."
   ]
  },
  {
   "cell_type": "markdown",
   "metadata": {
    "colab_type": "text",
    "id": "Al7vRSV2f9CE"
   },
   "source": [
    "## Visualization 2\n",
    "\n",
    "Most popular Dog Breeds"
   ]
  },
  {
   "cell_type": "code",
   "execution_count": 66,
   "metadata": {
    "colab": {
     "base_uri": "https://localhost:8080/",
     "height": 552
    },
    "colab_type": "code",
    "id": "WJDk5VGufHjU",
    "outputId": "c40f13cf-7b27-42d6-af84-cf3e38de7727"
   },
   "outputs": [
    {
     "data": {
      "text/html": [
       "<div>\n",
       "<style scoped>\n",
       "    .dataframe tbody tr th:only-of-type {\n",
       "        vertical-align: middle;\n",
       "    }\n",
       "\n",
       "    .dataframe tbody tr th {\n",
       "        vertical-align: top;\n",
       "    }\n",
       "\n",
       "    .dataframe thead th {\n",
       "        text-align: right;\n",
       "    }\n",
       "</style>\n",
       "<table border=\"1\" class=\"dataframe\">\n",
       "  <thead>\n",
       "    <tr style=\"text-align: right;\">\n",
       "      <th></th>\n",
       "      <th>tweet_id</th>\n",
       "      <th>timestamp</th>\n",
       "      <th>source</th>\n",
       "      <th>text</th>\n",
       "      <th>expanded_urls</th>\n",
       "      <th>rating_numerator</th>\n",
       "      <th>rating_denominator</th>\n",
       "      <th>name</th>\n",
       "      <th>dog_stage</th>\n",
       "      <th>rating</th>\n",
       "      <th>...</th>\n",
       "      <th>p3</th>\n",
       "      <th>p3_conf</th>\n",
       "      <th>p3_dog</th>\n",
       "      <th>dog_breed</th>\n",
       "      <th>favorite_count</th>\n",
       "      <th>retweet_count</th>\n",
       "      <th>followers_count</th>\n",
       "      <th>friends_count</th>\n",
       "      <th>listed_count</th>\n",
       "      <th>statuses_count</th>\n",
       "    </tr>\n",
       "  </thead>\n",
       "  <tbody>\n",
       "    <tr>\n",
       "      <th>0</th>\n",
       "      <td>892420643555336193</td>\n",
       "      <td>2017-08-01 16:23:56</td>\n",
       "      <td>Twitter for iPhone</td>\n",
       "      <td>This is Phineas. He's a mystical boy. Only eve...</td>\n",
       "      <td>https://twitter.com/dog_rates/status/892420643...</td>\n",
       "      <td>13.0</td>\n",
       "      <td>10.0</td>\n",
       "      <td>Phineas</td>\n",
       "      <td></td>\n",
       "      <td>1.3</td>\n",
       "      <td>...</td>\n",
       "      <td>banana</td>\n",
       "      <td>0.076110</td>\n",
       "      <td>False</td>\n",
       "      <td>None</td>\n",
       "      <td>36230</td>\n",
       "      <td>7711</td>\n",
       "      <td>8785083</td>\n",
       "      <td>16</td>\n",
       "      <td>5536</td>\n",
       "      <td>12252</td>\n",
       "    </tr>\n",
       "    <tr>\n",
       "      <th>1</th>\n",
       "      <td>892177421306343426</td>\n",
       "      <td>2017-08-01 00:17:27</td>\n",
       "      <td>Twitter for iPhone</td>\n",
       "      <td>This is Tilly. She's just checking pup on you....</td>\n",
       "      <td>https://twitter.com/dog_rates/status/892177421...</td>\n",
       "      <td>13.0</td>\n",
       "      <td>10.0</td>\n",
       "      <td>Tilly</td>\n",
       "      <td></td>\n",
       "      <td>1.3</td>\n",
       "      <td>...</td>\n",
       "      <td>papillon</td>\n",
       "      <td>0.068957</td>\n",
       "      <td>True</td>\n",
       "      <td>Chihuahua</td>\n",
       "      <td>31252</td>\n",
       "      <td>5699</td>\n",
       "      <td>8785083</td>\n",
       "      <td>16</td>\n",
       "      <td>5536</td>\n",
       "      <td>12252</td>\n",
       "    </tr>\n",
       "    <tr>\n",
       "      <th>2</th>\n",
       "      <td>891815181378084864</td>\n",
       "      <td>2017-07-31 00:18:03</td>\n",
       "      <td>Twitter for iPhone</td>\n",
       "      <td>This is Archie. He is a rare Norwegian Pouncin...</td>\n",
       "      <td>https://twitter.com/dog_rates/status/891815181...</td>\n",
       "      <td>12.0</td>\n",
       "      <td>10.0</td>\n",
       "      <td>Archie</td>\n",
       "      <td></td>\n",
       "      <td>1.2</td>\n",
       "      <td>...</td>\n",
       "      <td>kelpie</td>\n",
       "      <td>0.031379</td>\n",
       "      <td>True</td>\n",
       "      <td>Chihuahua</td>\n",
       "      <td>23529</td>\n",
       "      <td>3779</td>\n",
       "      <td>8785083</td>\n",
       "      <td>16</td>\n",
       "      <td>5536</td>\n",
       "      <td>12252</td>\n",
       "    </tr>\n",
       "    <tr>\n",
       "      <th>3</th>\n",
       "      <td>891689557279858688</td>\n",
       "      <td>2017-07-30 15:58:51</td>\n",
       "      <td>Twitter for iPhone</td>\n",
       "      <td>This is Darla. She commenced a snooze mid meal...</td>\n",
       "      <td>https://twitter.com/dog_rates/status/891689557...</td>\n",
       "      <td>13.0</td>\n",
       "      <td>10.0</td>\n",
       "      <td>Darla</td>\n",
       "      <td></td>\n",
       "      <td>1.3</td>\n",
       "      <td>...</td>\n",
       "      <td>spatula</td>\n",
       "      <td>0.040836</td>\n",
       "      <td>False</td>\n",
       "      <td>Labrador_retriever</td>\n",
       "      <td>39535</td>\n",
       "      <td>7875</td>\n",
       "      <td>8785083</td>\n",
       "      <td>16</td>\n",
       "      <td>5536</td>\n",
       "      <td>12252</td>\n",
       "    </tr>\n",
       "    <tr>\n",
       "      <th>5</th>\n",
       "      <td>891087950875897856</td>\n",
       "      <td>2017-07-29 00:08:17</td>\n",
       "      <td>Twitter for iPhone</td>\n",
       "      <td>Here we have a majestic great white breaching ...</td>\n",
       "      <td>https://twitter.com/dog_rates/status/891087950...</td>\n",
       "      <td>13.0</td>\n",
       "      <td>10.0</td>\n",
       "      <td>None</td>\n",
       "      <td></td>\n",
       "      <td>1.3</td>\n",
       "      <td>...</td>\n",
       "      <td>Indian_elephant</td>\n",
       "      <td>0.076902</td>\n",
       "      <td>False</td>\n",
       "      <td>Chesapeake_Bay_retriever</td>\n",
       "      <td>19006</td>\n",
       "      <td>2843</td>\n",
       "      <td>8785083</td>\n",
       "      <td>16</td>\n",
       "      <td>5536</td>\n",
       "      <td>12252</td>\n",
       "    </tr>\n",
       "  </tbody>\n",
       "</table>\n",
       "<p>5 rows × 27 columns</p>\n",
       "</div>"
      ],
      "text/plain": [
       "             tweet_id           timestamp              source  \\\n",
       "0  892420643555336193 2017-08-01 16:23:56  Twitter for iPhone   \n",
       "1  892177421306343426 2017-08-01 00:17:27  Twitter for iPhone   \n",
       "2  891815181378084864 2017-07-31 00:18:03  Twitter for iPhone   \n",
       "3  891689557279858688 2017-07-30 15:58:51  Twitter for iPhone   \n",
       "5  891087950875897856 2017-07-29 00:08:17  Twitter for iPhone   \n",
       "\n",
       "                                                text  \\\n",
       "0  This is Phineas. He's a mystical boy. Only eve...   \n",
       "1  This is Tilly. She's just checking pup on you....   \n",
       "2  This is Archie. He is a rare Norwegian Pouncin...   \n",
       "3  This is Darla. She commenced a snooze mid meal...   \n",
       "5  Here we have a majestic great white breaching ...   \n",
       "\n",
       "                                       expanded_urls  rating_numerator  \\\n",
       "0  https://twitter.com/dog_rates/status/892420643...              13.0   \n",
       "1  https://twitter.com/dog_rates/status/892177421...              13.0   \n",
       "2  https://twitter.com/dog_rates/status/891815181...              12.0   \n",
       "3  https://twitter.com/dog_rates/status/891689557...              13.0   \n",
       "5  https://twitter.com/dog_rates/status/891087950...              13.0   \n",
       "\n",
       "   rating_denominator     name dog_stage  rating  ...               p3  \\\n",
       "0                10.0  Phineas               1.3  ...           banana   \n",
       "1                10.0    Tilly               1.3  ...         papillon   \n",
       "2                10.0   Archie               1.2  ...           kelpie   \n",
       "3                10.0    Darla               1.3  ...          spatula   \n",
       "5                10.0     None               1.3  ...  Indian_elephant   \n",
       "\n",
       "    p3_conf  p3_dog                 dog_breed favorite_count  retweet_count  \\\n",
       "0  0.076110   False                      None          36230           7711   \n",
       "1  0.068957    True                 Chihuahua          31252           5699   \n",
       "2  0.031379    True                 Chihuahua          23529           3779   \n",
       "3  0.040836   False        Labrador_retriever          39535           7875   \n",
       "5  0.076902   False  Chesapeake_Bay_retriever          19006           2843   \n",
       "\n",
       "   followers_count friends_count  listed_count  statuses_count  \n",
       "0          8785083            16          5536           12252  \n",
       "1          8785083            16          5536           12252  \n",
       "2          8785083            16          5536           12252  \n",
       "3          8785083            16          5536           12252  \n",
       "5          8785083            16          5536           12252  \n",
       "\n",
       "[5 rows x 27 columns]"
      ]
     },
     "execution_count": 66,
     "metadata": {},
     "output_type": "execute_result"
    }
   ],
   "source": [
    "# group by dog breeds and only consider ones which have a count greater than 20\n",
    "df_dog_breed = df_tweets_dogs.groupby('dog_breed').filter(lambda x: len(x) >= 20)\n",
    "\n",
    "df_dog_breed.head()"
   ]
  },
  {
   "cell_type": "code",
   "execution_count": 67,
   "metadata": {
    "colab": {
     "base_uri": "https://localhost:8080/",
     "height": 375
    },
    "colab_type": "code",
    "id": "PHqEmz_ghPOI",
    "outputId": "494f130f-280b-4130-c997-256acf3b7c4c"
   },
   "outputs": [
    {
     "data": {
      "text/plain": [
       "golden_retriever             158\n",
       "Labrador_retriever           106\n",
       "Pembroke                      95\n",
       "Chihuahua                     91\n",
       "pug                           62\n",
       "toy_poodle                    50\n",
       "chow                          48\n",
       "Pomeranian                    42\n",
       "Samoyed                       41\n",
       "malamute                      32\n",
       "Chesapeake_Bay_retriever      31\n",
       "French_bulldog                30\n",
       "cocker_spaniel                30\n",
       "miniature_pinscher            25\n",
       "Eskimo_dog                    22\n",
       "German_shepherd               21\n",
       "Cardigan                      21\n",
       "beagle                        20\n",
       "Shih-Tzu                      20\n",
       "Staffordshire_bullterrier     20\n",
       "Siberian_husky                20\n",
       "Name: dog_breed, dtype: int64"
      ]
     },
     "execution_count": 67,
     "metadata": {},
     "output_type": "execute_result"
    }
   ],
   "source": [
    "dog_breed_counts = df_dog_breed['dog_breed'].value_counts()\n",
    "dog_breed_counts.drop(index='None', inplace=True)\n",
    "dog_breed_counts"
   ]
  },
  {
   "cell_type": "code",
   "execution_count": 68,
   "metadata": {
    "colab": {
     "base_uri": "https://localhost:8080/",
     "height": 677
    },
    "colab_type": "code",
    "id": "Dt96jtFXgiZT",
    "outputId": "8269cfb6-9cab-41e1-ac35-46a32e957d23"
   },
   "outputs": [
    {
     "data": {
      "image/png": "[encoded data removed]",
      "text/plain": [
       "<Figure size 1200x900 with 1 Axes>"
      ]
     },
     "metadata": {
      "needs_background": "light"
     },
     "output_type": "display_data"
    }
   ],
   "source": [
    "plt.figure(figsize=(12,9), dpi = 100)\n",
    "\n",
    "dog_breed_counts.plot(kind = 'barh', fontsize=14)\n",
    "plt.title('Popular Dog Breeds')\n",
    "plt.xlabel('Count', fontsize=14)\n",
    "plt.ylabel('Breed of dog', fontsize=14);\n",
    "\n",
    "fig = plt.gcf() \n",
    "fig.savefig('Popular_Dog_Breeds.png',bbox_inches='tight');"
   ]
  },
  {
   "cell_type": "markdown",
   "metadata": {},
   "source": [
    "Golden retrievers are by far the most popular breed followed by Labrador retriever and Pembroke. This is based on the number of times each dog was tweeted about."
   ]
  },
  {
   "cell_type": "markdown",
   "metadata": {
    "colab_type": "text",
    "id": "BRcns3Vcj8FB"
   },
   "source": [
    "## Visualization 3\n",
    "\n"
   ]
  },
  {
   "cell_type": "markdown",
   "metadata": {
    "colab_type": "text",
    "id": "6e5MDwqR3hWC"
   },
   "source": [
    "Ratings Distribution"
   ]
  },
  {
   "cell_type": "code",
   "execution_count": 69,
   "metadata": {
    "colab": {
     "base_uri": "https://localhost:8080/",
     "height": 472
    },
    "colab_type": "code",
    "id": "ZjQx1DM26VJu",
    "outputId": "bfc1ad8e-578a-4f39-eeb1-3fb7dc9a31c1"
   },
   "outputs": [
    {
     "name": "stdout",
     "output_type": "stream",
     "text": [
      "<class 'pandas.core.frame.DataFrame'>\n",
      "Int64Index: 1986 entries, 0 to 1985\n",
      "Data columns (total 27 columns):\n",
      " #   Column              Non-Null Count  Dtype         \n",
      "---  ------              --------------  -----         \n",
      " 0   tweet_id            1986 non-null   object        \n",
      " 1   timestamp           1986 non-null   datetime64[ns]\n",
      " 2   source              1986 non-null   object        \n",
      " 3   text                1986 non-null   object        \n",
      " 4   expanded_urls       1986 non-null   object        \n",
      " 5   rating_numerator    1986 non-null   float64       \n",
      " 6   rating_denominator  1986 non-null   float64       \n",
      " 7   name                1986 non-null   object        \n",
      " 8   dog_stage           1986 non-null   object        \n",
      " 9   rating              1986 non-null   float64       \n",
      " 10  jpg_url             1986 non-null   object        \n",
      " 11  p1                  1986 non-null   object        \n",
      " 12  p1_conf             1986 non-null   float64       \n",
      " 13  p1_dog              1986 non-null   bool          \n",
      " 14  p2                  1986 non-null   object        \n",
      " 15  p2_conf             1986 non-null   float64       \n",
      " 16  p2_dog              1986 non-null   bool          \n",
      " 17  p3                  1986 non-null   object        \n",
      " 18  p3_conf             1986 non-null   float64       \n",
      " 19  p3_dog              1986 non-null   bool          \n",
      " 20  dog_breed           1986 non-null   object        \n",
      " 21  favorite_count      1986 non-null   int64         \n",
      " 22  retweet_count       1986 non-null   int64         \n",
      " 23  followers_count     1986 non-null   int64         \n",
      " 24  friends_count       1986 non-null   int64         \n",
      " 25  listed_count        1986 non-null   int64         \n",
      " 26  statuses_count      1986 non-null   int64         \n",
      "dtypes: bool(3), datetime64[ns](1), float64(6), int64(6), object(11)\n",
      "memory usage: 393.7+ KB\n"
     ]
    }
   ],
   "source": [
    "df_tweets_dogs.info()"
   ]
  },
  {
   "cell_type": "code",
   "execution_count": 70,
   "metadata": {
    "colab": {
     "base_uri": "https://localhost:8080/",
     "height": 915
    },
    "colab_type": "code",
    "id": "8UiQKBX735bI",
    "outputId": "93c54eb1-9366-441c-b585-bca26895f0d7"
   },
   "outputs": [
    {
     "name": "stderr",
     "output_type": "stream",
     "text": [
      "c:\\users\\allay.desai.21csw\\appdata\\local\\conda\\conda\\envs\\data\\lib\\site-packages\\ipykernel_launcher.py:2: SettingWithCopyWarning: \n",
      "A value is trying to be set on a copy of a slice from a DataFrame.\n",
      "Try using .loc[row_indexer,col_indexer] = value instead\n",
      "\n",
      "See the caveats in the documentation: https://pandas.pydata.org/pandas-docs/stable/user_guide/indexing.html#returning-a-view-versus-a-copy\n",
      "  \n"
     ]
    },
    {
     "data": {
      "image/png": "[encoded data removed]",
      "text/plain": [
       "<Figure size 1200x900 with 1 Axes>"
      ]
     },
     "metadata": {
      "needs_background": "light"
     },
     "output_type": "display_data"
    }
   ],
   "source": [
    "df_tweets_rating = df_tweets_dogs.query('rating_numerator <= 14');\n",
    "df_tweets_rating['rating_numerator'] = df_tweets_rating['rating_numerator'].astype('int');\n",
    "rating_counts = df_tweets_rating.groupby(['rating_numerator']).count()['tweet_id'];\n",
    "plt.figure(figsize=(12,9), dpi = 100);\n",
    "rating_counts.plot(kind='bar', fontsize=14);\n",
    "plt.xlabel('Rating Numerator', fontsize=14);\n",
    "plt.ylabel('Counts', fontsize=14);\n",
    "plt.title('Rating Distribution', fontsize=14);\n",
    "\n",
    "plt.savefig('common_ratings.png')"
   ]
  },
  {
   "cell_type": "markdown",
   "metadata": {},
   "source": [
    "The distribution of dog ratings numerator seems to be skewed to the right. Once again this is to be expected as dogs who are popular or have higher ratings are the ones who are frequently tweeted about."
   ]
  },
  {
   "cell_type": "markdown",
   "metadata": {
    "colab_type": "text",
    "id": "_B8ZHO3T3Thf"
   },
   "source": [
    "## Visualization 4"
   ]
  },
  {
   "cell_type": "markdown",
   "metadata": {
    "colab_type": "text",
    "id": "_UyhQjbf3Mj4"
   },
   "source": [
    "Most Common Dog Name"
   ]
  },
  {
   "cell_type": "code",
   "execution_count": 71,
   "metadata": {
    "colab": {
     "base_uri": "https://localhost:8080/",
     "height": 180
    },
    "colab_type": "code",
    "id": "HTZlSdu2qHER",
    "outputId": "ce87e939-1829-4382-f058-799b2cc072ba"
   },
   "outputs": [
    {
     "data": {
      "text/plain": [
       "Charlie    10\n",
       "Oliver     10\n",
       "Lucy        9\n",
       "Cooper      9\n",
       "Tucker      9\n",
       "Penny       9\n",
       "Winston     8\n",
       "Sadie       8\n",
       "Lola        7\n",
       "Name: name, dtype: int64"
      ]
     },
     "execution_count": 71,
     "metadata": {},
     "output_type": "execute_result"
    }
   ],
   "source": [
    "name_counts= df_tweets_dogs['name'].value_counts()\n",
    "name_counts = name_counts[:10]\n",
    "name_counts.drop(index='None', inplace=True)\n",
    "name_counts"
   ]
  },
  {
   "cell_type": "code",
   "execution_count": 72,
   "metadata": {
    "colab": {
     "base_uri": "https://localhost:8080/",
     "height": 790
    },
    "colab_type": "code",
    "id": "gWAGcUOspepH",
    "outputId": "dd0b8ff8-7e9f-43f2-e720-2ceee6a08bf6"
   },
   "outputs": [
    {
     "data": {
      "image/png": "[encoded data removed]",
      "text/plain": [
       "<Figure size 1200x900 with 1 Axes>"
      ]
     },
     "metadata": {
      "needs_background": "light"
     },
     "output_type": "display_data"
    }
   ],
   "source": [
    "plt.figure(figsize=(12,9), dpi = 100)\n",
    "name_counts.plot(kind = 'barh', fontsize=14)\n",
    "plt.title('Popular Dog Names')\n",
    "plt.xlabel('Count', fontsize=14)\n",
    "plt.ylabel('Names', fontsize=14);\n",
    "\n",
    "fig = plt.gcf() \n",
    "fig.savefig('Popular_Dog_Names.png',bbox_inches='tight');"
   ]
  },
  {
   "cell_type": "markdown",
   "metadata": {},
   "source": [
    "It is quite interesting to observe the most common names of dogs being tweeted. The top 10 choices are pretty close with not much differentiate between them in terms of counts. One would have assumes certain names are way more common then others. But data shows that there is plenty of variety when it comes to name choice."
   ]
  },
  {
   "cell_type": "markdown",
   "metadata": {
    "colab_type": "text",
    "id": "yYTg1MDmAEQp"
   },
   "source": [
    "## Visualization 5"
   ]
  },
  {
   "cell_type": "markdown",
   "metadata": {
    "colab_type": "text",
    "id": "m8K6ypDvBCdi"
   },
   "source": [
    "Explore the relationship between Retweets and Likes"
   ]
  },
  {
   "cell_type": "code",
   "execution_count": 73,
   "metadata": {
    "colab": {
     "base_uri": "https://localhost:8080/",
     "height": 245
    },
    "colab_type": "code",
    "id": "aaXVTM5RDQcX",
    "outputId": "4f86d801-bd90-4894-e430-7e03e1a81abb"
   },
   "outputs": [
    {
     "name": "stdout",
     "output_type": "stream",
     "text": [
      "<class 'pandas.core.frame.DataFrame'>\n",
      "RangeIndex: 2330 entries, 0 to 2329\n",
      "Data columns (total 7 columns):\n",
      " #   Column           Non-Null Count  Dtype \n",
      "---  ------           --------------  ----- \n",
      " 0   tweet_id         2330 non-null   object\n",
      " 1   favorite_count   2330 non-null   int64 \n",
      " 2   retweet_count    2330 non-null   int64 \n",
      " 3   followers_count  2330 non-null   int64 \n",
      " 4   friends_count    2330 non-null   int64 \n",
      " 5   listed_count     2330 non-null   int64 \n",
      " 6   statuses_count   2330 non-null   int64 \n",
      "dtypes: int64(6), object(1)\n",
      "memory usage: 127.5+ KB\n"
     ]
    }
   ],
   "source": [
    "df_tweets_api_clean.info()"
   ]
  },
  {
   "cell_type": "code",
   "execution_count": 74,
   "metadata": {
    "colab": {
     "base_uri": "https://localhost:8080/",
     "height": 787
    },
    "colab_type": "code",
    "id": "rITyvet6Bcgg",
    "outputId": "6ae9bd9b-4913-447a-a010-7c647cccecc1"
   },
   "outputs": [
    {
     "data": {
      "image/png": "[encoded data removed]",
      "text/plain": [
       "<Figure size 1200x900 with 1 Axes>"
      ]
     },
     "metadata": {
      "needs_background": "light"
     },
     "output_type": "display_data"
    }
   ],
   "source": [
    "plt.figure(figsize=(12,9), dpi = 100)\n",
    "plt.scatter(x=df_tweets_api_clean['favorite_count'],y=df_tweets_api_clean['retweet_count'])\n",
    "plt.title('Favorites Count Vs Retweet Count')\n",
    "plt.xlabel('Favorites', fontsize=14)\n",
    "plt.ylabel('Retweets', fontsize=14);\n",
    "\n",
    "fig = plt.gcf() \n",
    "fig.savefig('Favorites_Retweets.png',bbox_inches='tight');"
   ]
  },
  {
   "cell_type": "markdown",
   "metadata": {},
   "source": [
    "We observe a strong positive trend between retweets count and favorite(like) counts. This is to be expected as most people who favorite a tweet tend to retweet it."
   ]
  }
 ],
 "metadata": {
  "colab": {
   "collapsed_sections": [
    "9tYBt1hRne6p",
    "OXYJjDRFkym0",
    "LRqtLxmWtLRw",
    "PLrOGRRwvf3O",
    "UweV8yJiAE3Y"
   ],
   "name": "wrangle_act",
   "provenance": []
  },
  "kernelspec": {
   "display_name": "Python 3",
   "language": "python",
   "name": "python3"
  },
  "language_info": {
   "codemirror_mode": {
    "name": "ipython",
    "version": 3
   },
   "file_extension": ".py",
   "mimetype": "text/x-python",
   "name": "python",
   "nbconvert_exporter": "python",
   "pygments_lexer": "ipython3",
   "version": "3.6.10"
  }
 },
 "nbformat": 4,
 "nbformat_minor": 1
}
