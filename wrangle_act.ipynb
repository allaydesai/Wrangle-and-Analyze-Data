{
 "cells": [
  {
   "cell_type": "markdown",
   "metadata": {
    "colab_type": "text",
    "id": "E0kkbqjY16WS"
   },
   "source": [
    "# **Wrangle and Analyze Data**"
   ]
  },
  {
   "cell_type": "markdown",
   "metadata": {},
   "source": [
    "## Table of Contents\n",
    "- [Introduction](#intro)\n",
    "- [Gathering Data](#gatheringdata)\n",
    "- [Asses](#asses)\n",
    "- [Clean](#clean)\n",
    "- [Visualizing Data](#visualize)"
   ]
  },
  {
   "cell_type": "markdown",
   "metadata": {
    "colab_type": "text",
    "id": "VCwbGwPE7l7J"
   },
   "source": [
    "<a id='intro'></a>\n",
    "## Introduction\n",
    "\n",
    "Goal of this project is to gather data from a variety of sources and in a variety of formats, assess its quality and tidiness, then clean it. The dataset that will be wrangled (and analyzed and visualized) is the tweet archive of Twitter user @dog_rates, also known as WeRateDogs. WeRateDogs is a Twitter account that rates people's dogs with a humorous comment about the dog."
   ]
  },
  {
   "cell_type": "code",
   "execution_count": 0,
   "metadata": {
    "colab": {
     "base_uri": "https://localhost:8080/",
     "height": 70
    },
    "colab_type": "code",
    "id": "yIcOgH0e7v9F",
    "outputId": "5dffdd03-4bdb-4f19-cc64-d6e7670d5bff"
   },
   "outputs": [
    {
     "name": "stderr",
     "output_type": "stream",
     "text": [
      "/usr/local/lib/python3.6/dist-packages/statsmodels/tools/_testing.py:19: FutureWarning: pandas.util.testing is deprecated. Use the functions in the public API at pandas.testing instead.\n",
      "  import pandas.util.testing as tm\n"
     ]
    }
   ],
   "source": [
    "import numpy as np\n",
    "import pandas as pd\n",
    "import matplotlib.pyplot as plt\n",
    "import seaborn as sns\n",
    "import json\n",
    "import requests\n",
    "import tweepy\n",
    "from os import path\n",
    "import re\n",
    "%matplotlib inline"
   ]
  },
  {
   "cell_type": "markdown",
   "metadata": {
    "colab_type": "text",
    "id": "wnmIoOBg2Vzg"
   },
   "source": [
    "<a id='gatheringdata'></a>\n",
    "## Gathering Data\n",
    "\n",
    "Data was gathered from multiple sources:\n",
    "1. The WeRateDogs Twitter archive: twitter_archive_enhanced.csv provided for this project\n",
    "2. The tweet image predictions: what breed of dog (or other object, animal, etc.) is present in each tweet according to a neural network. This file (image_predictions.tsv) is hosted on Udacity's servers and will be downloaded programmatically.\n",
    "3. Each tweet's entire set of JSON data in a file called tweet_json.txt aquired using tweet IDs in the WeRateDogs Twitter archive\n",
    "\n"
   ]
  },
  {
   "cell_type": "markdown",
   "metadata": {
    "colab_type": "text",
    "id": "X9tf9KBPFmVZ"
   },
   "source": [
    "### Load Data\n",
    "\n",
    "#### WeRateDogs Twitter archive"
   ]
  },
  {
   "cell_type": "code",
   "execution_count": 0,
   "metadata": {
    "colab": {},
    "colab_type": "code",
    "id": "Obnr2GAf2SVa"
   },
   "outputs": [],
   "source": [
    "df_twitter = pd.read_csv('twitter-archive-enhanced.csv')"
   ]
  },
  {
   "cell_type": "code",
   "execution_count": 0,
   "metadata": {
    "colab": {
     "base_uri": "https://localhost:8080/",
     "height": 33
    },
    "colab_type": "code",
    "id": "z7rryIT01z_W",
    "outputId": "68d73ab3-e156-43ca-8ea5-7e2786159036"
   },
   "outputs": [
    {
     "name": "stdout",
     "output_type": "stream",
     "text": [
      "Twitter archive loaded into a dataframe of 2356 rows and 17 columns\n"
     ]
    }
   ],
   "source": [
    "print(f'Twitter archive loaded into a dataframe of {df_twitter.shape[0]} rows and {df_twitter.shape[1]} columns') "
   ]
  },
  {
   "cell_type": "markdown",
   "metadata": {
    "colab_type": "text",
    "id": "tXJmF0GV7gzh"
   },
   "source": [
    "#### Tweet image predictions"
   ]
  },
  {
   "cell_type": "code",
   "execution_count": 0,
   "metadata": {
    "colab": {},
    "colab_type": "code",
    "id": "uF-D9FVl1ebf"
   },
   "outputs": [],
   "source": [
    "if not path.exists('image-predictions.tsv'):\n",
    "    # Sernding HTTP/1.1 request\n",
    "    url = ' https://d17h27t6h515a5.cloudfront.net/topher/2017/August/599fd2ad_image-predictions/image-predictions.tsv'\n",
    "    response = requests.get(url)\n",
    "    # Write to file\n",
    "    with open('image-predictions.tsv', mode ='wb') as file:\n",
    "        file.write(response.content)"
   ]
  },
  {
   "cell_type": "code",
   "execution_count": 0,
   "metadata": {
    "colab": {
     "base_uri": "https://localhost:8080/",
     "height": 33
    },
    "colab_type": "code",
    "id": "ZrgspJAR9HDi",
    "outputId": "c16ab738-78c8-48e0-adeb-998fb1984644"
   },
   "outputs": [
    {
     "name": "stdout",
     "output_type": "stream",
     "text": [
      "Image predictions loaded into a dataframe of 2075 rows and 12 columns\n"
     ]
    }
   ],
   "source": [
    "# check if file created and load\n",
    "if path.exists('image-predictions.tsv'):\n",
    "    df_img_preds = pd.read_csv('image-predictions.tsv', sep='\\t')\n",
    "    print(f'Image predictions loaded into a dataframe of {df_img_preds.shape[0]} rows and {df_img_preds.shape[1]} columns') \n",
    "else:\n",
    "    print('ERROR: file doesnt exist!')"
   ]
  },
  {
   "cell_type": "markdown",
   "metadata": {
    "colab_type": "text",
    "id": "F62-4SpF9GNC"
   },
   "source": [
    "#### Tweets entire JSON data"
   ]
  },
  {
   "cell_type": "code",
   "execution_count": 0,
   "metadata": {
    "colab": {},
    "colab_type": "code",
    "id": "Yt3hY6pU8XDT"
   },
   "outputs": [],
   "source": [
    "# Connecting to twitter API\n",
    "def ConnectToTwitterAPI(consumer_key, consumer_secret, access_token, access_secret):\n",
    "    auth = tweepy.OAuthHandler(consumer_key, consumer_secret)\n",
    "    auth.set_access_token(access_token, access_secret)\n",
    "    api = tweepy.API(auth)\n",
    "    return api\n",
    "\n",
    "def ExtractDataFromApi(tweet_ids):\n",
    "    # loop through them and extract json data\n",
    "    tweet_data = []\n",
    "    for id in tweet_ids:\n",
    "        try:\n",
    "            tweet = api.get_status(id, \n",
    "                                tweet_mode='extended', \n",
    "                                wait_on_rate_limit=True, \n",
    "                                Wait_on_rate_limit_notify=True)\n",
    "            tweet_data.append(tweet)\n",
    "        except:\n",
    "            print(f'Unable to grab data for tweet id {id}')\n",
    "    print(f'Data found for {len(tweet_data)} out of {df_img_preds.shape[0]} tweets')\n",
    "\n",
    "    return tweet_data\n",
    "\n",
    "def WriteTweetDataToJsonFile(tweet_data):\n",
    "    with open('tweet-json.txt', mode = 'w') as file:\n",
    "        json.dump(tweet_data, file)\n",
    "\n",
    "def ReadTweetDataFromJsonFile(file):\n",
    "    with open(file, encoding='utf-8') as json_file:\n",
    "        data = json.load(json_file)\n",
    "    print(f'Read {len(data)} json records from {file}')\n",
    "    return data\n",
    "\n",
    "def LoadJsonToDataFrame(json_data):\n",
    "    tweets = []\n",
    "    for json_tweet in json_data:\n",
    "        tweets.append({\n",
    "            'tweet_id' : json_tweet['id'],\n",
    "            # 'favorited' : json_tweet['favorited'],\n",
    "            # 'retweeted' : json_tweet['retweeted'],\n",
    "            'favorite_count' : json_tweet['favorite_count'],\n",
    "            'retweet_count' : json_tweet['retweet_count'],\n",
    "            'followers_count' : json_tweet['user']['followers_count'],\n",
    "            'friends_count' : json_tweet['user']['friends_count'],\n",
    "            'listed_count' : json_tweet['user']['listed_count'],\n",
    "            'statuses_count': json_tweet['user']['statuses_count']})\n",
    "    df_tweets_api = pd.DataFrame(tweets, columns=['tweet_id' , 'favorite_count', 'retweet_count','followers_count','friends_count', 'listed_count', 'statuses_count'])\n",
    "    \n",
    "    print(f'Tweet data loaded from api into a dataframe of {df_tweets_api.shape[0]} rows and {df_tweets_api.shape[1]} columns') \n",
    "    return df_tweets_api    \n",
    "        \n",
    "\n"
   ]
  },
  {
   "cell_type": "code",
   "execution_count": 0,
   "metadata": {
    "colab": {
     "base_uri": "https://localhost:8080/",
     "height": 50
    },
    "colab_type": "code",
    "id": "aSL8dHwjJAYy",
    "outputId": "e3589230-204e-4f05-d43d-bca983397a22"
   },
   "outputs": [
    {
     "name": "stdout",
     "output_type": "stream",
     "text": [
      "Read 2330 json records from tweet-json.txt\n",
      "Tweet data loaded from api into a dataframe of 2330 rows and 7 columns\n"
     ]
    }
   ],
   "source": [
    "if not path.exists('tweet-json.txt'):\n",
    "    consumer_key = 'PNCHaJoIWwIqgmLwUN4y1eWV2'\n",
    "    consumer_secret = 'S3mGnnYw90IxAVAbdVqvnnLXylkkuczs9QBaoUbGXDak9Rk99s'\n",
    "    access_token = '1265046638852177922-1TpjAzlCNONthmU6NeprTV9uME4qby'\n",
    "    access_secret = '3P3ccncdi6O2aqg6uHELMHFJ9QcoaAXbJFzByigj8z6UX'\n",
    "\n",
    "    api = ConnectToTwitterAPI(consumer_key, consumer_secret, access_token, access_secret)\n",
    "    # extract all the tweetid\n",
    "    tweet_ids = df_twitter['tweet_id']\n",
    "    tweet_data = ExtractDataFromApi(tweet_ids)\n",
    "    # Write tweet data to json file\n",
    "    WriteTweetDataToJsonFile(tweet_data)\n",
    "\n",
    "# Read from json file \n",
    "json_data = ReadTweetDataFromJsonFile('tweet-json.txt')\n",
    "# Load into dataframe\n",
    "df_tweets_api = LoadJsonToDataFrame(json_data)"
   ]
  },
  {
   "cell_type": "markdown",
   "metadata": {
    "colab_type": "text",
    "id": "fzx7VUNB6XkR"
   },
   "source": [
    "<a id='asses'></a>\n",
    "## Assess\n",
    "\n",
    "Lets start with the twitter archive loaded into dataframe "
   ]
  },
  {
   "cell_type": "code",
   "execution_count": 0,
   "metadata": {
    "colab": {
     "base_uri": "https://localhost:8080/",
     "height": 520
    },
    "colab_type": "code",
    "id": "l1mvEUpj7FgU",
    "outputId": "fe9576e3-4d62-4758-e922-4de41b485692"
   },
   "outputs": [
    {
     "data": {
      "text/html": [
       "<div>\n",
       "<style scoped>\n",
       "    .dataframe tbody tr th:only-of-type {\n",
       "        vertical-align: middle;\n",
       "    }\n",
       "\n",
       "    .dataframe tbody tr th {\n",
       "        vertical-align: top;\n",
       "    }\n",
       "\n",
       "    .dataframe thead th {\n",
       "        text-align: right;\n",
       "    }\n",
       "</style>\n",
       "<table border=\"1\" class=\"dataframe\">\n",
       "  <thead>\n",
       "    <tr style=\"text-align: right;\">\n",
       "      <th></th>\n",
       "      <th>tweet_id</th>\n",
       "      <th>in_reply_to_status_id</th>\n",
       "      <th>in_reply_to_user_id</th>\n",
       "      <th>timestamp</th>\n",
       "      <th>source</th>\n",
       "      <th>text</th>\n",
       "      <th>retweeted_status_id</th>\n",
       "      <th>retweeted_status_user_id</th>\n",
       "      <th>retweeted_status_timestamp</th>\n",
       "      <th>expanded_urls</th>\n",
       "      <th>rating_numerator</th>\n",
       "      <th>rating_denominator</th>\n",
       "      <th>name</th>\n",
       "      <th>doggo</th>\n",
       "      <th>floofer</th>\n",
       "      <th>pupper</th>\n",
       "      <th>puppo</th>\n",
       "    </tr>\n",
       "  </thead>\n",
       "  <tbody>\n",
       "    <tr>\n",
       "      <th>1710</th>\n",
       "      <td>680583894916304897</td>\n",
       "      <td>NaN</td>\n",
       "      <td>NaN</td>\n",
       "      <td>2015-12-26 03:00:19 +0000</td>\n",
       "      <td>&lt;a href=\"http://twitter.com/download/iphone\" r...</td>\n",
       "      <td>This is Penny. Her tennis ball slowly rolled d...</td>\n",
       "      <td>NaN</td>\n",
       "      <td>NaN</td>\n",
       "      <td>NaN</td>\n",
       "      <td>https://twitter.com/dog_rates/status/680583894...</td>\n",
       "      <td>8</td>\n",
       "      <td>10</td>\n",
       "      <td>Penny</td>\n",
       "      <td>None</td>\n",
       "      <td>None</td>\n",
       "      <td>None</td>\n",
       "      <td>None</td>\n",
       "    </tr>\n",
       "    <tr>\n",
       "      <th>1174</th>\n",
       "      <td>720059472081784833</td>\n",
       "      <td>NaN</td>\n",
       "      <td>NaN</td>\n",
       "      <td>2016-04-13 01:22:10 +0000</td>\n",
       "      <td>&lt;a href=\"http://twitter.com/download/iphone\" r...</td>\n",
       "      <td>This is Charleson. He lost his plunger. Looked...</td>\n",
       "      <td>NaN</td>\n",
       "      <td>NaN</td>\n",
       "      <td>NaN</td>\n",
       "      <td>https://twitter.com/dog_rates/status/720059472...</td>\n",
       "      <td>9</td>\n",
       "      <td>10</td>\n",
       "      <td>Charleson</td>\n",
       "      <td>None</td>\n",
       "      <td>None</td>\n",
       "      <td>None</td>\n",
       "      <td>None</td>\n",
       "    </tr>\n",
       "    <tr>\n",
       "      <th>8</th>\n",
       "      <td>890609185150312448</td>\n",
       "      <td>NaN</td>\n",
       "      <td>NaN</td>\n",
       "      <td>2017-07-27 16:25:51 +0000</td>\n",
       "      <td>&lt;a href=\"http://twitter.com/download/iphone\" r...</td>\n",
       "      <td>This is Zoey. She doesn't want to be one of th...</td>\n",
       "      <td>NaN</td>\n",
       "      <td>NaN</td>\n",
       "      <td>NaN</td>\n",
       "      <td>https://twitter.com/dog_rates/status/890609185...</td>\n",
       "      <td>13</td>\n",
       "      <td>10</td>\n",
       "      <td>Zoey</td>\n",
       "      <td>None</td>\n",
       "      <td>None</td>\n",
       "      <td>None</td>\n",
       "      <td>None</td>\n",
       "    </tr>\n",
       "    <tr>\n",
       "      <th>1318</th>\n",
       "      <td>706538006853918722</td>\n",
       "      <td>NaN</td>\n",
       "      <td>NaN</td>\n",
       "      <td>2016-03-06 17:52:42 +0000</td>\n",
       "      <td>&lt;a href=\"http://twitter.com/download/iphone\" r...</td>\n",
       "      <td>This is Oliver (pronounced \"Ricardo\"). He's a ...</td>\n",
       "      <td>NaN</td>\n",
       "      <td>NaN</td>\n",
       "      <td>NaN</td>\n",
       "      <td>https://twitter.com/dog_rates/status/706538006...</td>\n",
       "      <td>11</td>\n",
       "      <td>10</td>\n",
       "      <td>Oliver</td>\n",
       "      <td>None</td>\n",
       "      <td>None</td>\n",
       "      <td>None</td>\n",
       "      <td>None</td>\n",
       "    </tr>\n",
       "    <tr>\n",
       "      <th>1992</th>\n",
       "      <td>672614745925664768</td>\n",
       "      <td>NaN</td>\n",
       "      <td>NaN</td>\n",
       "      <td>2015-12-04 03:13:46 +0000</td>\n",
       "      <td>&lt;a href=\"http://twitter.com/download/iphone\" r...</td>\n",
       "      <td>This is Norman. Doesn't bark much. Very docile...</td>\n",
       "      <td>NaN</td>\n",
       "      <td>NaN</td>\n",
       "      <td>NaN</td>\n",
       "      <td>https://twitter.com/dog_rates/status/672614745...</td>\n",
       "      <td>6</td>\n",
       "      <td>10</td>\n",
       "      <td>Norman</td>\n",
       "      <td>None</td>\n",
       "      <td>None</td>\n",
       "      <td>pupper</td>\n",
       "      <td>None</td>\n",
       "    </tr>\n",
       "  </tbody>\n",
       "</table>\n",
       "</div>"
      ],
      "text/plain": [
       "                tweet_id  in_reply_to_status_id  ...  pupper puppo\n",
       "1710  680583894916304897                    NaN  ...    None  None\n",
       "1174  720059472081784833                    NaN  ...    None  None\n",
       "8     890609185150312448                    NaN  ...    None  None\n",
       "1318  706538006853918722                    NaN  ...    None  None\n",
       "1992  672614745925664768                    NaN  ...  pupper  None\n",
       "\n",
       "[5 rows x 17 columns]"
      ]
     },
     "execution_count": 127,
     "metadata": {
      "tags": []
     },
     "output_type": "execute_result"
    }
   ],
   "source": [
    "# Take a look at first few rows in dataframe\n",
    "df_twitter.sample(5)"
   ]
  },
  {
   "cell_type": "code",
   "execution_count": 0,
   "metadata": {
    "colab": {
     "base_uri": "https://localhost:8080/",
     "height": 407
    },
    "colab_type": "code",
    "id": "vKlr4LM_g7H3",
    "outputId": "5a38a5aa-1fb4-4c11-f94b-2a2154519096"
   },
   "outputs": [
    {
     "name": "stdout",
     "output_type": "stream",
     "text": [
      "<class 'pandas.core.frame.DataFrame'>\n",
      "RangeIndex: 2356 entries, 0 to 2355\n",
      "Data columns (total 17 columns):\n",
      " #   Column                      Non-Null Count  Dtype  \n",
      "---  ------                      --------------  -----  \n",
      " 0   tweet_id                    2356 non-null   int64  \n",
      " 1   in_reply_to_status_id       78 non-null     float64\n",
      " 2   in_reply_to_user_id         78 non-null     float64\n",
      " 3   timestamp                   2356 non-null   object \n",
      " 4   source                      2356 non-null   object \n",
      " 5   text                        2356 non-null   object \n",
      " 6   retweeted_status_id         181 non-null    float64\n",
      " 7   retweeted_status_user_id    181 non-null    float64\n",
      " 8   retweeted_status_timestamp  181 non-null    object \n",
      " 9   expanded_urls               2297 non-null   object \n",
      " 10  rating_numerator            2356 non-null   int64  \n",
      " 11  rating_denominator          2356 non-null   int64  \n",
      " 12  name                        2356 non-null   object \n",
      " 13  doggo                       2356 non-null   object \n",
      " 14  floofer                     2356 non-null   object \n",
      " 15  pupper                      2356 non-null   object \n",
      " 16  puppo                       2356 non-null   object \n",
      "dtypes: float64(4), int64(3), object(10)\n",
      "memory usage: 313.0+ KB\n"
     ]
    }
   ],
   "source": [
    "df_twitter.info()"
   ]
  },
  {
   "cell_type": "code",
   "execution_count": 0,
   "metadata": {
    "colab": {
     "base_uri": "https://localhost:8080/",
     "height": 297
    },
    "colab_type": "code",
    "id": "fVBZsDkYKZ7n",
    "outputId": "e62f3c87-c558-453c-a2fd-55fd472c71fb"
   },
   "outputs": [
    {
     "data": {
      "text/html": [
       "<div>\n",
       "<style scoped>\n",
       "    .dataframe tbody tr th:only-of-type {\n",
       "        vertical-align: middle;\n",
       "    }\n",
       "\n",
       "    .dataframe tbody tr th {\n",
       "        vertical-align: top;\n",
       "    }\n",
       "\n",
       "    .dataframe thead th {\n",
       "        text-align: right;\n",
       "    }\n",
       "</style>\n",
       "<table border=\"1\" class=\"dataframe\">\n",
       "  <thead>\n",
       "    <tr style=\"text-align: right;\">\n",
       "      <th></th>\n",
       "      <th>tweet_id</th>\n",
       "      <th>in_reply_to_status_id</th>\n",
       "      <th>in_reply_to_user_id</th>\n",
       "      <th>retweeted_status_id</th>\n",
       "      <th>retweeted_status_user_id</th>\n",
       "      <th>rating_numerator</th>\n",
       "      <th>rating_denominator</th>\n",
       "    </tr>\n",
       "  </thead>\n",
       "  <tbody>\n",
       "    <tr>\n",
       "      <th>count</th>\n",
       "      <td>2.356000e+03</td>\n",
       "      <td>7.800000e+01</td>\n",
       "      <td>7.800000e+01</td>\n",
       "      <td>1.810000e+02</td>\n",
       "      <td>1.810000e+02</td>\n",
       "      <td>2356.000000</td>\n",
       "      <td>2356.000000</td>\n",
       "    </tr>\n",
       "    <tr>\n",
       "      <th>mean</th>\n",
       "      <td>7.427716e+17</td>\n",
       "      <td>7.455079e+17</td>\n",
       "      <td>2.014171e+16</td>\n",
       "      <td>7.720400e+17</td>\n",
       "      <td>1.241698e+16</td>\n",
       "      <td>13.126486</td>\n",
       "      <td>10.455433</td>\n",
       "    </tr>\n",
       "    <tr>\n",
       "      <th>std</th>\n",
       "      <td>6.856705e+16</td>\n",
       "      <td>7.582492e+16</td>\n",
       "      <td>1.252797e+17</td>\n",
       "      <td>6.236928e+16</td>\n",
       "      <td>9.599254e+16</td>\n",
       "      <td>45.876648</td>\n",
       "      <td>6.745237</td>\n",
       "    </tr>\n",
       "    <tr>\n",
       "      <th>min</th>\n",
       "      <td>6.660209e+17</td>\n",
       "      <td>6.658147e+17</td>\n",
       "      <td>1.185634e+07</td>\n",
       "      <td>6.661041e+17</td>\n",
       "      <td>7.832140e+05</td>\n",
       "      <td>0.000000</td>\n",
       "      <td>0.000000</td>\n",
       "    </tr>\n",
       "    <tr>\n",
       "      <th>25%</th>\n",
       "      <td>6.783989e+17</td>\n",
       "      <td>6.757419e+17</td>\n",
       "      <td>3.086374e+08</td>\n",
       "      <td>7.186315e+17</td>\n",
       "      <td>4.196984e+09</td>\n",
       "      <td>10.000000</td>\n",
       "      <td>10.000000</td>\n",
       "    </tr>\n",
       "    <tr>\n",
       "      <th>50%</th>\n",
       "      <td>7.196279e+17</td>\n",
       "      <td>7.038708e+17</td>\n",
       "      <td>4.196984e+09</td>\n",
       "      <td>7.804657e+17</td>\n",
       "      <td>4.196984e+09</td>\n",
       "      <td>11.000000</td>\n",
       "      <td>10.000000</td>\n",
       "    </tr>\n",
       "    <tr>\n",
       "      <th>75%</th>\n",
       "      <td>7.993373e+17</td>\n",
       "      <td>8.257804e+17</td>\n",
       "      <td>4.196984e+09</td>\n",
       "      <td>8.203146e+17</td>\n",
       "      <td>4.196984e+09</td>\n",
       "      <td>12.000000</td>\n",
       "      <td>10.000000</td>\n",
       "    </tr>\n",
       "    <tr>\n",
       "      <th>max</th>\n",
       "      <td>8.924206e+17</td>\n",
       "      <td>8.862664e+17</td>\n",
       "      <td>8.405479e+17</td>\n",
       "      <td>8.874740e+17</td>\n",
       "      <td>7.874618e+17</td>\n",
       "      <td>1776.000000</td>\n",
       "      <td>170.000000</td>\n",
       "    </tr>\n",
       "  </tbody>\n",
       "</table>\n",
       "</div>"
      ],
      "text/plain": [
       "           tweet_id  ...  rating_denominator\n",
       "count  2.356000e+03  ...         2356.000000\n",
       "mean   7.427716e+17  ...           10.455433\n",
       "std    6.856705e+16  ...            6.745237\n",
       "min    6.660209e+17  ...            0.000000\n",
       "25%    6.783989e+17  ...           10.000000\n",
       "50%    7.196279e+17  ...           10.000000\n",
       "75%    7.993373e+17  ...           10.000000\n",
       "max    8.924206e+17  ...          170.000000\n",
       "\n",
       "[8 rows x 7 columns]"
      ]
     },
     "execution_count": 129,
     "metadata": {
      "tags": []
     },
     "output_type": "execute_result"
    }
   ],
   "source": [
    "df_twitter.describe()"
   ]
  },
  {
   "cell_type": "code",
   "execution_count": 0,
   "metadata": {
    "colab": {
     "base_uri": "https://localhost:8080/",
     "height": 33
    },
    "colab_type": "code",
    "id": "2MEeVK26PyFk",
    "outputId": "7ec3dc73-bacb-470d-ba0f-57c825a8d4de"
   },
   "outputs": [
    {
     "data": {
      "text/plain": [
       "2356"
      ]
     },
     "execution_count": 130,
     "metadata": {
      "tags": []
     },
     "output_type": "execute_result"
    }
   ],
   "source": [
    "df_twitter['tweet_id'].nunique()"
   ]
  },
  {
   "cell_type": "markdown",
   "metadata": {
    "colab_type": "text",
    "id": "SRxtKQ1WlnNc"
   },
   "source": [
    "Initial observation\n",
    "\n",
    "1.   Total 2356 tweets\n",
    "2.   Incomplete columns:\n",
    "    - in_reply_to_status_id\n",
    "    - in_reply_to_user_id  \n",
    "    - retweeted_status_id\n",
    "    - retweeted_status_user_id\n",
    "    - retweeted_status_timestamp\n",
    "    - expanded_urls\n",
    "3.   Timestame and retweeted_status_timestamp is object not of type DateTime\n",
    "4.   Source column has html tags present \n",
    "5.   Name Column has invalid names such as None\n",
    "6.   The last 4 columns doggo, floofer, pupper and puppo can instead be a single categorical column\n",
    "7. Rating numerator and denominator dont seem to fall in valid range of values since their max values are 1776 and 170\n",
    "\n"
   ]
  },
  {
   "cell_type": "markdown",
   "metadata": {
    "colab_type": "text",
    "id": "ACHy_NnPqtPw"
   },
   "source": [
    "Next, lets look at the Tweet image predictions dataframe "
   ]
  },
  {
   "cell_type": "code",
   "execution_count": 0,
   "metadata": {
    "colab": {
     "base_uri": "https://localhost:8080/",
     "height": 211
    },
    "colab_type": "code",
    "id": "aZXndPW065Zz",
    "outputId": "3e1eb838-355f-4c18-b64c-919b797b7977"
   },
   "outputs": [
    {
     "data": {
      "text/html": [
       "<div>\n",
       "<style scoped>\n",
       "    .dataframe tbody tr th:only-of-type {\n",
       "        vertical-align: middle;\n",
       "    }\n",
       "\n",
       "    .dataframe tbody tr th {\n",
       "        vertical-align: top;\n",
       "    }\n",
       "\n",
       "    .dataframe thead th {\n",
       "        text-align: right;\n",
       "    }\n",
       "</style>\n",
       "<table border=\"1\" class=\"dataframe\">\n",
       "  <thead>\n",
       "    <tr style=\"text-align: right;\">\n",
       "      <th></th>\n",
       "      <th>tweet_id</th>\n",
       "      <th>jpg_url</th>\n",
       "      <th>img_num</th>\n",
       "      <th>p1</th>\n",
       "      <th>p1_conf</th>\n",
       "      <th>p1_dog</th>\n",
       "      <th>p2</th>\n",
       "      <th>p2_conf</th>\n",
       "      <th>p2_dog</th>\n",
       "      <th>p3</th>\n",
       "      <th>p3_conf</th>\n",
       "      <th>p3_dog</th>\n",
       "    </tr>\n",
       "  </thead>\n",
       "  <tbody>\n",
       "    <tr>\n",
       "      <th>2023</th>\n",
       "      <td>881536004380872706</td>\n",
       "      <td>https://pbs.twimg.com/ext_tw_video_thumb/88153...</td>\n",
       "      <td>1</td>\n",
       "      <td>Samoyed</td>\n",
       "      <td>0.281463</td>\n",
       "      <td>True</td>\n",
       "      <td>Angora</td>\n",
       "      <td>0.272066</td>\n",
       "      <td>False</td>\n",
       "      <td>Persian_cat</td>\n",
       "      <td>0.114854</td>\n",
       "      <td>False</td>\n",
       "    </tr>\n",
       "    <tr>\n",
       "      <th>476</th>\n",
       "      <td>675153376133427200</td>\n",
       "      <td>https://pbs.twimg.com/media/CV6gaUUWEAAnETq.jpg</td>\n",
       "      <td>1</td>\n",
       "      <td>paper_towel</td>\n",
       "      <td>0.327957</td>\n",
       "      <td>False</td>\n",
       "      <td>mailbox</td>\n",
       "      <td>0.096027</td>\n",
       "      <td>False</td>\n",
       "      <td>seat_belt</td>\n",
       "      <td>0.034995</td>\n",
       "      <td>False</td>\n",
       "    </tr>\n",
       "    <tr>\n",
       "      <th>1530</th>\n",
       "      <td>789530877013393408</td>\n",
       "      <td>https://pbs.twimg.com/media/CvT6IV6WEAQhhV5.jpg</td>\n",
       "      <td>3</td>\n",
       "      <td>schipperke</td>\n",
       "      <td>0.363272</td>\n",
       "      <td>True</td>\n",
       "      <td>kelpie</td>\n",
       "      <td>0.197021</td>\n",
       "      <td>True</td>\n",
       "      <td>Norwegian_elkhound</td>\n",
       "      <td>0.151024</td>\n",
       "      <td>True</td>\n",
       "    </tr>\n",
       "    <tr>\n",
       "      <th>1533</th>\n",
       "      <td>789986466051088384</td>\n",
       "      <td>https://pbs.twimg.com/media/CvaYgDOWgAEfjls.jpg</td>\n",
       "      <td>1</td>\n",
       "      <td>tub</td>\n",
       "      <td>0.479477</td>\n",
       "      <td>False</td>\n",
       "      <td>bathtub</td>\n",
       "      <td>0.325106</td>\n",
       "      <td>False</td>\n",
       "      <td>golden_retriever</td>\n",
       "      <td>0.078530</td>\n",
       "      <td>True</td>\n",
       "    </tr>\n",
       "    <tr>\n",
       "      <th>1909</th>\n",
       "      <td>852912242202992640</td>\n",
       "      <td>https://pbs.twimg.com/media/C9YnKK3VoAAxn1E.jpg</td>\n",
       "      <td>1</td>\n",
       "      <td>Great_Dane</td>\n",
       "      <td>0.783765</td>\n",
       "      <td>True</td>\n",
       "      <td>Rhodesian_ridgeback</td>\n",
       "      <td>0.114147</td>\n",
       "      <td>True</td>\n",
       "      <td>English_foxhound</td>\n",
       "      <td>0.046440</td>\n",
       "      <td>True</td>\n",
       "    </tr>\n",
       "  </tbody>\n",
       "</table>\n",
       "</div>"
      ],
      "text/plain": [
       "                tweet_id  ... p3_dog\n",
       "2023  881536004380872706  ...  False\n",
       "476   675153376133427200  ...  False\n",
       "1530  789530877013393408  ...   True\n",
       "1533  789986466051088384  ...   True\n",
       "1909  852912242202992640  ...   True\n",
       "\n",
       "[5 rows x 12 columns]"
      ]
     },
     "execution_count": 131,
     "metadata": {
      "tags": []
     },
     "output_type": "execute_result"
    }
   ],
   "source": [
    "df_img_preds.sample(5)"
   ]
  },
  {
   "cell_type": "code",
   "execution_count": 0,
   "metadata": {
    "colab": {
     "base_uri": "https://localhost:8080/",
     "height": 326
    },
    "colab_type": "code",
    "id": "E7hZevUgPWgc",
    "outputId": "a96dd0c5-d87d-432c-eddd-a7a903665e4b"
   },
   "outputs": [
    {
     "name": "stdout",
     "output_type": "stream",
     "text": [
      "<class 'pandas.core.frame.DataFrame'>\n",
      "RangeIndex: 2075 entries, 0 to 2074\n",
      "Data columns (total 12 columns):\n",
      " #   Column    Non-Null Count  Dtype  \n",
      "---  ------    --------------  -----  \n",
      " 0   tweet_id  2075 non-null   int64  \n",
      " 1   jpg_url   2075 non-null   object \n",
      " 2   img_num   2075 non-null   int64  \n",
      " 3   p1        2075 non-null   object \n",
      " 4   p1_conf   2075 non-null   float64\n",
      " 5   p1_dog    2075 non-null   bool   \n",
      " 6   p2        2075 non-null   object \n",
      " 7   p2_conf   2075 non-null   float64\n",
      " 8   p2_dog    2075 non-null   bool   \n",
      " 9   p3        2075 non-null   object \n",
      " 10  p3_conf   2075 non-null   float64\n",
      " 11  p3_dog    2075 non-null   bool   \n",
      "dtypes: bool(3), float64(3), int64(2), object(4)\n",
      "memory usage: 152.1+ KB\n"
     ]
    }
   ],
   "source": [
    "df_img_preds.info()"
   ]
  },
  {
   "cell_type": "markdown",
   "metadata": {
    "colab_type": "text",
    "id": "RJOfO_Y4eRDr"
   },
   "source": [
    "Initial Observation:\n",
    "\n",
    "This dataframe looks complete for the most part and has the correct datatypes for each column. Key here would be how we use it.\n",
    "\n",
    "1. Inconsistency, the prediction columns p1, p2, p3 do not follow similar case format and are seperated by an underscore. \n",
    "2. This data can be combined with tweeter archive dataframe"
   ]
  },
  {
   "cell_type": "markdown",
   "metadata": {
    "colab_type": "text",
    "id": "IibkOScyf-RC"
   },
   "source": [
    "Finally, the tweets api dataframe"
   ]
  },
  {
   "cell_type": "code",
   "execution_count": 0,
   "metadata": {
    "colab": {
     "base_uri": "https://localhost:8080/",
     "height": 191
    },
    "colab_type": "code",
    "id": "dS4ImI4TPdo9",
    "outputId": "d8bffd3f-eb70-4061-f748-f089556fe767"
   },
   "outputs": [
    {
     "data": {
      "text/html": [
       "<div>\n",
       "<style scoped>\n",
       "    .dataframe tbody tr th:only-of-type {\n",
       "        vertical-align: middle;\n",
       "    }\n",
       "\n",
       "    .dataframe tbody tr th {\n",
       "        vertical-align: top;\n",
       "    }\n",
       "\n",
       "    .dataframe thead th {\n",
       "        text-align: right;\n",
       "    }\n",
       "</style>\n",
       "<table border=\"1\" class=\"dataframe\">\n",
       "  <thead>\n",
       "    <tr style=\"text-align: right;\">\n",
       "      <th></th>\n",
       "      <th>tweet_id</th>\n",
       "      <th>favorite_count</th>\n",
       "      <th>retweet_count</th>\n",
       "      <th>followers_count</th>\n",
       "      <th>friends_count</th>\n",
       "      <th>listed_count</th>\n",
       "      <th>statuses_count</th>\n",
       "    </tr>\n",
       "  </thead>\n",
       "  <tbody>\n",
       "    <tr>\n",
       "      <th>0</th>\n",
       "      <td>892420643555336193</td>\n",
       "      <td>36230</td>\n",
       "      <td>7711</td>\n",
       "      <td>8785083</td>\n",
       "      <td>16</td>\n",
       "      <td>5536</td>\n",
       "      <td>12252</td>\n",
       "    </tr>\n",
       "    <tr>\n",
       "      <th>1</th>\n",
       "      <td>892177421306343426</td>\n",
       "      <td>31252</td>\n",
       "      <td>5699</td>\n",
       "      <td>8785083</td>\n",
       "      <td>16</td>\n",
       "      <td>5536</td>\n",
       "      <td>12252</td>\n",
       "    </tr>\n",
       "    <tr>\n",
       "      <th>2</th>\n",
       "      <td>891815181378084864</td>\n",
       "      <td>23529</td>\n",
       "      <td>3779</td>\n",
       "      <td>8785083</td>\n",
       "      <td>16</td>\n",
       "      <td>5536</td>\n",
       "      <td>12252</td>\n",
       "    </tr>\n",
       "    <tr>\n",
       "      <th>3</th>\n",
       "      <td>891689557279858688</td>\n",
       "      <td>39535</td>\n",
       "      <td>7875</td>\n",
       "      <td>8785083</td>\n",
       "      <td>16</td>\n",
       "      <td>5536</td>\n",
       "      <td>12252</td>\n",
       "    </tr>\n",
       "    <tr>\n",
       "      <th>4</th>\n",
       "      <td>891327558926688256</td>\n",
       "      <td>37745</td>\n",
       "      <td>8484</td>\n",
       "      <td>8785083</td>\n",
       "      <td>16</td>\n",
       "      <td>5536</td>\n",
       "      <td>12252</td>\n",
       "    </tr>\n",
       "  </tbody>\n",
       "</table>\n",
       "</div>"
      ],
      "text/plain": [
       "             tweet_id  favorite_count  ...  listed_count  statuses_count\n",
       "0  892420643555336193           36230  ...          5536           12252\n",
       "1  892177421306343426           31252  ...          5536           12252\n",
       "2  891815181378084864           23529  ...          5536           12252\n",
       "3  891689557279858688           39535  ...          5536           12252\n",
       "4  891327558926688256           37745  ...          5536           12252\n",
       "\n",
       "[5 rows x 7 columns]"
      ]
     },
     "execution_count": 133,
     "metadata": {
      "tags": []
     },
     "output_type": "execute_result"
    }
   ],
   "source": [
    "df_tweets_api.head()"
   ]
  },
  {
   "cell_type": "code",
   "execution_count": 0,
   "metadata": {
    "colab": {
     "base_uri": "https://localhost:8080/",
     "height": 245
    },
    "colab_type": "code",
    "id": "eJW235TUgnXV",
    "outputId": "0e1a5f52-75ce-4ba1-8de2-4d19ba340308"
   },
   "outputs": [
    {
     "name": "stdout",
     "output_type": "stream",
     "text": [
      "<class 'pandas.core.frame.DataFrame'>\n",
      "RangeIndex: 2330 entries, 0 to 2329\n",
      "Data columns (total 7 columns):\n",
      " #   Column           Non-Null Count  Dtype\n",
      "---  ------           --------------  -----\n",
      " 0   tweet_id         2330 non-null   int64\n",
      " 1   favorite_count   2330 non-null   int64\n",
      " 2   retweet_count    2330 non-null   int64\n",
      " 3   followers_count  2330 non-null   int64\n",
      " 4   friends_count    2330 non-null   int64\n",
      " 5   listed_count     2330 non-null   int64\n",
      " 6   statuses_count   2330 non-null   int64\n",
      "dtypes: int64(7)\n",
      "memory usage: 127.5 KB\n"
     ]
    }
   ],
   "source": [
    "df_tweets_api.info()"
   ]
  },
  {
   "cell_type": "code",
   "execution_count": 0,
   "metadata": {
    "colab": {
     "base_uri": "https://localhost:8080/",
     "height": 277
    },
    "colab_type": "code",
    "id": "g0Oq7AtuhvC9",
    "outputId": "cee028e4-29a2-4170-950e-7f6d2ff3fe74"
   },
   "outputs": [
    {
     "data": {
      "text/html": [
       "<div>\n",
       "<style scoped>\n",
       "    .dataframe tbody tr th:only-of-type {\n",
       "        vertical-align: middle;\n",
       "    }\n",
       "\n",
       "    .dataframe tbody tr th {\n",
       "        vertical-align: top;\n",
       "    }\n",
       "\n",
       "    .dataframe thead th {\n",
       "        text-align: right;\n",
       "    }\n",
       "</style>\n",
       "<table border=\"1\" class=\"dataframe\">\n",
       "  <thead>\n",
       "    <tr style=\"text-align: right;\">\n",
       "      <th></th>\n",
       "      <th>tweet_id</th>\n",
       "      <th>favorite_count</th>\n",
       "      <th>retweet_count</th>\n",
       "      <th>followers_count</th>\n",
       "      <th>friends_count</th>\n",
       "      <th>listed_count</th>\n",
       "      <th>statuses_count</th>\n",
       "    </tr>\n",
       "  </thead>\n",
       "  <tbody>\n",
       "    <tr>\n",
       "      <th>count</th>\n",
       "      <td>2.330000e+03</td>\n",
       "      <td>2330.000000</td>\n",
       "      <td>2330.000000</td>\n",
       "      <td>2.330000e+03</td>\n",
       "      <td>2330.0</td>\n",
       "      <td>2330.000000</td>\n",
       "      <td>2330.0</td>\n",
       "    </tr>\n",
       "    <tr>\n",
       "      <th>mean</th>\n",
       "      <td>7.419357e+17</td>\n",
       "      <td>7568.380687</td>\n",
       "      <td>2706.056223</td>\n",
       "      <td>8.785103e+06</td>\n",
       "      <td>16.0</td>\n",
       "      <td>5536.238197</td>\n",
       "      <td>12252.0</td>\n",
       "    </tr>\n",
       "    <tr>\n",
       "      <th>std</th>\n",
       "      <td>6.823308e+16</td>\n",
       "      <td>11746.852715</td>\n",
       "      <td>4575.752360</td>\n",
       "      <td>6.318969e+01</td>\n",
       "      <td>0.0</td>\n",
       "      <td>0.426072</td>\n",
       "      <td>0.0</td>\n",
       "    </tr>\n",
       "    <tr>\n",
       "      <th>min</th>\n",
       "      <td>6.660209e+17</td>\n",
       "      <td>0.000000</td>\n",
       "      <td>1.000000</td>\n",
       "      <td>8.785082e+06</td>\n",
       "      <td>16.0</td>\n",
       "      <td>5536.000000</td>\n",
       "      <td>12252.0</td>\n",
       "    </tr>\n",
       "    <tr>\n",
       "      <th>25%</th>\n",
       "      <td>6.782926e+17</td>\n",
       "      <td>1318.250000</td>\n",
       "      <td>547.000000</td>\n",
       "      <td>8.785084e+06</td>\n",
       "      <td>16.0</td>\n",
       "      <td>5536.000000</td>\n",
       "      <td>12252.0</td>\n",
       "    </tr>\n",
       "    <tr>\n",
       "      <th>50%</th>\n",
       "      <td>7.183508e+17</td>\n",
       "      <td>3289.000000</td>\n",
       "      <td>1269.500000</td>\n",
       "      <td>8.785096e+06</td>\n",
       "      <td>16.0</td>\n",
       "      <td>5536.000000</td>\n",
       "      <td>12252.0</td>\n",
       "    </tr>\n",
       "    <tr>\n",
       "      <th>75%</th>\n",
       "      <td>7.986712e+17</td>\n",
       "      <td>9264.000000</td>\n",
       "      <td>3146.750000</td>\n",
       "      <td>8.785101e+06</td>\n",
       "      <td>16.0</td>\n",
       "      <td>5536.000000</td>\n",
       "      <td>12252.0</td>\n",
       "    </tr>\n",
       "    <tr>\n",
       "      <th>max</th>\n",
       "      <td>8.924206e+17</td>\n",
       "      <td>156352.000000</td>\n",
       "      <td>77862.000000</td>\n",
       "      <td>8.785742e+06</td>\n",
       "      <td>16.0</td>\n",
       "      <td>5537.000000</td>\n",
       "      <td>12252.0</td>\n",
       "    </tr>\n",
       "  </tbody>\n",
       "</table>\n",
       "</div>"
      ],
      "text/plain": [
       "           tweet_id  favorite_count  ...  listed_count  statuses_count\n",
       "count  2.330000e+03     2330.000000  ...   2330.000000          2330.0\n",
       "mean   7.419357e+17     7568.380687  ...   5536.238197         12252.0\n",
       "std    6.823308e+16    11746.852715  ...      0.426072             0.0\n",
       "min    6.660209e+17        0.000000  ...   5536.000000         12252.0\n",
       "25%    6.782926e+17     1318.250000  ...   5536.000000         12252.0\n",
       "50%    7.183508e+17     3289.000000  ...   5536.000000         12252.0\n",
       "75%    7.986712e+17     9264.000000  ...   5536.000000         12252.0\n",
       "max    8.924206e+17   156352.000000  ...   5537.000000         12252.0\n",
       "\n",
       "[8 rows x 7 columns]"
      ]
     },
     "execution_count": 135,
     "metadata": {
      "tags": []
     },
     "output_type": "execute_result"
    }
   ],
   "source": [
    "df_tweets_api.describe()"
   ]
  },
  {
   "cell_type": "markdown",
   "metadata": {
    "colab_type": "text",
    "id": "bZV0iZvrJ0f4"
   },
   "source": [
    "<a id='clean'></a>\n",
    "# Clean"
   ]
  },
  {
   "cell_type": "code",
   "execution_count": 0,
   "metadata": {
    "colab": {},
    "colab_type": "code",
    "id": "TQiuaxEBJKFW"
   },
   "outputs": [],
   "source": [
    "df_twitter_clean = df_twitter.copy()\n",
    "df_img_preds_clean = df_img_preds.copy()\n",
    "df_tweets_api_clean = df_tweets_api.copy() "
   ]
  },
  {
   "cell_type": "markdown",
   "metadata": {
    "colab_type": "text",
    "id": "t8GWJyNGGY5Z"
   },
   "source": [
    "## Quality Issue 1\n",
    "\n",
    "**Define:** Convert tweet_id from integer to string\n",
    "\n",
    "**Code:** Use astype() function to set a new type to exisiting column"
   ]
  },
  {
   "cell_type": "code",
   "execution_count": 0,
   "metadata": {
    "colab": {},
    "colab_type": "code",
    "id": "Hdh-wbmoGYSU"
   },
   "outputs": [],
   "source": [
    "df_twitter_clean['tweet_id'] = df_twitter_clean['tweet_id'].astype(str)\n",
    "df_img_preds_clean['tweet_id'] = df_img_preds_clean['tweet_id'].astype(str)\n",
    "df_tweets_api_clean['tweet_id'] = df_tweets_api_clean['tweet_id'].astype(str)"
   ]
  },
  {
   "cell_type": "markdown",
   "metadata": {
    "colab_type": "text",
    "id": "X2HU5repPg3V"
   },
   "source": [
    "**Test:** Review dataframe information for datatype"
   ]
  },
  {
   "cell_type": "code",
   "execution_count": 0,
   "metadata": {
    "colab": {
     "base_uri": "https://localhost:8080/",
     "height": 407
    },
    "colab_type": "code",
    "id": "phex5gwVGTdv",
    "outputId": "1b77e71d-7870-41ce-c65c-7275586476be"
   },
   "outputs": [
    {
     "name": "stdout",
     "output_type": "stream",
     "text": [
      "<class 'pandas.core.frame.DataFrame'>\n",
      "RangeIndex: 2356 entries, 0 to 2355\n",
      "Data columns (total 17 columns):\n",
      " #   Column                      Non-Null Count  Dtype  \n",
      "---  ------                      --------------  -----  \n",
      " 0   tweet_id                    2356 non-null   object \n",
      " 1   in_reply_to_status_id       78 non-null     float64\n",
      " 2   in_reply_to_user_id         78 non-null     float64\n",
      " 3   timestamp                   2356 non-null   object \n",
      " 4   source                      2356 non-null   object \n",
      " 5   text                        2356 non-null   object \n",
      " 6   retweeted_status_id         181 non-null    float64\n",
      " 7   retweeted_status_user_id    181 non-null    float64\n",
      " 8   retweeted_status_timestamp  181 non-null    object \n",
      " 9   expanded_urls               2297 non-null   object \n",
      " 10  rating_numerator            2356 non-null   int64  \n",
      " 11  rating_denominator          2356 non-null   int64  \n",
      " 12  name                        2356 non-null   object \n",
      " 13  doggo                       2356 non-null   object \n",
      " 14  floofer                     2356 non-null   object \n",
      " 15  pupper                      2356 non-null   object \n",
      " 16  puppo                       2356 non-null   object \n",
      "dtypes: float64(4), int64(2), object(11)\n",
      "memory usage: 313.0+ KB\n"
     ]
    }
   ],
   "source": [
    "df_twitter_clean.info()"
   ]
  },
  {
   "cell_type": "markdown",
   "metadata": {
    "colab_type": "text",
    "id": "qRNzpz4Nk3rU"
   },
   "source": [
    "## Quality Issue 2\n",
    "\n",
    "**Define:** Remove retweets\n",
    "\n",
    "We acheive this by removing any column where retweet status id is not null\n",
    "\n",
    "**Code:** Find all indices where retweeted_status_id is NaN"
   ]
  },
  {
   "cell_type": "code",
   "execution_count": 0,
   "metadata": {
    "colab": {},
    "colab_type": "code",
    "id": "MCaJrcARk2P9"
   },
   "outputs": [],
   "source": [
    "df_twitter_clean = df_twitter_clean[np.isnan(df_twitter_clean.retweeted_status_id)]"
   ]
  },
  {
   "cell_type": "markdown",
   "metadata": {
    "colab_type": "text",
    "id": "GFkhVj3lmYFT"
   },
   "source": [
    "**Test:** We will verify the DataFrame information to check if all retweeted variables non-null count should be 0"
   ]
  },
  {
   "cell_type": "code",
   "execution_count": 0,
   "metadata": {
    "colab": {
     "base_uri": "https://localhost:8080/",
     "height": 407
    },
    "colab_type": "code",
    "id": "WaYcZMUTmoSD",
    "outputId": "065308ed-55dd-4f4f-e7d3-cc2303f3feed"
   },
   "outputs": [
    {
     "name": "stdout",
     "output_type": "stream",
     "text": [
      "<class 'pandas.core.frame.DataFrame'>\n",
      "Int64Index: 2175 entries, 0 to 2355\n",
      "Data columns (total 17 columns):\n",
      " #   Column                      Non-Null Count  Dtype  \n",
      "---  ------                      --------------  -----  \n",
      " 0   tweet_id                    2175 non-null   object \n",
      " 1   in_reply_to_status_id       78 non-null     float64\n",
      " 2   in_reply_to_user_id         78 non-null     float64\n",
      " 3   timestamp                   2175 non-null   object \n",
      " 4   source                      2175 non-null   object \n",
      " 5   text                        2175 non-null   object \n",
      " 6   retweeted_status_id         0 non-null      float64\n",
      " 7   retweeted_status_user_id    0 non-null      float64\n",
      " 8   retweeted_status_timestamp  0 non-null      object \n",
      " 9   expanded_urls               2117 non-null   object \n",
      " 10  rating_numerator            2175 non-null   int64  \n",
      " 11  rating_denominator          2175 non-null   int64  \n",
      " 12  name                        2175 non-null   object \n",
      " 13  doggo                       2175 non-null   object \n",
      " 14  floofer                     2175 non-null   object \n",
      " 15  pupper                      2175 non-null   object \n",
      " 16  puppo                       2175 non-null   object \n",
      "dtypes: float64(4), int64(2), object(11)\n",
      "memory usage: 305.9+ KB\n"
     ]
    }
   ],
   "source": [
    "df_twitter_clean.info()"
   ]
  },
  {
   "cell_type": "markdown",
   "metadata": {
    "colab_type": "text",
    "id": "3mZyRGfbXMN3"
   },
   "source": [
    "## Tidiness Issue 1\n",
    "\n",
    "**Define:** Consolidating dog type to 1 column\n",
    "\n",
    "Dog types are: \n",
    "doggo', 'floofer', 'pupper', 'puppo'\n",
    "\n",
    "These columns were originally created by extracting from the text associated with each tweet"
   ]
  },
  {
   "cell_type": "markdown",
   "metadata": {
    "colab_type": "text",
    "id": "3OBqsAGsZxNz"
   },
   "source": [
    "**Code:** Extract the dog type from each inidivdual column and populate the new dog_type column"
   ]
  },
  {
   "cell_type": "code",
   "execution_count": 0,
   "metadata": {
    "colab": {},
    "colab_type": "code",
    "id": "P3wQnsimhIdl"
   },
   "outputs": [],
   "source": [
    "dog_type = []\n",
    "for index, row in df_twitter_clean.iterrows():\n",
    "    if row['doggo'] == 'doggo':\n",
    "        dog_type.append('doggo')\n",
    "    elif row['pupper'] == 'pupper':\n",
    "        dog_type.append('pupper')\n",
    "    elif row['floofer'] == 'floofer':\n",
    "        dog_type.append('floofer')\n",
    "    elif row['puppo'] == 'puppo':\n",
    "        dog_type.append('puppo')\n",
    "    else:\n",
    "        dog_type.append('None')\n",
    "df_twitter_clean['dog_type'] = dog_type"
   ]
  },
  {
   "cell_type": "markdown",
   "metadata": {
    "colab_type": "text",
    "id": "YcJ40hV_aAJm"
   },
   "source": [
    "**Test:** Verify if new column is created and matches the previous inidvidual dog type columns"
   ]
  },
  {
   "cell_type": "code",
   "execution_count": 0,
   "metadata": {
    "colab": {
     "base_uri": "https://localhost:8080/",
     "height": 115
    },
    "colab_type": "code",
    "id": "ZA6bF9GVjQUJ",
    "outputId": "9e4791ab-5c24-40d3-8f17-796c96b1d212"
   },
   "outputs": [
    {
     "data": {
      "text/plain": [
       "None       1831\n",
       "pupper      224\n",
       "doggo        87\n",
       "puppo        24\n",
       "floofer       9\n",
       "Name: dog_type, dtype: int64"
      ]
     },
     "execution_count": 142,
     "metadata": {
      "tags": []
     },
     "output_type": "execute_result"
    }
   ],
   "source": [
    "df_twitter_clean['dog_type'].value_counts()"
   ]
  },
  {
   "cell_type": "code",
   "execution_count": 0,
   "metadata": {
    "colab": {
     "base_uri": "https://localhost:8080/",
     "height": 335
    },
    "colab_type": "code",
    "id": "QRFmkb_YZI7A",
    "outputId": "9289e2a1-24cc-4fda-f19e-65a16057f1ff"
   },
   "outputs": [
    {
     "data": {
      "text/html": [
       "<div>\n",
       "<style scoped>\n",
       "    .dataframe tbody tr th:only-of-type {\n",
       "        vertical-align: middle;\n",
       "    }\n",
       "\n",
       "    .dataframe tbody tr th {\n",
       "        vertical-align: top;\n",
       "    }\n",
       "\n",
       "    .dataframe thead th {\n",
       "        text-align: right;\n",
       "    }\n",
       "</style>\n",
       "<table border=\"1\" class=\"dataframe\">\n",
       "  <thead>\n",
       "    <tr style=\"text-align: right;\">\n",
       "      <th></th>\n",
       "      <th>doggo</th>\n",
       "      <th>floofer</th>\n",
       "      <th>pupper</th>\n",
       "      <th>puppo</th>\n",
       "      <th>dog_type</th>\n",
       "    </tr>\n",
       "  </thead>\n",
       "  <tbody>\n",
       "    <tr>\n",
       "      <th>173</th>\n",
       "      <td>None</td>\n",
       "      <td>None</td>\n",
       "      <td>None</td>\n",
       "      <td>None</td>\n",
       "      <td>None</td>\n",
       "    </tr>\n",
       "    <tr>\n",
       "      <th>270</th>\n",
       "      <td>None</td>\n",
       "      <td>None</td>\n",
       "      <td>None</td>\n",
       "      <td>None</td>\n",
       "      <td>None</td>\n",
       "    </tr>\n",
       "    <tr>\n",
       "      <th>658</th>\n",
       "      <td>None</td>\n",
       "      <td>None</td>\n",
       "      <td>None</td>\n",
       "      <td>None</td>\n",
       "      <td>None</td>\n",
       "    </tr>\n",
       "    <tr>\n",
       "      <th>24</th>\n",
       "      <td>None</td>\n",
       "      <td>None</td>\n",
       "      <td>None</td>\n",
       "      <td>None</td>\n",
       "      <td>None</td>\n",
       "    </tr>\n",
       "    <tr>\n",
       "      <th>576</th>\n",
       "      <td>doggo</td>\n",
       "      <td>None</td>\n",
       "      <td>None</td>\n",
       "      <td>None</td>\n",
       "      <td>doggo</td>\n",
       "    </tr>\n",
       "    <tr>\n",
       "      <th>862</th>\n",
       "      <td>None</td>\n",
       "      <td>None</td>\n",
       "      <td>None</td>\n",
       "      <td>None</td>\n",
       "      <td>None</td>\n",
       "    </tr>\n",
       "    <tr>\n",
       "      <th>2066</th>\n",
       "      <td>None</td>\n",
       "      <td>None</td>\n",
       "      <td>None</td>\n",
       "      <td>None</td>\n",
       "      <td>None</td>\n",
       "    </tr>\n",
       "    <tr>\n",
       "      <th>2087</th>\n",
       "      <td>None</td>\n",
       "      <td>None</td>\n",
       "      <td>None</td>\n",
       "      <td>None</td>\n",
       "      <td>None</td>\n",
       "    </tr>\n",
       "    <tr>\n",
       "      <th>1297</th>\n",
       "      <td>None</td>\n",
       "      <td>None</td>\n",
       "      <td>None</td>\n",
       "      <td>None</td>\n",
       "      <td>None</td>\n",
       "    </tr>\n",
       "    <tr>\n",
       "      <th>1912</th>\n",
       "      <td>None</td>\n",
       "      <td>None</td>\n",
       "      <td>None</td>\n",
       "      <td>None</td>\n",
       "      <td>None</td>\n",
       "    </tr>\n",
       "  </tbody>\n",
       "</table>\n",
       "</div>"
      ],
      "text/plain": [
       "      doggo floofer pupper puppo dog_type\n",
       "173    None    None   None  None     None\n",
       "270    None    None   None  None     None\n",
       "658    None    None   None  None     None\n",
       "24     None    None   None  None     None\n",
       "576   doggo    None   None  None    doggo\n",
       "862    None    None   None  None     None\n",
       "2066   None    None   None  None     None\n",
       "2087   None    None   None  None     None\n",
       "1297   None    None   None  None     None\n",
       "1912   None    None   None  None     None"
      ]
     },
     "execution_count": 143,
     "metadata": {
      "tags": []
     },
     "output_type": "execute_result"
    }
   ],
   "source": [
    "df_twitter_clean[['doggo', 'floofer', 'pupper', 'puppo', 'dog_type']].sample(10)"
   ]
  },
  {
   "cell_type": "markdown",
   "metadata": {
    "colab_type": "text",
    "id": "9tYBt1hRne6p"
   },
   "source": [
    "## Quality Issue 3\n",
    "**Define:** Remove unwanted columns\n",
    "\n",
    "Since we removed all rows which were retweets, we can remove columns relating to retweet as well as others which dont think are relevant"
   ]
  },
  {
   "cell_type": "markdown",
   "metadata": {
    "colab_type": "text",
    "id": "FVKF6gkTnBqE"
   },
   "source": [
    "**Code:** A this point we can drop these columns as they serve no purpose."
   ]
  },
  {
   "cell_type": "code",
   "execution_count": 0,
   "metadata": {
    "colab": {},
    "colab_type": "code",
    "id": "_0MG9HXinGsK"
   },
   "outputs": [],
   "source": [
    "columns_to_drop = ['retweeted_status_id', \n",
    "                   'retweeted_status_user_id', \n",
    "                   'retweeted_status_timestamp',\n",
    "                   'in_reply_to_status_id', \n",
    "                   'in_reply_to_user_id',\n",
    "                   'doggo', \n",
    "                   'floofer', \n",
    "                   'pupper', \n",
    "                   'puppo']\n",
    "df_twitter_clean = df_twitter_clean.drop(columns_to_drop, axis=1)"
   ]
  },
  {
   "cell_type": "markdown",
   "metadata": {
    "colab_type": "text",
    "id": "0RJrLeB2oUrp"
   },
   "source": [
    "**Test:** Lets take a look at the dataframe once again and what we are left with now"
   ]
  },
  {
   "cell_type": "code",
   "execution_count": 0,
   "metadata": {
    "colab": {
     "base_uri": "https://localhost:8080/"
    },
    "colab_type": "code",
    "id": "Xo4vZELDnQe7",
    "outputId": "007d26dc-3c3e-4137-fe5e-1d6c04321756"
   },
   "outputs": [
    {
     "data": {
      "text/html": [
       "<div>\n",
       "<style scoped>\n",
       "    .dataframe tbody tr th:only-of-type {\n",
       "        vertical-align: middle;\n",
       "    }\n",
       "\n",
       "    .dataframe tbody tr th {\n",
       "        vertical-align: top;\n",
       "    }\n",
       "\n",
       "    .dataframe thead th {\n",
       "        text-align: right;\n",
       "    }\n",
       "</style>\n",
       "<table border=\"1\" class=\"dataframe\">\n",
       "  <thead>\n",
       "    <tr style=\"text-align: right;\">\n",
       "      <th></th>\n",
       "      <th>tweet_id</th>\n",
       "      <th>timestamp</th>\n",
       "      <th>source</th>\n",
       "      <th>text</th>\n",
       "      <th>expanded_urls</th>\n",
       "      <th>rating_numerator</th>\n",
       "      <th>rating_denominator</th>\n",
       "      <th>name</th>\n",
       "      <th>dog_type</th>\n",
       "    </tr>\n",
       "  </thead>\n",
       "  <tbody>\n",
       "    <tr>\n",
       "      <th>0</th>\n",
       "      <td>892420643555336193</td>\n",
       "      <td>2017-08-01 16:23:56 +0000</td>\n",
       "      <td>&lt;a href=\"http://twitter.com/download/iphone\" r...</td>\n",
       "      <td>This is Phineas. He's a mystical boy. Only eve...</td>\n",
       "      <td>https://twitter.com/dog_rates/status/892420643...</td>\n",
       "      <td>13</td>\n",
       "      <td>10</td>\n",
       "      <td>Phineas</td>\n",
       "      <td>None</td>\n",
       "    </tr>\n",
       "    <tr>\n",
       "      <th>1</th>\n",
       "      <td>892177421306343426</td>\n",
       "      <td>2017-08-01 00:17:27 +0000</td>\n",
       "      <td>&lt;a href=\"http://twitter.com/download/iphone\" r...</td>\n",
       "      <td>This is Tilly. She's just checking pup on you....</td>\n",
       "      <td>https://twitter.com/dog_rates/status/892177421...</td>\n",
       "      <td>13</td>\n",
       "      <td>10</td>\n",
       "      <td>Tilly</td>\n",
       "      <td>None</td>\n",
       "    </tr>\n",
       "    <tr>\n",
       "      <th>2</th>\n",
       "      <td>891815181378084864</td>\n",
       "      <td>2017-07-31 00:18:03 +0000</td>\n",
       "      <td>&lt;a href=\"http://twitter.com/download/iphone\" r...</td>\n",
       "      <td>This is Archie. He is a rare Norwegian Pouncin...</td>\n",
       "      <td>https://twitter.com/dog_rates/status/891815181...</td>\n",
       "      <td>12</td>\n",
       "      <td>10</td>\n",
       "      <td>Archie</td>\n",
       "      <td>None</td>\n",
       "    </tr>\n",
       "  </tbody>\n",
       "</table>\n",
       "</div>"
      ],
      "text/plain": [
       "             tweet_id                  timestamp  ...     name dog_type\n",
       "0  892420643555336193  2017-08-01 16:23:56 +0000  ...  Phineas     None\n",
       "1  892177421306343426  2017-08-01 00:17:27 +0000  ...    Tilly     None\n",
       "2  891815181378084864  2017-07-31 00:18:03 +0000  ...   Archie     None\n",
       "\n",
       "[3 rows x 9 columns]"
      ]
     },
     "execution_count": 145,
     "metadata": {
      "tags": []
     },
     "output_type": "execute_result"
    }
   ],
   "source": [
    "df_twitter_clean.head(3)"
   ]
  },
  {
   "cell_type": "code",
   "execution_count": 0,
   "metadata": {
    "colab": {
     "base_uri": "https://localhost:8080/"
    },
    "colab_type": "code",
    "id": "MIVwuT5jbeJ4",
    "outputId": "a3b0128a-d2dc-4578-f90d-62207bb7ef96"
   },
   "outputs": [
    {
     "name": "stdout",
     "output_type": "stream",
     "text": [
      "<class 'pandas.core.frame.DataFrame'>\n",
      "Int64Index: 2175 entries, 0 to 2355\n",
      "Data columns (total 9 columns):\n",
      " #   Column              Non-Null Count  Dtype \n",
      "---  ------              --------------  ----- \n",
      " 0   tweet_id            2175 non-null   object\n",
      " 1   timestamp           2175 non-null   object\n",
      " 2   source              2175 non-null   object\n",
      " 3   text                2175 non-null   object\n",
      " 4   expanded_urls       2117 non-null   object\n",
      " 5   rating_numerator    2175 non-null   int64 \n",
      " 6   rating_denominator  2175 non-null   int64 \n",
      " 7   name                2175 non-null   object\n",
      " 8   dog_type            2175 non-null   object\n",
      "dtypes: int64(2), object(7)\n",
      "memory usage: 169.9+ KB\n"
     ]
    }
   ],
   "source": [
    "df_twitter_clean.info()"
   ]
  },
  {
   "cell_type": "markdown",
   "metadata": {
    "colab_type": "text",
    "id": "OXYJjDRFkym0"
   },
   "source": [
    "## Quality Issue 4\n",
    "\n",
    "**Define:** Convert timestamp to datetime format\n",
    "\n",
    "**Code:** Use pandas to_datatime() function"
   ]
  },
  {
   "cell_type": "code",
   "execution_count": 0,
   "metadata": {
    "colab": {
     "base_uri": "https://localhost:8080/"
    },
    "colab_type": "code",
    "id": "Z4pZF-DOkWf_",
    "outputId": "c5a50cf8-d9c7-4dc5-b2e7-638c7cfb0117"
   },
   "outputs": [
    {
     "data": {
      "text/plain": [
       "2181    2015-11-24 03:29:51 +0000\n",
       "1854    2015-12-12 04:35:48 +0000\n",
       "226     2017-04-03 00:16:10 +0000\n",
       "1083    2016-06-03 01:07:16 +0000\n",
       "1376    2016-02-22 16:27:58 +0000\n",
       "Name: timestamp, dtype: object"
      ]
     },
     "execution_count": 147,
     "metadata": {
      "tags": []
     },
     "output_type": "execute_result"
    }
   ],
   "source": [
    "df_twitter_clean['timestamp'].sample(5)"
   ]
  },
  {
   "cell_type": "markdown",
   "metadata": {
    "colab_type": "text",
    "id": "6V0QToovrOYD"
   },
   "source": [
    "First we would need to clean up the format so it can be accepted by the function"
   ]
  },
  {
   "cell_type": "code",
   "execution_count": 0,
   "metadata": {
    "colab": {
     "base_uri": "https://localhost:8080/"
    },
    "colab_type": "code",
    "id": "mu7fhS-8qv80",
    "outputId": "43dae8f0-ec72-4bd7-b30f-4f1031b9ffec"
   },
   "outputs": [
    {
     "data": {
      "text/plain": [
       "150    2017-05-12 16:05:02\n",
       "Name: timestamp, dtype: object"
      ]
     },
     "execution_count": 148,
     "metadata": {
      "tags": []
     },
     "output_type": "execute_result"
    }
   ],
   "source": [
    "# test\n",
    "df_twitter_clean.sample(1)['timestamp'].str.slice(start=0, stop=-6)"
   ]
  },
  {
   "cell_type": "code",
   "execution_count": 0,
   "metadata": {
    "colab": {},
    "colab_type": "code",
    "id": "sDb9LK7Orit5"
   },
   "outputs": [],
   "source": [
    "# apply\n",
    "df_twitter_clean['timestamp'] = df_twitter_clean['timestamp'].str.slice(start=0, stop=-6)\n",
    "df_twitter_clean['timestamp'] = pd.to_datetime(df_twitter_clean['timestamp'], format = \"%Y-%m-%d %H:%M:%S\")"
   ]
  },
  {
   "cell_type": "markdown",
   "metadata": {
    "colab_type": "text",
    "id": "pOI6jLZRsCmR"
   },
   "source": [
    "**Test:** lets take a look at the dataframe information if the change has been applied. we expect to see the DateTime as the datatype for timestamp column"
   ]
  },
  {
   "cell_type": "code",
   "execution_count": 0,
   "metadata": {
    "colab": {
     "base_uri": "https://localhost:8080/"
    },
    "colab_type": "code",
    "id": "es8n18CQsBLS",
    "outputId": "7a12c4b6-3005-4ec2-f9de-c7d54d545585"
   },
   "outputs": [
    {
     "name": "stdout",
     "output_type": "stream",
     "text": [
      "<class 'pandas.core.frame.DataFrame'>\n",
      "Int64Index: 2175 entries, 0 to 2355\n",
      "Data columns (total 9 columns):\n",
      " #   Column              Non-Null Count  Dtype         \n",
      "---  ------              --------------  -----         \n",
      " 0   tweet_id            2175 non-null   object        \n",
      " 1   timestamp           2175 non-null   datetime64[ns]\n",
      " 2   source              2175 non-null   object        \n",
      " 3   text                2175 non-null   object        \n",
      " 4   expanded_urls       2117 non-null   object        \n",
      " 5   rating_numerator    2175 non-null   int64         \n",
      " 6   rating_denominator  2175 non-null   int64         \n",
      " 7   name                2175 non-null   object        \n",
      " 8   dog_type            2175 non-null   object        \n",
      "dtypes: datetime64[ns](1), int64(2), object(6)\n",
      "memory usage: 169.9+ KB\n"
     ]
    }
   ],
   "source": [
    "df_twitter_clean.info()"
   ]
  },
  {
   "cell_type": "markdown",
   "metadata": {
    "colab_type": "text",
    "id": "LRqtLxmWtLRw"
   },
   "source": [
    "## Quality Issue 5\n",
    "\n",
    "**Define:** Transform dog names to match same case preference \n",
    "\n",
    "**Code:** We use regular expression to capitalize the first letter in all names"
   ]
  },
  {
   "cell_type": "code",
   "execution_count": 0,
   "metadata": {
    "colab": {},
    "colab_type": "code",
    "id": "g1gXjVe7sU2f"
   },
   "outputs": [],
   "source": [
    "df_twitter_clean.name = df_twitter_clean.name.str.replace('^[a-z]+', 'None')"
   ]
  },
  {
   "cell_type": "markdown",
   "metadata": {
    "colab_type": "text",
    "id": "tFShUmw_tqUn"
   },
   "source": [
    "**Test:** Verify a random sample to check if the names appear correct now"
   ]
  },
  {
   "cell_type": "code",
   "execution_count": 0,
   "metadata": {
    "colab": {
     "base_uri": "https://localhost:8080/"
    },
    "colab_type": "code",
    "id": "BQergBZAtKVy",
    "outputId": "cc5bf0e8-0c4a-4550-c418-60259f9562a8"
   },
   "outputs": [
    {
     "data": {
      "text/plain": [
       "417      Paisley\n",
       "2095     Vincent\n",
       "988         None\n",
       "367        Alfie\n",
       "1047        Beya\n",
       "2351        None\n",
       "849        Angel\n",
       "1348    Ralphson\n",
       "1262       Tater\n",
       "916       Oliver\n",
       "Name: name, dtype: object"
      ]
     },
     "execution_count": 152,
     "metadata": {
      "tags": []
     },
     "output_type": "execute_result"
    }
   ],
   "source": [
    "df_twitter_clean.sample(10)['name']"
   ]
  },
  {
   "cell_type": "markdown",
   "metadata": {
    "colab_type": "text",
    "id": "PLrOGRRwvf3O"
   },
   "source": [
    "## Quality Issue 6\n",
    "\n",
    "**Define**: Remove HTML tags from source column\n",
    "\n",
    "**Code**: Use regular expression to extract the html tag content"
   ]
  },
  {
   "cell_type": "code",
   "execution_count": 0,
   "metadata": {
    "colab": {
     "base_uri": "https://localhost:8080/"
    },
    "colab_type": "code",
    "id": "2x6w85lI2Vq8",
    "outputId": "93d7988e-4bb5-46fb-94d1-cf932ddf0e34"
   },
   "outputs": [
    {
     "name": "stdout",
     "output_type": "stream",
     "text": [
      "Before: <a href=\"http://twitter.com/download/iphone\" rel=\"nofollow\">Twitter for iPhone</a>\n",
      "After: Twitter for iPhone\n"
     ]
    }
   ],
   "source": [
    "source_str = df_twitter_clean.sample(1)['source'].iloc[0]\n",
    "source_modified = re.findall(r'>(.*)<', df_twitter_clean.sample(1)['source'].iloc[0])[0]\n",
    "print(f'Before: {source_str}')\n",
    "print(f'After: {source_modified}')"
   ]
  },
  {
   "cell_type": "code",
   "execution_count": 0,
   "metadata": {
    "colab": {},
    "colab_type": "code",
    "id": "fvOuMdqs2d92"
   },
   "outputs": [],
   "source": [
    "# apply to entire column\n",
    "df_twitter_clean['source'] = df_twitter_clean['source'].apply(lambda x: re.findall(r'>(.*)<', x)[0])"
   ]
  },
  {
   "cell_type": "markdown",
   "metadata": {
    "colab_type": "text",
    "id": "DZswArcc8skP"
   },
   "source": [
    "**Test:** Verify the dataframe sorce column"
   ]
  },
  {
   "cell_type": "code",
   "execution_count": 0,
   "metadata": {
    "colab": {
     "base_uri": "https://localhost:8080/"
    },
    "colab_type": "code",
    "id": "BBICJ0ZE8kBe",
    "outputId": "cbcdf058-b24b-49dc-e06b-ac228b06b200"
   },
   "outputs": [
    {
     "data": {
      "text/plain": [
       "909     Twitter for iPhone\n",
       "178     Twitter for iPhone\n",
       "2187    Twitter for iPhone\n",
       "2192    Twitter for iPhone\n",
       "153     Twitter for iPhone\n",
       "958     Twitter for iPhone\n",
       "918     Twitter for iPhone\n",
       "1077    Twitter for iPhone\n",
       "1873    Twitter for iPhone\n",
       "352     Twitter Web Client\n",
       "Name: source, dtype: object"
      ]
     },
     "execution_count": 155,
     "metadata": {
      "tags": []
     },
     "output_type": "execute_result"
    }
   ],
   "source": [
    "df_twitter_clean.sample(10)['source']"
   ]
  },
  {
   "cell_type": "code",
   "execution_count": 0,
   "metadata": {
    "colab": {
     "base_uri": "https://localhost:8080/"
    },
    "colab_type": "code",
    "id": "OXqJXLjr9cOt",
    "outputId": "a2135b04-59f4-4db5-bf1b-1dd4bd673aac"
   },
   "outputs": [
    {
     "data": {
      "text/plain": [
       "Twitter for iPhone     2042\n",
       "Vine - Make a Scene      91\n",
       "Twitter Web Client       31\n",
       "TweetDeck                11\n",
       "Name: source, dtype: int64"
      ]
     },
     "execution_count": 156,
     "metadata": {
      "tags": []
     },
     "output_type": "execute_result"
    }
   ],
   "source": [
    "df_twitter_clean['source'].value_counts()"
   ]
  },
  {
   "cell_type": "markdown",
   "metadata": {
    "colab_type": "text",
    "id": "UweV8yJiAE3Y"
   },
   "source": [
    "## Quality Issue 7\n",
    "\n",
    "**Define:** Fix ratings numerator and denominator\n",
    "\n",
    "**Code:** First lets change the data format for numerator and denominator to be a float\n",
    "\n",
    "\n"
   ]
  },
  {
   "cell_type": "code",
   "execution_count": 0,
   "metadata": {
    "colab": {},
    "colab_type": "code",
    "id": "7ym591-o9qYr"
   },
   "outputs": [],
   "source": [
    "df_twitter_clean['rating_numerator'] = df_twitter_clean['rating_numerator'].astype(float)\n",
    "df_twitter_clean['rating_denominator'] = df_twitter_clean['rating_denominator'].astype(float)"
   ]
  },
  {
   "cell_type": "markdown",
   "metadata": {
    "colab_type": "text",
    "id": "oZYrL4j6OeM-"
   },
   "source": [
    "Next, we will search the text column for numerators with decimal point"
   ]
  },
  {
   "cell_type": "code",
   "execution_count": 0,
   "metadata": {
    "colab": {
     "base_uri": "https://localhost:8080/"
    },
    "colab_type": "code",
    "id": "EWcwHJgYOQjX",
    "outputId": "b6979064-3134-4360-936c-86cbf0da79b5"
   },
   "outputs": [
    {
     "name": "stdout",
     "output_type": "stream",
     "text": [
      "@TheEllenShow I'm not sure if you know this but that doggo right there is a 12/10\n"
     ]
    }
   ],
   "source": [
    "# have a look at one of the text fields to create regex pattern\n",
    "temp_text = df_twitter_clean.sample(1)['text'].iloc[0]\n",
    "print(temp_text)"
   ]
  },
  {
   "cell_type": "code",
   "execution_count": 0,
   "metadata": {
    "colab": {
     "base_uri": "https://localhost:8080/"
    },
    "colab_type": "code",
    "id": "htVRt8fAPM6F",
    "outputId": "e558b07b-457f-4414-9e9b-cda1e018ebb0"
   },
   "outputs": [
    {
     "name": "stdout",
     "output_type": "stream",
     "text": [
      "<_sre.SRE_Match object; span=(76, 81), match='12/10'>\n"
     ]
    }
   ],
   "source": [
    "# first we try to searh without a decimal point since that is more common\n",
    "result = re.search('\\d+\\/\\d+', temp_text)\n",
    "print(result)"
   ]
  },
  {
   "cell_type": "code",
   "execution_count": 0,
   "metadata": {
    "colab": {
     "base_uri": "https://localhost:8080/"
    },
    "colab_type": "code",
    "id": "zAsYSTy1WTA0",
    "outputId": "8c27f8b4-5d37-4d9f-a040-aefae3890354"
   },
   "outputs": [
    {
     "data": {
      "text/plain": [
       "True"
      ]
     },
     "execution_count": 160,
     "metadata": {
      "tags": []
     },
     "output_type": "execute_result"
    }
   ],
   "source": [
    "bool(result)"
   ]
  },
  {
   "cell_type": "code",
   "execution_count": 0,
   "metadata": {
    "colab": {
     "base_uri": "https://localhost:8080/"
    },
    "colab_type": "code",
    "id": "bv_uty2DVSrL",
    "outputId": "cab9f05f-ba9b-42b4-9f33-a32f52e78bee"
   },
   "outputs": [
    {
     "data": {
      "text/plain": [
       "'12/10'"
      ]
     },
     "execution_count": 161,
     "metadata": {
      "tags": []
     },
     "output_type": "execute_result"
    }
   ],
   "source": [
    "result.group()"
   ]
  },
  {
   "cell_type": "code",
   "execution_count": 0,
   "metadata": {
    "colab": {
     "base_uri": "https://localhost:8080/"
    },
    "colab_type": "code",
    "id": "SL9owzJqO1Eb",
    "outputId": "b366a1ee-8ac9-498d-cbe5-df8f20930bf5"
   },
   "outputs": [
    {
     "name": "stdout",
     "output_type": "stream",
     "text": [
      "45 :  13.5/10 ,  This is Bella. She hopes her smile made you smile. If not, she is also offering you her favorite monkey. 13.5/10 https://t.co/qjrljjt948\n",
      "695 :  9.75/10 ,  This is Logan, the Chow who lived. He solemnly swears he's up to lots of good. H*ckin magical af 9.75/10 https://t.co/yBO5wuqaPS\n",
      "763 :  11.27/10 ,  This is Sophie. She's a Jubilant Bush Pupper. Super h*ckin rare. Appears at random just to smile at the locals. 11.27/10 would smile back https://t.co/QFaUiIHxHq\n",
      "1689 :  9.5/10 ,  I've been told there's a slight possibility he's checking his mirror. We'll bump to 9.5/10. Still a menace\n",
      "1712 :  11.26/10 ,  Here we have uncovered an entire battalion of holiday puppers. Average of 11.26/10 https://t.co/eNm2S6p9BD\n"
     ]
    }
   ],
   "source": [
    "# Search for the index of rows with decimal in ratings numerator\n",
    "decimal_rating_index=[]\n",
    "decimal_rating_values=[]\n",
    "for index, row in df_twitter_clean.iterrows():\n",
    "    text = row['text']\n",
    "    result = re.search('\\d+\\.\\d+\\/\\d+', text)\n",
    "    if bool(result):\n",
    "        decimal_rating_index.append(index)\n",
    "        decimal_rating_values.append(result.group())\n",
    "        print(index, ': ', result.group(), ', ', text)"
   ]
  },
  {
   "cell_type": "code",
   "execution_count": 0,
   "metadata": {
    "colab": {
     "base_uri": "https://localhost:8080/"
    },
    "colab_type": "code",
    "id": "Iuf766yvQclM",
    "outputId": "dbd22981-8107-47f1-d096-9f4fff9775d0"
   },
   "outputs": [
    {
     "name": "stdout",
     "output_type": "stream",
     "text": [
      "['13.5', '10']\n",
      "['9.75', '10']\n",
      "['11.27', '10']\n",
      "['9.5', '10']\n",
      "['11.26', '10']\n"
     ]
    }
   ],
   "source": [
    "for i, index in enumerate(decimal_rating_index):\n",
    "    num_splits = decimal_rating_values[i].split('/')\n",
    "    print(num_splits)\n",
    "    df_twitter_clean.loc[index,'rating_numerator'] = float(num_splits[0])\n",
    "    df_twitter_clean.loc[index,'rating_denominator'] = float(num_splits[1])"
   ]
  },
  {
   "cell_type": "code",
   "execution_count": 0,
   "metadata": {
    "colab": {
     "base_uri": "https://localhost:8080/"
    },
    "colab_type": "code",
    "id": "vv5OMNqoeIxv",
    "outputId": "98a4880b-08b5-47cf-bc8b-98eb47b574c5"
   },
   "outputs": [
    {
     "data": {
      "text/plain": [
       "10.0"
      ]
     },
     "execution_count": 164,
     "metadata": {
      "tags": []
     },
     "output_type": "execute_result"
    }
   ],
   "source": [
    "float(num_splits[1])"
   ]
  },
  {
   "cell_type": "markdown",
   "metadata": {
    "colab_type": "text",
    "id": "KGa9EmPqak71"
   },
   "source": [
    "**Test:** Verify numerator and denominator values in the rows affected"
   ]
  },
  {
   "cell_type": "code",
   "execution_count": 0,
   "metadata": {
    "colab": {
     "base_uri": "https://localhost:8080/"
    },
    "colab_type": "code",
    "id": "MxSu3yt8YpXh",
    "outputId": "1e97dc49-caae-43f3-8d33-dc31d5c8c218"
   },
   "outputs": [
    {
     "name": "stdout",
     "output_type": "stream",
     "text": [
      "tweet_id                                             883482846933004288\n",
      "timestamp                                           2017-07-08 00:28:19\n",
      "source                                               Twitter for iPhone\n",
      "text                  This is Bella. She hopes her smile made you sm...\n",
      "expanded_urls         https://twitter.com/dog_rates/status/883482846...\n",
      "rating_numerator                                                   13.5\n",
      "rating_denominator                                                   10\n",
      "name                                                              Bella\n",
      "dog_type                                                           None\n",
      "Name: 45, dtype: object\n",
      "-----------------------------------------------------------------------\n",
      "tweet_id                                             786709082849828864\n",
      "timestamp                                           2016-10-13 23:23:56\n",
      "source                                               Twitter for iPhone\n",
      "text                  This is Logan, the Chow who lived. He solemnly...\n",
      "expanded_urls         https://twitter.com/dog_rates/status/786709082...\n",
      "rating_numerator                                                   9.75\n",
      "rating_denominator                                                   10\n",
      "name                                                              Logan\n",
      "dog_type                                                           None\n",
      "Name: 695, dtype: object\n",
      "-----------------------------------------------------------------------\n",
      "tweet_id                                             778027034220126208\n",
      "timestamp                                           2016-09-20 00:24:34\n",
      "source                                               Twitter for iPhone\n",
      "text                  This is Sophie. She's a Jubilant Bush Pupper. ...\n",
      "expanded_urls         https://twitter.com/dog_rates/status/778027034...\n",
      "rating_numerator                                                  11.27\n",
      "rating_denominator                                                   10\n",
      "name                                                             Sophie\n",
      "dog_type                                                         pupper\n",
      "Name: 763, dtype: object\n",
      "-----------------------------------------------------------------------\n",
      "tweet_id                                             681340665377193984\n",
      "timestamp                                           2015-12-28 05:07:27\n",
      "source                                               Twitter for iPhone\n",
      "text                  I've been told there's a slight possibility he...\n",
      "expanded_urls                                                       NaN\n",
      "rating_numerator                                                    9.5\n",
      "rating_denominator                                                   10\n",
      "name                                                               None\n",
      "dog_type                                                           None\n",
      "Name: 1689, dtype: object\n",
      "-----------------------------------------------------------------------\n",
      "tweet_id                                             680494726643068929\n",
      "timestamp                                           2015-12-25 21:06:00\n",
      "source                                               Twitter for iPhone\n",
      "text                  Here we have uncovered an entire battalion of ...\n",
      "expanded_urls         https://twitter.com/dog_rates/status/680494726...\n",
      "rating_numerator                                                  11.26\n",
      "rating_denominator                                                   10\n",
      "name                                                               None\n",
      "dog_type                                                           None\n",
      "Name: 1712, dtype: object\n",
      "-----------------------------------------------------------------------\n"
     ]
    }
   ],
   "source": [
    "for index in decimal_rating_index:\n",
    "    print(df_twitter_clean.loc[index])\n",
    "    print('-----------------------------------------------------------------------')"
   ]
  },
  {
   "cell_type": "code",
   "execution_count": 0,
   "metadata": {
    "colab": {
     "base_uri": "https://localhost:8080/"
    },
    "colab_type": "code",
    "id": "g8g95y8scOQb",
    "outputId": "0d45deed-8226-497a-ce5b-75caf894c5b0"
   },
   "outputs": [
    {
     "data": {
      "text/html": [
       "<div>\n",
       "<style scoped>\n",
       "    .dataframe tbody tr th:only-of-type {\n",
       "        vertical-align: middle;\n",
       "    }\n",
       "\n",
       "    .dataframe tbody tr th {\n",
       "        vertical-align: top;\n",
       "    }\n",
       "\n",
       "    .dataframe thead th {\n",
       "        text-align: right;\n",
       "    }\n",
       "</style>\n",
       "<table border=\"1\" class=\"dataframe\">\n",
       "  <thead>\n",
       "    <tr style=\"text-align: right;\">\n",
       "      <th></th>\n",
       "      <th>rating_numerator</th>\n",
       "      <th>rating_denominator</th>\n",
       "    </tr>\n",
       "  </thead>\n",
       "  <tbody>\n",
       "    <tr>\n",
       "      <th>count</th>\n",
       "      <td>2175.000000</td>\n",
       "      <td>2175.000000</td>\n",
       "    </tr>\n",
       "    <tr>\n",
       "      <th>mean</th>\n",
       "      <td>13.177140</td>\n",
       "      <td>10.492874</td>\n",
       "    </tr>\n",
       "    <tr>\n",
       "      <th>std</th>\n",
       "      <td>47.705088</td>\n",
       "      <td>7.019084</td>\n",
       "    </tr>\n",
       "    <tr>\n",
       "      <th>min</th>\n",
       "      <td>0.000000</td>\n",
       "      <td>0.000000</td>\n",
       "    </tr>\n",
       "    <tr>\n",
       "      <th>25%</th>\n",
       "      <td>10.000000</td>\n",
       "      <td>10.000000</td>\n",
       "    </tr>\n",
       "    <tr>\n",
       "      <th>50%</th>\n",
       "      <td>11.000000</td>\n",
       "      <td>10.000000</td>\n",
       "    </tr>\n",
       "    <tr>\n",
       "      <th>75%</th>\n",
       "      <td>12.000000</td>\n",
       "      <td>10.000000</td>\n",
       "    </tr>\n",
       "    <tr>\n",
       "      <th>max</th>\n",
       "      <td>1776.000000</td>\n",
       "      <td>170.000000</td>\n",
       "    </tr>\n",
       "  </tbody>\n",
       "</table>\n",
       "</div>"
      ],
      "text/plain": [
       "       rating_numerator  rating_denominator\n",
       "count       2175.000000         2175.000000\n",
       "mean          13.177140           10.492874\n",
       "std           47.705088            7.019084\n",
       "min            0.000000            0.000000\n",
       "25%           10.000000           10.000000\n",
       "50%           11.000000           10.000000\n",
       "75%           12.000000           10.000000\n",
       "max         1776.000000          170.000000"
      ]
     },
     "execution_count": 166,
     "metadata": {
      "tags": []
     },
     "output_type": "execute_result"
    }
   ],
   "source": [
    "df_twitter_clean.describe()"
   ]
  },
  {
   "cell_type": "code",
   "execution_count": 0,
   "metadata": {
    "colab": {
     "base_uri": "https://localhost:8080/"
    },
    "colab_type": "code",
    "id": "gKUD4W5Ue2im",
    "outputId": "b7a42044-31d0-46a9-dd3d-a1f642f11684"
   },
   "outputs": [
    {
     "name": "stdout",
     "output_type": "stream",
     "text": [
      "<class 'pandas.core.frame.DataFrame'>\n",
      "Int64Index: 2175 entries, 0 to 2355\n",
      "Data columns (total 9 columns):\n",
      " #   Column              Non-Null Count  Dtype         \n",
      "---  ------              --------------  -----         \n",
      " 0   tweet_id            2175 non-null   object        \n",
      " 1   timestamp           2175 non-null   datetime64[ns]\n",
      " 2   source              2175 non-null   object        \n",
      " 3   text                2175 non-null   object        \n",
      " 4   expanded_urls       2117 non-null   object        \n",
      " 5   rating_numerator    2175 non-null   float64       \n",
      " 6   rating_denominator  2175 non-null   float64       \n",
      " 7   name                2175 non-null   object        \n",
      " 8   dog_type            2175 non-null   object        \n",
      "dtypes: datetime64[ns](1), float64(2), object(6)\n",
      "memory usage: 249.9+ KB\n"
     ]
    }
   ],
   "source": [
    "df_twitter_clean.info()"
   ]
  },
  {
   "cell_type": "markdown",
   "metadata": {
    "colab_type": "text",
    "id": "L7mHsxuLgGK2"
   },
   "source": [
    "## Quality Issue 8\n",
    "\n",
    "**Define:** Create a rating column using the numerator and denominator so it is easy to compare one dog against another irrespective of their rating scale\n",
    "\n",
    "**Code:** We devide numerator with denominator and assign to new column"
   ]
  },
  {
   "cell_type": "code",
   "execution_count": 0,
   "metadata": {
    "colab": {},
    "colab_type": "code",
    "id": "VsWnYlTQfGQ6"
   },
   "outputs": [],
   "source": [
    "df_twitter_clean['rating'] = df_twitter_clean['rating_numerator'] / df_twitter_clean['rating_denominator']"
   ]
  },
  {
   "cell_type": "markdown",
   "metadata": {
    "colab_type": "text",
    "id": "LBtJtdj0hKYe"
   },
   "source": [
    "**Test:** Sample the dataframe and view the new column"
   ]
  },
  {
   "cell_type": "code",
   "execution_count": 0,
   "metadata": {
    "colab": {
     "base_uri": "https://localhost:8080/",
     "height": 536
    },
    "colab_type": "code",
    "id": "VUUQjQurhJHz",
    "outputId": "6e0d496b-c896-4ff1-f151-1f721a0a6670"
   },
   "outputs": [
    {
     "data": {
      "text/html": [
       "<div>\n",
       "<style scoped>\n",
       "    .dataframe tbody tr th:only-of-type {\n",
       "        vertical-align: middle;\n",
       "    }\n",
       "\n",
       "    .dataframe tbody tr th {\n",
       "        vertical-align: top;\n",
       "    }\n",
       "\n",
       "    .dataframe thead th {\n",
       "        text-align: right;\n",
       "    }\n",
       "</style>\n",
       "<table border=\"1\" class=\"dataframe\">\n",
       "  <thead>\n",
       "    <tr style=\"text-align: right;\">\n",
       "      <th></th>\n",
       "      <th>tweet_id</th>\n",
       "      <th>timestamp</th>\n",
       "      <th>source</th>\n",
       "      <th>text</th>\n",
       "      <th>expanded_urls</th>\n",
       "      <th>rating_numerator</th>\n",
       "      <th>rating_denominator</th>\n",
       "      <th>name</th>\n",
       "      <th>dog_type</th>\n",
       "      <th>rating</th>\n",
       "    </tr>\n",
       "  </thead>\n",
       "  <tbody>\n",
       "    <tr>\n",
       "      <th>1122</th>\n",
       "      <td>730573383004487680</td>\n",
       "      <td>2016-05-12 01:40:42</td>\n",
       "      <td>Twitter for iPhone</td>\n",
       "      <td>This is Rooney. He can't comprehend glass. 10/...</td>\n",
       "      <td>https://twitter.com/dog_rates/status/730573383...</td>\n",
       "      <td>10.0</td>\n",
       "      <td>10.0</td>\n",
       "      <td>Rooney</td>\n",
       "      <td>pupper</td>\n",
       "      <td>1.0</td>\n",
       "    </tr>\n",
       "    <tr>\n",
       "      <th>253</th>\n",
       "      <td>844704788403113984</td>\n",
       "      <td>2017-03-23 00:18:10</td>\n",
       "      <td>Twitter for iPhone</td>\n",
       "      <td>This is Luna. It's her first time outside and ...</td>\n",
       "      <td>https://twitter.com/dog_rates/status/844704788...</td>\n",
       "      <td>13.0</td>\n",
       "      <td>10.0</td>\n",
       "      <td>Luna</td>\n",
       "      <td>None</td>\n",
       "      <td>1.3</td>\n",
       "    </tr>\n",
       "    <tr>\n",
       "      <th>360</th>\n",
       "      <td>829861396166877184</td>\n",
       "      <td>2017-02-10 01:15:49</td>\n",
       "      <td>Twitter for iPhone</td>\n",
       "      <td>This is Mia. She already knows she's a good do...</td>\n",
       "      <td>https://twitter.com/dog_rates/status/829861396...</td>\n",
       "      <td>12.0</td>\n",
       "      <td>10.0</td>\n",
       "      <td>Mia</td>\n",
       "      <td>None</td>\n",
       "      <td>1.2</td>\n",
       "    </tr>\n",
       "    <tr>\n",
       "      <th>426</th>\n",
       "      <td>821407182352777218</td>\n",
       "      <td>2017-01-17 17:21:47</td>\n",
       "      <td>Twitter for iPhone</td>\n",
       "      <td>This is Sundance. He's a doggo drummer. Even s...</td>\n",
       "      <td>https://twitter.com/dog_rates/status/821407182...</td>\n",
       "      <td>14.0</td>\n",
       "      <td>10.0</td>\n",
       "      <td>Sundance</td>\n",
       "      <td>doggo</td>\n",
       "      <td>1.4</td>\n",
       "    </tr>\n",
       "    <tr>\n",
       "      <th>378</th>\n",
       "      <td>827933404142436356</td>\n",
       "      <td>2017-02-04 17:34:40</td>\n",
       "      <td>Twitter for iPhone</td>\n",
       "      <td>This is Kona. Yesterday she stopped by the dep...</td>\n",
       "      <td>https://twitter.com/dog_rates/status/827933404...</td>\n",
       "      <td>12.0</td>\n",
       "      <td>10.0</td>\n",
       "      <td>Kona</td>\n",
       "      <td>pupper</td>\n",
       "      <td>1.2</td>\n",
       "    </tr>\n",
       "  </tbody>\n",
       "</table>\n",
       "</div>"
      ],
      "text/plain": [
       "                tweet_id           timestamp  ... dog_type rating\n",
       "1122  730573383004487680 2016-05-12 01:40:42  ...   pupper    1.0\n",
       "253   844704788403113984 2017-03-23 00:18:10  ...     None    1.3\n",
       "360   829861396166877184 2017-02-10 01:15:49  ...     None    1.2\n",
       "426   821407182352777218 2017-01-17 17:21:47  ...    doggo    1.4\n",
       "378   827933404142436356 2017-02-04 17:34:40  ...   pupper    1.2\n",
       "\n",
       "[5 rows x 10 columns]"
      ]
     },
     "execution_count": 169,
     "metadata": {
      "tags": []
     },
     "output_type": "execute_result"
    }
   ],
   "source": [
    "df_twitter_clean.sample(5)"
   ]
  },
  {
   "cell_type": "markdown",
   "metadata": {
    "colab_type": "text",
    "id": "NNccRcgBjPlD"
   },
   "source": [
    "## Quality Issue 9\n",
    "**Define:** Add column dog_breed to predictions data frame based on predictions \n",
    "\n",
    "**Code:** Consolidate the predictions and their repective probablitiy to one dog_breed column"
   ]
  },
  {
   "cell_type": "code",
   "execution_count": 0,
   "metadata": {
    "colab": {},
    "colab_type": "code",
    "id": "bdoXNK3Bsa3F"
   },
   "outputs": [],
   "source": [
    "dog_breed = []\n",
    "for i, row in df_img_preds_clean.iterrows():\n",
    "    if row['p1_dog']:\n",
    "        dog_breed.append(row.p1)\n",
    "    elif row['p2_dog']:\n",
    "        dog_breed.append(row.p2)\n",
    "    elif row['p3_dog']:\n",
    "        dog_breed.append(row.p3)\n",
    "    else:\n",
    "        dog_breed.append('None')\n",
    "        \n",
    "df_img_preds_clean['dog_breed'] = dog_breed"
   ]
  },
  {
   "cell_type": "markdown",
   "metadata": {},
   "source": [
    "**Test**: Sample the dataframe as well its summary information to look at the newly created column"
   ]
  },
  {
   "cell_type": "code",
   "execution_count": 0,
   "metadata": {
    "colab": {
     "base_uri": "https://localhost:8080/",
     "height": 211
    },
    "colab_type": "code",
    "id": "yOdXdi4jhlVi",
    "outputId": "d9ad38bb-0868-4045-c635-ae513950cbcd"
   },
   "outputs": [
    {
     "data": {
      "text/html": [
       "<div>\n",
       "<style scoped>\n",
       "    .dataframe tbody tr th:only-of-type {\n",
       "        vertical-align: middle;\n",
       "    }\n",
       "\n",
       "    .dataframe tbody tr th {\n",
       "        vertical-align: top;\n",
       "    }\n",
       "\n",
       "    .dataframe thead th {\n",
       "        text-align: right;\n",
       "    }\n",
       "</style>\n",
       "<table border=\"1\" class=\"dataframe\">\n",
       "  <thead>\n",
       "    <tr style=\"text-align: right;\">\n",
       "      <th></th>\n",
       "      <th>tweet_id</th>\n",
       "      <th>jpg_url</th>\n",
       "      <th>img_num</th>\n",
       "      <th>p1</th>\n",
       "      <th>p1_conf</th>\n",
       "      <th>p1_dog</th>\n",
       "      <th>p2</th>\n",
       "      <th>p2_conf</th>\n",
       "      <th>p2_dog</th>\n",
       "      <th>p3</th>\n",
       "      <th>p3_conf</th>\n",
       "      <th>p3_dog</th>\n",
       "      <th>dog_breed</th>\n",
       "    </tr>\n",
       "  </thead>\n",
       "  <tbody>\n",
       "    <tr>\n",
       "      <th>1887</th>\n",
       "      <td>847971574464610304</td>\n",
       "      <td>https://pbs.twimg.com/media/C8SZH1EWAAAIRRF.jpg</td>\n",
       "      <td>1</td>\n",
       "      <td>coffee_mug</td>\n",
       "      <td>0.633652</td>\n",
       "      <td>False</td>\n",
       "      <td>cup</td>\n",
       "      <td>0.273392</td>\n",
       "      <td>False</td>\n",
       "      <td>toilet_tissue</td>\n",
       "      <td>0.066656</td>\n",
       "      <td>False</td>\n",
       "      <td>None</td>\n",
       "    </tr>\n",
       "    <tr>\n",
       "      <th>1929</th>\n",
       "      <td>858471635011153920</td>\n",
       "      <td>https://pbs.twimg.com/media/C-nnZBdXkAAB-wg.jpg</td>\n",
       "      <td>1</td>\n",
       "      <td>Pembroke</td>\n",
       "      <td>0.987407</td>\n",
       "      <td>True</td>\n",
       "      <td>Cardigan</td>\n",
       "      <td>0.008723</td>\n",
       "      <td>True</td>\n",
       "      <td>basenji</td>\n",
       "      <td>0.003424</td>\n",
       "      <td>True</td>\n",
       "      <td>Pembroke</td>\n",
       "    </tr>\n",
       "    <tr>\n",
       "      <th>1516</th>\n",
       "      <td>786963064373534720</td>\n",
       "      <td>https://pbs.twimg.com/media/Cuvau3MW8AAxaRv.jpg</td>\n",
       "      <td>1</td>\n",
       "      <td>golden_retriever</td>\n",
       "      <td>0.915303</td>\n",
       "      <td>True</td>\n",
       "      <td>Saluki</td>\n",
       "      <td>0.046213</td>\n",
       "      <td>True</td>\n",
       "      <td>Labrador_retriever</td>\n",
       "      <td>0.037504</td>\n",
       "      <td>True</td>\n",
       "      <td>golden_retriever</td>\n",
       "    </tr>\n",
       "    <tr>\n",
       "      <th>1815</th>\n",
       "      <td>833826103416520705</td>\n",
       "      <td>https://pbs.twimg.com/media/C5JYaYoVYAAcEQw.jpg</td>\n",
       "      <td>1</td>\n",
       "      <td>Chihuahua</td>\n",
       "      <td>0.438054</td>\n",
       "      <td>True</td>\n",
       "      <td>kelpie</td>\n",
       "      <td>0.149706</td>\n",
       "      <td>True</td>\n",
       "      <td>Pembroke</td>\n",
       "      <td>0.096480</td>\n",
       "      <td>True</td>\n",
       "      <td>Chihuahua</td>\n",
       "    </tr>\n",
       "    <tr>\n",
       "      <th>190</th>\n",
       "      <td>669393256313184256</td>\n",
       "      <td>https://pbs.twimg.com/media/CUopnHPVEAAcL2o.jpg</td>\n",
       "      <td>1</td>\n",
       "      <td>cocker_spaniel</td>\n",
       "      <td>0.359843</td>\n",
       "      <td>True</td>\n",
       "      <td>Blenheim_spaniel</td>\n",
       "      <td>0.139519</td>\n",
       "      <td>True</td>\n",
       "      <td>toy_poodle</td>\n",
       "      <td>0.132746</td>\n",
       "      <td>True</td>\n",
       "      <td>cocker_spaniel</td>\n",
       "    </tr>\n",
       "  </tbody>\n",
       "</table>\n",
       "</div>"
      ],
      "text/plain": [
       "                tweet_id  ...         dog_breed\n",
       "1887  847971574464610304  ...              None\n",
       "1929  858471635011153920  ...          Pembroke\n",
       "1516  786963064373534720  ...  golden_retriever\n",
       "1815  833826103416520705  ...         Chihuahua\n",
       "190   669393256313184256  ...    cocker_spaniel\n",
       "\n",
       "[5 rows x 13 columns]"
      ]
     },
     "execution_count": 171,
     "metadata": {
      "tags": []
     },
     "output_type": "execute_result"
    }
   ],
   "source": [
    "df_img_preds_clean.sample(5)"
   ]
  },
  {
   "cell_type": "code",
   "execution_count": 0,
   "metadata": {
    "colab": {
     "base_uri": "https://localhost:8080/",
     "height": 342
    },
    "colab_type": "code",
    "id": "_KIo6uRWluU0",
    "outputId": "32d2bf2c-17a1-4574-d9bb-ecc71854a258"
   },
   "outputs": [
    {
     "name": "stdout",
     "output_type": "stream",
     "text": [
      "<class 'pandas.core.frame.DataFrame'>\n",
      "RangeIndex: 2075 entries, 0 to 2074\n",
      "Data columns (total 13 columns):\n",
      " #   Column     Non-Null Count  Dtype  \n",
      "---  ------     --------------  -----  \n",
      " 0   tweet_id   2075 non-null   object \n",
      " 1   jpg_url    2075 non-null   object \n",
      " 2   img_num    2075 non-null   int64  \n",
      " 3   p1         2075 non-null   object \n",
      " 4   p1_conf    2075 non-null   float64\n",
      " 5   p1_dog     2075 non-null   bool   \n",
      " 6   p2         2075 non-null   object \n",
      " 7   p2_conf    2075 non-null   float64\n",
      " 8   p2_dog     2075 non-null   bool   \n",
      " 9   p3         2075 non-null   object \n",
      " 10  p3_conf    2075 non-null   float64\n",
      " 11  p3_dog     2075 non-null   bool   \n",
      " 12  dog_breed  2075 non-null   object \n",
      "dtypes: bool(3), float64(3), int64(1), object(6)\n",
      "memory usage: 168.3+ KB\n"
     ]
    }
   ],
   "source": [
    "df_img_preds_clean.info()"
   ]
  },
  {
   "cell_type": "markdown",
   "metadata": {
    "colab_type": "text",
    "id": "JqrXjEKrYsHl"
   },
   "source": [
    "## Tidiness Issue 2\n",
    "\n",
    "**Define:** Drop unwanted columns from df_img_preds and merge with df_twitter_clean"
   ]
  },
  {
   "cell_type": "markdown",
   "metadata": {},
   "source": [
    "Droping unwanted columns"
   ]
  },
  {
   "cell_type": "code",
   "execution_count": 0,
   "metadata": {
    "colab": {},
    "colab_type": "code",
    "id": "mIb5Isk8VcHd"
   },
   "outputs": [],
   "source": [
    "df_img_preds_clean.drop(columns=['img_num'], inplace=True)"
   ]
  },
  {
   "cell_type": "markdown",
   "metadata": {},
   "source": [
    "**Code**: Use pandas merge function on tweet_id column"
   ]
  },
  {
   "cell_type": "code",
   "execution_count": 0,
   "metadata": {
    "colab": {},
    "colab_type": "code",
    "id": "xsQ23BTbpoSC"
   },
   "outputs": [],
   "source": [
    "df_tweets_dogs = df_twitter_clean.merge(df_img_preds_clean, on='tweet_id', how='inner')"
   ]
  },
  {
   "cell_type": "markdown",
   "metadata": {},
   "source": [
    "**Test**: Sample the dataframe and ensure all columns look correctly merged"
   ]
  },
  {
   "cell_type": "code",
   "execution_count": 0,
   "metadata": {
    "colab": {
     "base_uri": "https://localhost:8080/",
     "height": 568
    },
    "colab_type": "code",
    "id": "-TYTBsSerC8u",
    "outputId": "c9a38e4b-176c-49d6-e4e5-f2909f85f6c1"
   },
   "outputs": [
    {
     "data": {
      "text/html": [
       "<div>\n",
       "<style scoped>\n",
       "    .dataframe tbody tr th:only-of-type {\n",
       "        vertical-align: middle;\n",
       "    }\n",
       "\n",
       "    .dataframe tbody tr th {\n",
       "        vertical-align: top;\n",
       "    }\n",
       "\n",
       "    .dataframe thead th {\n",
       "        text-align: right;\n",
       "    }\n",
       "</style>\n",
       "<table border=\"1\" class=\"dataframe\">\n",
       "  <thead>\n",
       "    <tr style=\"text-align: right;\">\n",
       "      <th></th>\n",
       "      <th>tweet_id</th>\n",
       "      <th>timestamp</th>\n",
       "      <th>source</th>\n",
       "      <th>text</th>\n",
       "      <th>expanded_urls</th>\n",
       "      <th>rating_numerator</th>\n",
       "      <th>rating_denominator</th>\n",
       "      <th>name</th>\n",
       "      <th>dog_type</th>\n",
       "      <th>rating</th>\n",
       "      <th>jpg_url</th>\n",
       "      <th>p1</th>\n",
       "      <th>p1_conf</th>\n",
       "      <th>p1_dog</th>\n",
       "      <th>p2</th>\n",
       "      <th>p2_conf</th>\n",
       "      <th>p2_dog</th>\n",
       "      <th>p3</th>\n",
       "      <th>p3_conf</th>\n",
       "      <th>p3_dog</th>\n",
       "      <th>dog_breed</th>\n",
       "    </tr>\n",
       "  </thead>\n",
       "  <tbody>\n",
       "    <tr>\n",
       "      <th>1036</th>\n",
       "      <td>705591895322394625</td>\n",
       "      <td>2016-03-04 03:13:11</td>\n",
       "      <td>Twitter for iPhone</td>\n",
       "      <td>\"Ma'am, for the last time, I'm not authorized ...</td>\n",
       "      <td>https://twitter.com/dog_rates/status/705591895...</td>\n",
       "      <td>11.0</td>\n",
       "      <td>10.0</td>\n",
       "      <td>None</td>\n",
       "      <td>None</td>\n",
       "      <td>1.1</td>\n",
       "      <td>https://pbs.twimg.com/media/CcrEFQdUcAA7CJf.jpg</td>\n",
       "      <td>basenji</td>\n",
       "      <td>0.877207</td>\n",
       "      <td>True</td>\n",
       "      <td>Italian_greyhound</td>\n",
       "      <td>0.047854</td>\n",
       "      <td>True</td>\n",
       "      <td>miniature_pinscher</td>\n",
       "      <td>0.035638</td>\n",
       "      <td>True</td>\n",
       "      <td>basenji</td>\n",
       "    </tr>\n",
       "    <tr>\n",
       "      <th>1461</th>\n",
       "      <td>676936541936185344</td>\n",
       "      <td>2015-12-16 01:27:03</td>\n",
       "      <td>Twitter for iPhone</td>\n",
       "      <td>Here we see a rare pouched pupper. Ample stora...</td>\n",
       "      <td>https://twitter.com/dog_rates/status/676936541...</td>\n",
       "      <td>8.0</td>\n",
       "      <td>10.0</td>\n",
       "      <td>None</td>\n",
       "      <td>pupper</td>\n",
       "      <td>0.8</td>\n",
       "      <td>https://pbs.twimg.com/media/CWT2MUgWIAECWig.jpg</td>\n",
       "      <td>Chesapeake_Bay_retriever</td>\n",
       "      <td>0.545286</td>\n",
       "      <td>True</td>\n",
       "      <td>Norwegian_elkhound</td>\n",
       "      <td>0.081482</td>\n",
       "      <td>True</td>\n",
       "      <td>space_heater</td>\n",
       "      <td>0.047391</td>\n",
       "      <td>False</td>\n",
       "      <td>Chesapeake_Bay_retriever</td>\n",
       "    </tr>\n",
       "    <tr>\n",
       "      <th>870</th>\n",
       "      <td>727524757080539137</td>\n",
       "      <td>2016-05-03 15:46:33</td>\n",
       "      <td>Twitter for iPhone</td>\n",
       "      <td>This pupper had to undergo emergency haircut s...</td>\n",
       "      <td>https://twitter.com/dog_rates/status/727524757...</td>\n",
       "      <td>10.0</td>\n",
       "      <td>10.0</td>\n",
       "      <td>None</td>\n",
       "      <td>pupper</td>\n",
       "      <td>1.0</td>\n",
       "      <td>https://pbs.twimg.com/media/Chiv6BAW4AAiQvH.jpg</td>\n",
       "      <td>Pomeranian</td>\n",
       "      <td>0.958834</td>\n",
       "      <td>True</td>\n",
       "      <td>Chihuahua</td>\n",
       "      <td>0.024099</td>\n",
       "      <td>True</td>\n",
       "      <td>chow</td>\n",
       "      <td>0.003941</td>\n",
       "      <td>True</td>\n",
       "      <td>Pomeranian</td>\n",
       "    </tr>\n",
       "    <tr>\n",
       "      <th>1041</th>\n",
       "      <td>705223444686888960</td>\n",
       "      <td>2016-03-03 02:49:06</td>\n",
       "      <td>Twitter for iPhone</td>\n",
       "      <td>This is Bode. He's a heavy sleeper. 9/10 https...</td>\n",
       "      <td>https://twitter.com/dog_rates/status/705223444...</td>\n",
       "      <td>9.0</td>\n",
       "      <td>10.0</td>\n",
       "      <td>Bode</td>\n",
       "      <td>None</td>\n",
       "      <td>0.9</td>\n",
       "      <td>https://pbs.twimg.com/media/Ccl0-HVVAAAf8aK.jpg</td>\n",
       "      <td>Egyptian_cat</td>\n",
       "      <td>0.090508</td>\n",
       "      <td>False</td>\n",
       "      <td>Chesapeake_Bay_retriever</td>\n",
       "      <td>0.077373</td>\n",
       "      <td>True</td>\n",
       "      <td>Mexican_hairless</td>\n",
       "      <td>0.049472</td>\n",
       "      <td>True</td>\n",
       "      <td>Chesapeake_Bay_retriever</td>\n",
       "    </tr>\n",
       "    <tr>\n",
       "      <th>1784</th>\n",
       "      <td>670003130994700288</td>\n",
       "      <td>2015-11-26 22:16:09</td>\n",
       "      <td>Twitter for iPhone</td>\n",
       "      <td>This is Raphael. He is a Baskerville Conquista...</td>\n",
       "      <td>https://twitter.com/dog_rates/status/670003130...</td>\n",
       "      <td>10.0</td>\n",
       "      <td>10.0</td>\n",
       "      <td>Raphael</td>\n",
       "      <td>None</td>\n",
       "      <td>1.0</td>\n",
       "      <td>https://pbs.twimg.com/media/CUxUSuaW4AAdQzv.jpg</td>\n",
       "      <td>beagle</td>\n",
       "      <td>0.375313</td>\n",
       "      <td>True</td>\n",
       "      <td>Saint_Bernard</td>\n",
       "      <td>0.174911</td>\n",
       "      <td>True</td>\n",
       "      <td>English_foxhound</td>\n",
       "      <td>0.115888</td>\n",
       "      <td>True</td>\n",
       "      <td>beagle</td>\n",
       "    </tr>\n",
       "  </tbody>\n",
       "</table>\n",
       "</div>"
      ],
      "text/plain": [
       "                tweet_id           timestamp  ... p3_dog                 dog_breed\n",
       "1036  705591895322394625 2016-03-04 03:13:11  ...   True                   basenji\n",
       "1461  676936541936185344 2015-12-16 01:27:03  ...  False  Chesapeake_Bay_retriever\n",
       "870   727524757080539137 2016-05-03 15:46:33  ...   True                Pomeranian\n",
       "1041  705223444686888960 2016-03-03 02:49:06  ...   True  Chesapeake_Bay_retriever\n",
       "1784  670003130994700288 2015-11-26 22:16:09  ...   True                    beagle\n",
       "\n",
       "[5 rows x 21 columns]"
      ]
     },
     "execution_count": 175,
     "metadata": {
      "tags": []
     },
     "output_type": "execute_result"
    }
   ],
   "source": [
    "df_tweets_dogs.sample(5)"
   ]
  },
  {
   "cell_type": "code",
   "execution_count": 0,
   "metadata": {
    "colab": {
     "base_uri": "https://localhost:8080/",
     "height": 472
    },
    "colab_type": "code",
    "id": "UlqkI2oorKku",
    "outputId": "fa20f731-6d54-4f3a-859b-8f4129608c3b"
   },
   "outputs": [
    {
     "name": "stdout",
     "output_type": "stream",
     "text": [
      "<class 'pandas.core.frame.DataFrame'>\n",
      "Int64Index: 1994 entries, 0 to 1993\n",
      "Data columns (total 21 columns):\n",
      " #   Column              Non-Null Count  Dtype         \n",
      "---  ------              --------------  -----         \n",
      " 0   tweet_id            1994 non-null   object        \n",
      " 1   timestamp           1994 non-null   datetime64[ns]\n",
      " 2   source              1994 non-null   object        \n",
      " 3   text                1994 non-null   object        \n",
      " 4   expanded_urls       1994 non-null   object        \n",
      " 5   rating_numerator    1994 non-null   float64       \n",
      " 6   rating_denominator  1994 non-null   float64       \n",
      " 7   name                1994 non-null   object        \n",
      " 8   dog_type            1994 non-null   object        \n",
      " 9   rating              1994 non-null   float64       \n",
      " 10  jpg_url             1994 non-null   object        \n",
      " 11  p1                  1994 non-null   object        \n",
      " 12  p1_conf             1994 non-null   float64       \n",
      " 13  p1_dog              1994 non-null   bool          \n",
      " 14  p2                  1994 non-null   object        \n",
      " 15  p2_conf             1994 non-null   float64       \n",
      " 16  p2_dog              1994 non-null   bool          \n",
      " 17  p3                  1994 non-null   object        \n",
      " 18  p3_conf             1994 non-null   float64       \n",
      " 19  p3_dog              1994 non-null   bool          \n",
      " 20  dog_breed           1994 non-null   object        \n",
      "dtypes: bool(3), datetime64[ns](1), float64(6), object(11)\n",
      "memory usage: 301.8+ KB\n"
     ]
    }
   ],
   "source": [
    "df_tweets_dogs.info()"
   ]
  },
  {
   "cell_type": "markdown",
   "metadata": {
    "colab_type": "text",
    "id": "L2YmD3DPb0IQ"
   },
   "source": [
    "# Storing Data"
   ]
  },
  {
   "cell_type": "code",
   "execution_count": 0,
   "metadata": {
    "colab": {},
    "colab_type": "code",
    "id": "8z9U_NaGruEt"
   },
   "outputs": [],
   "source": [
    "# storing the dataframe to a csv file\n",
    "df_tweets_dogs.to_csv('df_tweets_dogs.csv', encoding='utf-8', index=False)"
   ]
  },
  {
   "cell_type": "markdown",
   "metadata": {
    "colab_type": "text",
    "id": "aJ3Su0Q8chvE"
   },
   "source": [
    "<a id='visualize'></a>\n",
    "# Visualizing Data "
   ]
  },
  {
   "cell_type": "markdown",
   "metadata": {
    "colab_type": "text",
    "id": "n0ACvdtRdaGi"
   },
   "source": [
    "## Visualization 1\n",
    "\n",
    "Total number of tweet over time"
   ]
  },
  {
   "cell_type": "code",
   "execution_count": 0,
   "metadata": {
    "colab": {
     "base_uri": "https://localhost:8080/",
     "height": 292
    },
    "colab_type": "code",
    "id": "BEmLOlmJcZBI",
    "outputId": "2bfb7230-caed-4668-d418-79dafe3098d6"
   },
   "outputs": [
    {
     "data": {
      "text/html": [
       "<div>\n",
       "<style scoped>\n",
       "    .dataframe tbody tr th:only-of-type {\n",
       "        vertical-align: middle;\n",
       "    }\n",
       "\n",
       "    .dataframe tbody tr th {\n",
       "        vertical-align: top;\n",
       "    }\n",
       "\n",
       "    .dataframe thead th {\n",
       "        text-align: right;\n",
       "    }\n",
       "</style>\n",
       "<table border=\"1\" class=\"dataframe\">\n",
       "  <thead>\n",
       "    <tr style=\"text-align: right;\">\n",
       "      <th></th>\n",
       "      <th>timestamp</th>\n",
       "      <th>tweet_id</th>\n",
       "      <th>source</th>\n",
       "      <th>text</th>\n",
       "      <th>expanded_urls</th>\n",
       "      <th>rating_numerator</th>\n",
       "      <th>rating_denominator</th>\n",
       "      <th>name</th>\n",
       "      <th>dog_type</th>\n",
       "      <th>rating</th>\n",
       "      <th>jpg_url</th>\n",
       "      <th>p1</th>\n",
       "      <th>p1_conf</th>\n",
       "      <th>p1_dog</th>\n",
       "      <th>p2</th>\n",
       "      <th>p2_conf</th>\n",
       "      <th>p2_dog</th>\n",
       "      <th>p3</th>\n",
       "      <th>p3_conf</th>\n",
       "      <th>p3_dog</th>\n",
       "      <th>dog_breed</th>\n",
       "    </tr>\n",
       "  </thead>\n",
       "  <tbody>\n",
       "    <tr>\n",
       "      <th>0</th>\n",
       "      <td>2015-11-30</td>\n",
       "      <td>296</td>\n",
       "      <td>296</td>\n",
       "      <td>296</td>\n",
       "      <td>296</td>\n",
       "      <td>296</td>\n",
       "      <td>296</td>\n",
       "      <td>296</td>\n",
       "      <td>296</td>\n",
       "      <td>296</td>\n",
       "      <td>296</td>\n",
       "      <td>296</td>\n",
       "      <td>296</td>\n",
       "      <td>296</td>\n",
       "      <td>296</td>\n",
       "      <td>296</td>\n",
       "      <td>296</td>\n",
       "      <td>296</td>\n",
       "      <td>296</td>\n",
       "      <td>296</td>\n",
       "      <td>296</td>\n",
       "    </tr>\n",
       "    <tr>\n",
       "      <th>1</th>\n",
       "      <td>2015-12-31</td>\n",
       "      <td>367</td>\n",
       "      <td>367</td>\n",
       "      <td>367</td>\n",
       "      <td>367</td>\n",
       "      <td>367</td>\n",
       "      <td>367</td>\n",
       "      <td>367</td>\n",
       "      <td>367</td>\n",
       "      <td>367</td>\n",
       "      <td>367</td>\n",
       "      <td>367</td>\n",
       "      <td>367</td>\n",
       "      <td>367</td>\n",
       "      <td>367</td>\n",
       "      <td>367</td>\n",
       "      <td>367</td>\n",
       "      <td>367</td>\n",
       "      <td>367</td>\n",
       "      <td>367</td>\n",
       "      <td>367</td>\n",
       "    </tr>\n",
       "    <tr>\n",
       "      <th>2</th>\n",
       "      <td>2016-01-31</td>\n",
       "      <td>169</td>\n",
       "      <td>169</td>\n",
       "      <td>169</td>\n",
       "      <td>169</td>\n",
       "      <td>169</td>\n",
       "      <td>169</td>\n",
       "      <td>169</td>\n",
       "      <td>169</td>\n",
       "      <td>169</td>\n",
       "      <td>169</td>\n",
       "      <td>169</td>\n",
       "      <td>169</td>\n",
       "      <td>169</td>\n",
       "      <td>169</td>\n",
       "      <td>169</td>\n",
       "      <td>169</td>\n",
       "      <td>169</td>\n",
       "      <td>169</td>\n",
       "      <td>169</td>\n",
       "      <td>169</td>\n",
       "    </tr>\n",
       "    <tr>\n",
       "      <th>3</th>\n",
       "      <td>2016-02-29</td>\n",
       "      <td>111</td>\n",
       "      <td>111</td>\n",
       "      <td>111</td>\n",
       "      <td>111</td>\n",
       "      <td>111</td>\n",
       "      <td>111</td>\n",
       "      <td>111</td>\n",
       "      <td>111</td>\n",
       "      <td>111</td>\n",
       "      <td>111</td>\n",
       "      <td>111</td>\n",
       "      <td>111</td>\n",
       "      <td>111</td>\n",
       "      <td>111</td>\n",
       "      <td>111</td>\n",
       "      <td>111</td>\n",
       "      <td>111</td>\n",
       "      <td>111</td>\n",
       "      <td>111</td>\n",
       "      <td>111</td>\n",
       "    </tr>\n",
       "    <tr>\n",
       "      <th>4</th>\n",
       "      <td>2016-03-31</td>\n",
       "      <td>120</td>\n",
       "      <td>120</td>\n",
       "      <td>120</td>\n",
       "      <td>120</td>\n",
       "      <td>120</td>\n",
       "      <td>120</td>\n",
       "      <td>120</td>\n",
       "      <td>120</td>\n",
       "      <td>120</td>\n",
       "      <td>120</td>\n",
       "      <td>120</td>\n",
       "      <td>120</td>\n",
       "      <td>120</td>\n",
       "      <td>120</td>\n",
       "      <td>120</td>\n",
       "      <td>120</td>\n",
       "      <td>120</td>\n",
       "      <td>120</td>\n",
       "      <td>120</td>\n",
       "      <td>120</td>\n",
       "    </tr>\n",
       "  </tbody>\n",
       "</table>\n",
       "</div>"
      ],
      "text/plain": [
       "   timestamp  tweet_id  source  text  ...   p3  p3_conf  p3_dog  dog_breed\n",
       "0 2015-11-30       296     296   296  ...  296      296     296        296\n",
       "1 2015-12-31       367     367   367  ...  367      367     367        367\n",
       "2 2016-01-31       169     169   169  ...  169      169     169        169\n",
       "3 2016-02-29       111     111   111  ...  111      111     111        111\n",
       "4 2016-03-31       120     120   120  ...  120      120     120        120\n",
       "\n",
       "[5 rows x 21 columns]"
      ]
     },
     "execution_count": 179,
     "metadata": {
      "tags": []
     },
     "output_type": "execute_result"
    }
   ],
   "source": [
    "# first begin by grouping the data monthly\n",
    "df_monthly = df_tweets_dogs.groupby(pd.Grouper(key = 'timestamp', freq = \"M\")).count().reset_index()\n",
    "# Review the new dataframe\n",
    "df_monthly.head()"
   ]
  },
  {
   "cell_type": "code",
   "execution_count": 0,
   "metadata": {
    "colab": {
     "base_uri": "https://localhost:8080/",
     "height": 472
    },
    "colab_type": "code",
    "id": "P9xj20kbfEJg",
    "outputId": "c7eef682-1c57-4657-e69d-af537d2e3d7e"
   },
   "outputs": [
    {
     "name": "stdout",
     "output_type": "stream",
     "text": [
      "<class 'pandas.core.frame.DataFrame'>\n",
      "RangeIndex: 22 entries, 0 to 21\n",
      "Data columns (total 21 columns):\n",
      " #   Column              Non-Null Count  Dtype         \n",
      "---  ------              --------------  -----         \n",
      " 0   timestamp           22 non-null     datetime64[ns]\n",
      " 1   tweet_id            22 non-null     int64         \n",
      " 2   source              22 non-null     int64         \n",
      " 3   text                22 non-null     int64         \n",
      " 4   expanded_urls       22 non-null     int64         \n",
      " 5   rating_numerator    22 non-null     int64         \n",
      " 6   rating_denominator  22 non-null     int64         \n",
      " 7   name                22 non-null     int64         \n",
      " 8   dog_type            22 non-null     int64         \n",
      " 9   rating              22 non-null     int64         \n",
      " 10  jpg_url             22 non-null     int64         \n",
      " 11  p1                  22 non-null     int64         \n",
      " 12  p1_conf             22 non-null     int64         \n",
      " 13  p1_dog              22 non-null     int64         \n",
      " 14  p2                  22 non-null     int64         \n",
      " 15  p2_conf             22 non-null     int64         \n",
      " 16  p2_dog              22 non-null     int64         \n",
      " 17  p3                  22 non-null     int64         \n",
      " 18  p3_conf             22 non-null     int64         \n",
      " 19  p3_dog              22 non-null     int64         \n",
      " 20  dog_breed           22 non-null     int64         \n",
      "dtypes: datetime64[ns](1), int64(20)\n",
      "memory usage: 3.7 KB\n"
     ]
    }
   ],
   "source": [
    "df_monthly.info()"
   ]
  },
  {
   "cell_type": "code",
   "execution_count": 0,
   "metadata": {
    "colab": {
     "base_uri": "https://localhost:8080/",
     "height": 500
    },
    "colab_type": "code",
    "id": "rYv5e_tQd3jc",
    "outputId": "568f725c-572c-44f0-d087-0ddbf7b0be89"
   },
   "outputs": [
    {
     "data": {
      "text/plain": [
       "Text(0, 0.5, 'Twwet Count')"
      ]
     },
     "execution_count": 184,
     "metadata": {
      "tags": []
     },
     "output_type": "execute_result"
    },
    {
     "data": {
      "image/png": "[encoded data removed]",
      "text/plain": [
       "<Figure size 900x500 with 1 Axes>"
      ]
     },
     "metadata": {
      "needs_background": "light",
      "tags": []
     },
     "output_type": "display_data"
    }
   ],
   "source": [
    "plt.figure(figsize=(9,5), dpi = 100)\n",
    "plt.plot(df_monthly.timestamp,df_monthly.tweet_id)\n",
    "plt.title('Number of Tweets over Time')\n",
    "plt.xlabel('Time', fontsize=12)\n",
    "plt.ylabel('Twwet Count', fontsize=12)"
   ]
  },
  {
   "cell_type": "markdown",
   "metadata": {
    "colab_type": "text",
    "id": "j0iZTtLefnfH"
   },
   "source": [
    "Overall, there is a downward trend in number of tweets per month. There are few times when an increase in monthly tweets was observed. This seemed to happen between 2016-04 to 2016-10. A plausible reason for this decline could be due to emergence of new social media platforms."
   ]
  },
  {
   "cell_type": "markdown",
   "metadata": {
    "colab_type": "text",
    "id": "Al7vRSV2f9CE"
   },
   "source": [
    "## Visualization 2\n",
    "\n",
    "Most popular Dog Breeds"
   ]
  },
  {
   "cell_type": "code",
   "execution_count": 0,
   "metadata": {
    "colab": {
     "base_uri": "https://localhost:8080/",
     "height": 552
    },
    "colab_type": "code",
    "id": "WJDk5VGufHjU",
    "outputId": "c40f13cf-7b27-42d6-af84-cf3e38de7727"
   },
   "outputs": [
    {
     "data": {
      "text/html": [
       "<div>\n",
       "<style scoped>\n",
       "    .dataframe tbody tr th:only-of-type {\n",
       "        vertical-align: middle;\n",
       "    }\n",
       "\n",
       "    .dataframe tbody tr th {\n",
       "        vertical-align: top;\n",
       "    }\n",
       "\n",
       "    .dataframe thead th {\n",
       "        text-align: right;\n",
       "    }\n",
       "</style>\n",
       "<table border=\"1\" class=\"dataframe\">\n",
       "  <thead>\n",
       "    <tr style=\"text-align: right;\">\n",
       "      <th></th>\n",
       "      <th>tweet_id</th>\n",
       "      <th>timestamp</th>\n",
       "      <th>source</th>\n",
       "      <th>text</th>\n",
       "      <th>expanded_urls</th>\n",
       "      <th>rating_numerator</th>\n",
       "      <th>rating_denominator</th>\n",
       "      <th>name</th>\n",
       "      <th>dog_type</th>\n",
       "      <th>rating</th>\n",
       "      <th>jpg_url</th>\n",
       "      <th>p1</th>\n",
       "      <th>p1_conf</th>\n",
       "      <th>p1_dog</th>\n",
       "      <th>p2</th>\n",
       "      <th>p2_conf</th>\n",
       "      <th>p2_dog</th>\n",
       "      <th>p3</th>\n",
       "      <th>p3_conf</th>\n",
       "      <th>p3_dog</th>\n",
       "      <th>dog_breed</th>\n",
       "    </tr>\n",
       "  </thead>\n",
       "  <tbody>\n",
       "    <tr>\n",
       "      <th>0</th>\n",
       "      <td>892420643555336193</td>\n",
       "      <td>2017-08-01 16:23:56</td>\n",
       "      <td>Twitter for iPhone</td>\n",
       "      <td>This is Phineas. He's a mystical boy. Only eve...</td>\n",
       "      <td>https://twitter.com/dog_rates/status/892420643...</td>\n",
       "      <td>13.0</td>\n",
       "      <td>10.0</td>\n",
       "      <td>Phineas</td>\n",
       "      <td>None</td>\n",
       "      <td>1.3</td>\n",
       "      <td>https://pbs.twimg.com/media/DGKD1-bXoAAIAUK.jpg</td>\n",
       "      <td>orange</td>\n",
       "      <td>0.097049</td>\n",
       "      <td>False</td>\n",
       "      <td>bagel</td>\n",
       "      <td>0.085851</td>\n",
       "      <td>False</td>\n",
       "      <td>banana</td>\n",
       "      <td>0.076110</td>\n",
       "      <td>False</td>\n",
       "      <td>None</td>\n",
       "    </tr>\n",
       "    <tr>\n",
       "      <th>1</th>\n",
       "      <td>892177421306343426</td>\n",
       "      <td>2017-08-01 00:17:27</td>\n",
       "      <td>Twitter for iPhone</td>\n",
       "      <td>This is Tilly. She's just checking pup on you....</td>\n",
       "      <td>https://twitter.com/dog_rates/status/892177421...</td>\n",
       "      <td>13.0</td>\n",
       "      <td>10.0</td>\n",
       "      <td>Tilly</td>\n",
       "      <td>None</td>\n",
       "      <td>1.3</td>\n",
       "      <td>https://pbs.twimg.com/media/DGGmoV4XsAAUL6n.jpg</td>\n",
       "      <td>Chihuahua</td>\n",
       "      <td>0.323581</td>\n",
       "      <td>True</td>\n",
       "      <td>Pekinese</td>\n",
       "      <td>0.090647</td>\n",
       "      <td>True</td>\n",
       "      <td>papillon</td>\n",
       "      <td>0.068957</td>\n",
       "      <td>True</td>\n",
       "      <td>Chihuahua</td>\n",
       "    </tr>\n",
       "    <tr>\n",
       "      <th>2</th>\n",
       "      <td>891815181378084864</td>\n",
       "      <td>2017-07-31 00:18:03</td>\n",
       "      <td>Twitter for iPhone</td>\n",
       "      <td>This is Archie. He is a rare Norwegian Pouncin...</td>\n",
       "      <td>https://twitter.com/dog_rates/status/891815181...</td>\n",
       "      <td>12.0</td>\n",
       "      <td>10.0</td>\n",
       "      <td>Archie</td>\n",
       "      <td>None</td>\n",
       "      <td>1.2</td>\n",
       "      <td>https://pbs.twimg.com/media/DGBdLU1WsAANxJ9.jpg</td>\n",
       "      <td>Chihuahua</td>\n",
       "      <td>0.716012</td>\n",
       "      <td>True</td>\n",
       "      <td>malamute</td>\n",
       "      <td>0.078253</td>\n",
       "      <td>True</td>\n",
       "      <td>kelpie</td>\n",
       "      <td>0.031379</td>\n",
       "      <td>True</td>\n",
       "      <td>Chihuahua</td>\n",
       "    </tr>\n",
       "    <tr>\n",
       "      <th>3</th>\n",
       "      <td>891689557279858688</td>\n",
       "      <td>2017-07-30 15:58:51</td>\n",
       "      <td>Twitter for iPhone</td>\n",
       "      <td>This is Darla. She commenced a snooze mid meal...</td>\n",
       "      <td>https://twitter.com/dog_rates/status/891689557...</td>\n",
       "      <td>13.0</td>\n",
       "      <td>10.0</td>\n",
       "      <td>Darla</td>\n",
       "      <td>None</td>\n",
       "      <td>1.3</td>\n",
       "      <td>https://pbs.twimg.com/media/DF_q7IAWsAEuuN8.jpg</td>\n",
       "      <td>paper_towel</td>\n",
       "      <td>0.170278</td>\n",
       "      <td>False</td>\n",
       "      <td>Labrador_retriever</td>\n",
       "      <td>0.168086</td>\n",
       "      <td>True</td>\n",
       "      <td>spatula</td>\n",
       "      <td>0.040836</td>\n",
       "      <td>False</td>\n",
       "      <td>Labrador_retriever</td>\n",
       "    </tr>\n",
       "    <tr>\n",
       "      <th>5</th>\n",
       "      <td>891087950875897856</td>\n",
       "      <td>2017-07-29 00:08:17</td>\n",
       "      <td>Twitter for iPhone</td>\n",
       "      <td>Here we have a majestic great white breaching ...</td>\n",
       "      <td>https://twitter.com/dog_rates/status/891087950...</td>\n",
       "      <td>13.0</td>\n",
       "      <td>10.0</td>\n",
       "      <td>None</td>\n",
       "      <td>None</td>\n",
       "      <td>1.3</td>\n",
       "      <td>https://pbs.twimg.com/media/DF3HwyEWsAABqE6.jpg</td>\n",
       "      <td>Chesapeake_Bay_retriever</td>\n",
       "      <td>0.425595</td>\n",
       "      <td>True</td>\n",
       "      <td>Irish_terrier</td>\n",
       "      <td>0.116317</td>\n",
       "      <td>True</td>\n",
       "      <td>Indian_elephant</td>\n",
       "      <td>0.076902</td>\n",
       "      <td>False</td>\n",
       "      <td>Chesapeake_Bay_retriever</td>\n",
       "    </tr>\n",
       "  </tbody>\n",
       "</table>\n",
       "</div>"
      ],
      "text/plain": [
       "             tweet_id           timestamp  ... p3_dog                 dog_breed\n",
       "0  892420643555336193 2017-08-01 16:23:56  ...  False                      None\n",
       "1  892177421306343426 2017-08-01 00:17:27  ...   True                 Chihuahua\n",
       "2  891815181378084864 2017-07-31 00:18:03  ...   True                 Chihuahua\n",
       "3  891689557279858688 2017-07-30 15:58:51  ...  False        Labrador_retriever\n",
       "5  891087950875897856 2017-07-29 00:08:17  ...  False  Chesapeake_Bay_retriever\n",
       "\n",
       "[5 rows x 21 columns]"
      ]
     },
     "execution_count": 186,
     "metadata": {
      "tags": []
     },
     "output_type": "execute_result"
    }
   ],
   "source": [
    "# group by dog breeds and only consider ones which have a count greater than 20\n",
    "df_dog_breed = df_tweets_dogs.groupby('dog_breed').filter(lambda x: len(x) >= 20)\n",
    "\n",
    "df_dog_breed.head()"
   ]
  },
  {
   "cell_type": "code",
   "execution_count": 0,
   "metadata": {
    "colab": {
     "base_uri": "https://localhost:8080/",
     "height": 375
    },
    "colab_type": "code",
    "id": "PHqEmz_ghPOI",
    "outputId": "494f130f-280b-4130-c997-256acf3b7c4c"
   },
   "outputs": [
    {
     "data": {
      "text/plain": [
       "golden_retriever             158\n",
       "Labrador_retriever           108\n",
       "Pembroke                      95\n",
       "Chihuahua                     91\n",
       "pug                           62\n",
       "toy_poodle                    51\n",
       "chow                          48\n",
       "Pomeranian                    42\n",
       "Samoyed                       42\n",
       "malamute                      33\n",
       "French_bulldog                31\n",
       "Chesapeake_Bay_retriever      31\n",
       "cocker_spaniel                30\n",
       "miniature_pinscher            25\n",
       "Eskimo_dog                    22\n",
       "Staffordshire_bullterrier     21\n",
       "German_shepherd               21\n",
       "Cardigan                      21\n",
       "beagle                        20\n",
       "Siberian_husky                20\n",
       "Shih-Tzu                      20\n",
       "Name: dog_breed, dtype: int64"
      ]
     },
     "execution_count": 209,
     "metadata": {
      "tags": []
     },
     "output_type": "execute_result"
    }
   ],
   "source": [
    "dog_breed_counts = df_dog_breed['dog_breed'].value_counts()\n",
    "dog_breed_counts.drop(index='None', inplace=True)\n",
    "dog_breed_counts"
   ]
  },
  {
   "cell_type": "code",
   "execution_count": 0,
   "metadata": {
    "colab": {
     "base_uri": "https://localhost:8080/",
     "height": 677
    },
    "colab_type": "code",
    "id": "Dt96jtFXgiZT",
    "outputId": "8269cfb6-9cab-41e1-ac35-46a32e957d23"
   },
   "outputs": [
    {
     "data": {
      "image/png": "[encoded data removed]",
      "text/plain": [
       "<Figure size 1200x900 with 1 Axes>"
      ]
     },
     "metadata": {
      "needs_background": "light",
      "tags": []
     },
     "output_type": "display_data"
    }
   ],
   "source": [
    "plt.figure(figsize=(12,9), dpi = 100)\n",
    "\n",
    "dog_breed_counts.plot(kind = 'barh', fontsize=14)\n",
    "plt.title('Popular Dog Breeds')\n",
    "plt.xlabel('Count', fontsize=14)\n",
    "plt.ylabel('Breed of dog', fontsize=14);\n",
    "\n",
    "fig = plt.gcf() \n",
    "fig.savefig('Popular_Dog_Breeds.png',bbox_inches='tight');"
   ]
  },
  {
   "cell_type": "markdown",
   "metadata": {},
   "source": [
    "Golden retrievers are by far the most popular breed followed by Labrador retriever and Pembroke. This is based on the number of times each dog was tweeted about."
   ]
  },
  {
   "cell_type": "markdown",
   "metadata": {
    "colab_type": "text",
    "id": "BRcns3Vcj8FB"
   },
   "source": [
    "## Visualization 3\n",
    "\n"
   ]
  },
  {
   "cell_type": "markdown",
   "metadata": {
    "colab_type": "text",
    "id": "6e5MDwqR3hWC"
   },
   "source": [
    "Ratings Distribution"
   ]
  },
  {
   "cell_type": "code",
   "execution_count": 0,
   "metadata": {
    "colab": {
     "base_uri": "https://localhost:8080/",
     "height": 472
    },
    "colab_type": "code",
    "id": "ZjQx1DM26VJu",
    "outputId": "bfc1ad8e-578a-4f39-eeb1-3fb7dc9a31c1"
   },
   "outputs": [
    {
     "name": "stdout",
     "output_type": "stream",
     "text": [
      "<class 'pandas.core.frame.DataFrame'>\n",
      "Int64Index: 1994 entries, 0 to 1993\n",
      "Data columns (total 21 columns):\n",
      " #   Column              Non-Null Count  Dtype         \n",
      "---  ------              --------------  -----         \n",
      " 0   tweet_id            1994 non-null   object        \n",
      " 1   timestamp           1994 non-null   datetime64[ns]\n",
      " 2   source              1994 non-null   object        \n",
      " 3   text                1994 non-null   object        \n",
      " 4   expanded_urls       1994 non-null   object        \n",
      " 5   rating_numerator    1994 non-null   float64       \n",
      " 6   rating_denominator  1994 non-null   float64       \n",
      " 7   name                1994 non-null   object        \n",
      " 8   dog_type            1994 non-null   object        \n",
      " 9   rating              1994 non-null   float64       \n",
      " 10  jpg_url             1994 non-null   object        \n",
      " 11  p1                  1994 non-null   object        \n",
      " 12  p1_conf             1994 non-null   float64       \n",
      " 13  p1_dog              1994 non-null   bool          \n",
      " 14  p2                  1994 non-null   object        \n",
      " 15  p2_conf             1994 non-null   float64       \n",
      " 16  p2_dog              1994 non-null   bool          \n",
      " 17  p3                  1994 non-null   object        \n",
      " 18  p3_conf             1994 non-null   float64       \n",
      " 19  p3_dog              1994 non-null   bool          \n",
      " 20  dog_breed           1994 non-null   object        \n",
      "dtypes: bool(3), datetime64[ns](1), float64(6), object(11)\n",
      "memory usage: 301.8+ KB\n"
     ]
    }
   ],
   "source": [
    "df_tweets_dogs.info()"
   ]
  },
  {
   "cell_type": "code",
   "execution_count": 0,
   "metadata": {
    "colab": {
     "base_uri": "https://localhost:8080/",
     "height": 915
    },
    "colab_type": "code",
    "id": "8UiQKBX735bI",
    "outputId": "93c54eb1-9366-441c-b585-bca26895f0d7"
   },
   "outputs": [
    {
     "name": "stderr",
     "output_type": "stream",
     "text": [
      "/usr/local/lib/python3.6/dist-packages/ipykernel_launcher.py:2: SettingWithCopyWarning: \n",
      "A value is trying to be set on a copy of a slice from a DataFrame.\n",
      "Try using .loc[row_indexer,col_indexer] = value instead\n",
      "\n",
      "See the caveats in the documentation: https://pandas.pydata.org/pandas-docs/stable/user_guide/indexing.html#returning-a-view-versus-a-copy\n",
      "  \n"
     ]
    },
    {
     "data": {
      "image/png": "[encoded data removed]",
      "text/plain": [
       "<Figure size 1200x900 with 1 Axes>"
      ]
     },
     "metadata": {
      "needs_background": "light",
      "tags": []
     },
     "output_type": "display_data"
    }
   ],
   "source": [
    "df_tweets_rating = df_tweets_dogs.query('rating_numerator <= 14');\n",
    "df_tweets_rating['rating_numerator'] = df_tweets_rating['rating_numerator'].astype('int');\n",
    "rating_counts = df_tweets_rating.groupby(['rating_numerator']).count()['tweet_id'];\n",
    "plt.figure(figsize=(12,9), dpi = 100);\n",
    "rating_counts.plot(kind='bar', fontsize=14);\n",
    "plt.xlabel('Rating Numerator', fontsize=14);\n",
    "plt.ylabel('Counts', fontsize=14);\n",
    "plt.title('Rating Distribution', fontsize=14);\n",
    "\n",
    "plt.savefig('common_ratings.png')"
   ]
  },
  {
   "cell_type": "markdown",
   "metadata": {},
   "source": [
    "The distribution of dog ratings numerator seems to be skewed to the right. Once again this is to be expected as dogs who are popular or have higher ratings are the ones who are frequently tweeted about."
   ]
  },
  {
   "cell_type": "markdown",
   "metadata": {
    "colab_type": "text",
    "id": "_B8ZHO3T3Thf"
   },
   "source": [
    "## Visualization 4"
   ]
  },
  {
   "cell_type": "markdown",
   "metadata": {
    "colab_type": "text",
    "id": "_UyhQjbf3Mj4"
   },
   "source": [
    "Most Common Dog Name"
   ]
  },
  {
   "cell_type": "code",
   "execution_count": 0,
   "metadata": {
    "colab": {
     "base_uri": "https://localhost:8080/",
     "height": 180
    },
    "colab_type": "code",
    "id": "HTZlSdu2qHER",
    "outputId": "ce87e939-1829-4382-f058-799b2cc072ba"
   },
   "outputs": [
    {
     "data": {
      "text/plain": [
       "Charlie    11\n",
       "Oliver     10\n",
       "Lucy       10\n",
       "Cooper     10\n",
       "Tucker      9\n",
       "Penny       9\n",
       "Winston     8\n",
       "Sadie       8\n",
       "Lola        7\n",
       "Name: name, dtype: int64"
      ]
     },
     "execution_count": 243,
     "metadata": {
      "tags": []
     },
     "output_type": "execute_result"
    }
   ],
   "source": [
    "name_counts= df_tweets_dogs['name'].value_counts()\n",
    "name_counts = name_counts[:10]\n",
    "name_counts.drop(index='None', inplace=True)\n",
    "name_counts"
   ]
  },
  {
   "cell_type": "code",
   "execution_count": 0,
   "metadata": {
    "colab": {
     "base_uri": "https://localhost:8080/",
     "height": 790
    },
    "colab_type": "code",
    "id": "gWAGcUOspepH",
    "outputId": "dd0b8ff8-7e9f-43f2-e720-2ceee6a08bf6"
   },
   "outputs": [
    {
     "data": {
      "image/png": "[encoded data removed]",
      "text/plain": [
       "<Figure size 1200x900 with 1 Axes>"
      ]
     },
     "metadata": {
      "needs_background": "light",
      "tags": []
     },
     "output_type": "display_data"
    }
   ],
   "source": [
    "plt.figure(figsize=(12,9), dpi = 100)\n",
    "name_counts.plot(kind = 'barh', fontsize=14)\n",
    "plt.title('Popular Dog Names')\n",
    "plt.xlabel('Count', fontsize=14)\n",
    "plt.ylabel('Names', fontsize=14);\n",
    "\n",
    "fig = plt.gcf() \n",
    "fig.savefig('Popular_Dog_Names.png',bbox_inches='tight');"
   ]
  },
  {
   "cell_type": "markdown",
   "metadata": {},
   "source": [
    "It is quite interesting to observe the most common names of dogs being tweeted. The top 10 choices are pretty close with not much differentiate between them in terms of counts. One would have assumes certain names are way more common then others. But data shows that there is plenty of variety when it comes to name choice."
   ]
  },
  {
   "cell_type": "markdown",
   "metadata": {
    "colab_type": "text",
    "id": "yYTg1MDmAEQp"
   },
   "source": [
    "## Visualization 5"
   ]
  },
  {
   "cell_type": "markdown",
   "metadata": {
    "colab_type": "text",
    "id": "m8K6ypDvBCdi"
   },
   "source": [
    "Explore the relationship between Retweets and Likes"
   ]
  },
  {
   "cell_type": "code",
   "execution_count": 0,
   "metadata": {
    "colab": {
     "base_uri": "https://localhost:8080/",
     "height": 245
    },
    "colab_type": "code",
    "id": "aaXVTM5RDQcX",
    "outputId": "4f86d801-bd90-4894-e430-7e03e1a81abb"
   },
   "outputs": [
    {
     "name": "stdout",
     "output_type": "stream",
     "text": [
      "<class 'pandas.core.frame.DataFrame'>\n",
      "RangeIndex: 2330 entries, 0 to 2329\n",
      "Data columns (total 7 columns):\n",
      " #   Column           Non-Null Count  Dtype \n",
      "---  ------           --------------  ----- \n",
      " 0   tweet_id         2330 non-null   object\n",
      " 1   favorite_count   2330 non-null   int64 \n",
      " 2   retweet_count    2330 non-null   int64 \n",
      " 3   followers_count  2330 non-null   int64 \n",
      " 4   friends_count    2330 non-null   int64 \n",
      " 5   listed_count     2330 non-null   int64 \n",
      " 6   statuses_count   2330 non-null   int64 \n",
      "dtypes: int64(6), object(1)\n",
      "memory usage: 127.5+ KB\n"
     ]
    }
   ],
   "source": [
    "df_tweets_api_clean.info()"
   ]
  },
  {
   "cell_type": "code",
   "execution_count": 0,
   "metadata": {
    "colab": {
     "base_uri": "https://localhost:8080/",
     "height": 787
    },
    "colab_type": "code",
    "id": "rITyvet6Bcgg",
    "outputId": "6ae9bd9b-4913-447a-a010-7c647cccecc1"
   },
   "outputs": [
    {
     "data": {
      "image/png": "[encoded data removed]",
      "text/plain": [
       "<Figure size 1200x900 with 1 Axes>"
      ]
     },
     "metadata": {
      "needs_background": "light",
      "tags": []
     },
     "output_type": "display_data"
    }
   ],
   "source": [
    "plt.figure(figsize=(12,9), dpi = 100)\n",
    "plt.scatter(x=df_tweets_api_clean['favorite_count'],y=df_tweets_api_clean['retweet_count'])\n",
    "plt.title('Favorites Count Vs Retweet Count')\n",
    "plt.xlabel('Favorites', fontsize=14)\n",
    "plt.ylabel('Retweets', fontsize=14);\n",
    "\n",
    "fig = plt.gcf() \n",
    "fig.savefig('Favorites_Retweets.png',bbox_inches='tight');"
   ]
  },
  {
   "cell_type": "markdown",
   "metadata": {},
   "source": [
    "We observe a strong positive trend between retweets count and favorite(like) counts. This is to be expected as most people who favorite a tweet tend to retweet it."
   ]
  }
 ],
 "metadata": {
  "colab": {
   "collapsed_sections": [
    "9tYBt1hRne6p",
    "OXYJjDRFkym0",
    "LRqtLxmWtLRw",
    "PLrOGRRwvf3O",
    "UweV8yJiAE3Y"
   ],
   "name": "wrangle_act",
   "provenance": []
  },
  "kernelspec": {
   "display_name": "Python 3",
   "language": "python",
   "name": "python3"
  },
  "language_info": {
   "codemirror_mode": {
    "name": "ipython",
    "version": 3
   },
   "file_extension": ".py",
   "mimetype": "text/x-python",
   "name": "python",
   "nbconvert_exporter": "python",
   "pygments_lexer": "ipython3",
   "version": "3.6.10"
  }
 },
 "nbformat": 4,
 "nbformat_minor": 1
}
